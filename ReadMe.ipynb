{
 "cells": [
  {
   "cell_type": "markdown",
   "metadata": {},
   "source": [
    "### Predicting Diabetes using dietary information"
   ]
  },
  {
   "cell_type": "markdown",
   "metadata": {},
   "source": [
    "[Data Source] (https://www.kaggle.com/cdc/national-health-and-nutrition-examination-survey)"
   ]
  },
  {
   "cell_type": "markdown",
   "metadata": {},
   "source": [
    "#### Using the data from The National Health and Nutrition Survey, we will attempt to predict a Diabetes diagnosis from the detailed dietary information obtained through interviews.\n"
   ]
  },
  {
   "cell_type": "markdown",
   "metadata": {},
   "source": [
    "## Data cleaning"
   ]
  },
  {
   "cell_type": "markdown",
   "metadata": {},
   "source": [
    "#### The first task with this data set is to combine the two files which contain the information we need for the analysis.  \n",
    "- The first file \"diet\" contains answers to questions about dietary habits.\n",
    "- The second file \"questionnaire\"  has information about the resopondents health conditions including whether or not they have been diagnosed with diabetes or not."
   ]
  },
  {
   "cell_type": "markdown",
   "metadata": {},
   "source": [
    "#### The two files will be joined using the common column \"seqn\" which is the unique identifier for each respondent."
   ]
  },
  {
   "cell_type": "markdown",
   "metadata": {},
   "source": [
    "#### The resulting dataframe is below.\n",
    "- the shape is below and consists of 168 features and 9813 instances."
   ]
  },
  {
   "cell_type": "markdown",
   "metadata": {},
   "source": [
    "<img src=\"working_dataset.PNG\" alt=\"WOrking DataSet Graphic\" title=\"Working DataSet\" />"
   ]
  },
  {
   "cell_type": "markdown",
   "metadata": {},
   "source": [
    "#### Many of the columns are not necessary for our analysis, so we dropped them.\n",
    "- __'SEQN1'__ is the same as __'SEQN'__ and is not necessary after the join\n",
    "- __'DR1EXMER'__ is an identifier for the interviewer\n",
    "- __'DR1DBIH'__ is the number of days elapsed between the exam and interview\n",
    "- __'DR1LANG'__ is the language used by the respondent for the interview\n",
    "- __'DR1MNRSP'__ is the person who answered the questions, subject or caretaker\n",
    "- __'DR1HELPD'__ identifies who helped answer the questions, if anyone"
   ]
  },
  {
   "cell_type": "markdown",
   "metadata": {},
   "source": [
    "#### There were a pretty good amount of NaN values, so we dealt with them using the Pandas function fillna\n",
    "- Other than the NaN values, the dataset was clean with the exception of some placeholders which were cleaned up using a custom function we created called _\"fix_placeholder\"_"
   ]
  },
  {
   "cell_type": "markdown",
   "metadata": {},
   "source": [
    "#### Our target, DIQ010 has multiple values.  We dropped the few that were refused, didn't know or were missing,\n",
    "\n",
    "we also combined the borderline responses with the yes responses to treat them as a confirmed diagnosis for this analysis."
   ]
  },
  {
   "cell_type": "markdown",
   "metadata": {},
   "source": [
    "#### After cleaning and organizing, the cleaned data was saved to a new file, \"DIQ010_Target.csv\""
   ]
  },
  {
   "cell_type": "markdown",
   "metadata": {
    "ExecuteTime": {
     "end_time": "2020-02-11T22:06:57.696905Z",
     "start_time": "2020-02-11T22:06:57.691905Z"
    }
   },
   "source": [
    "## Modeling"
   ]
  },
  {
   "cell_type": "markdown",
   "metadata": {},
   "source": [
    "#### A first look at the data revealed that it is unbalanced.  \n",
    "- We used SMOTE to balance it out for analysis."
   ]
  },
  {
   "cell_type": "markdown",
   "metadata": {},
   "source": [
    "<img src=\"Imbalanced Data Diag.jpg\" alt=\"Data Distribution Graphic\" title=\"Data Distributuion Graph\" />"
   ]
  },
  {
   "cell_type": "markdown",
   "metadata": {},
   "source": [
    "#### Once the data was loaded, and a preliminary model was run, it was discovered that the _'id'_ column was causing leaked data.  \n",
    "- This column was removed."
   ]
  },
  {
   "cell_type": "markdown",
   "metadata": {},
   "source": [
    "### Modeling\n",
    "- RandomForestClassifier"
   ]
  },
  {
   "cell_type": "markdown",
   "metadata": {
    "ExecuteTime": {
     "end_time": "2020-02-12T14:58:50.383767Z",
     "start_time": "2020-02-12T14:58:50.378771Z"
    }
   },
   "source": [
    "<img src=\"rf_cm_graph.jpg\" alt=\"RF Confusion Matrix Graph\" title=\"Random Forest Confusion Matrix\" />"
   ]
  },
  {
   "cell_type": "markdown",
   "metadata": {},
   "source": [
    "This classifier is optimizing for precision and was not yielding the desired results."
   ]
  },
  {
   "cell_type": "markdown",
   "metadata": {},
   "source": [
    "#### Using GridSearchCV we will try all combinations of a few hyperparameters.\n",
    "- _n_estimators_\n",
    "    - Using 10, 20, 50, and 100\n",
    "- _criterion_\n",
    "    - entropy and gini\n",
    "- _max_depth_\n",
    "    - 1, 2, 5, and 10\n",
    "- _min_samples_split_\n",
    "    - 0, 1, 2, and 3"
   ]
  },
  {
   "cell_type": "markdown",
   "metadata": {},
   "source": [
    "Using the best_params_ function we retrieved the following results:\n",
    "- criterion': 'gini',\n",
    "- max_depth': 1,\n",
    "- min_samples_split': 2,\n",
    "- n_estimators': 10"
   ]
  },
  {
   "cell_type": "markdown",
   "metadata": {},
   "source": [
    "#### The resulting model was a little more promising as seen below."
   ]
  },
  {
   "cell_type": "markdown",
   "metadata": {
    "ExecuteTime": {
     "end_time": "2020-02-12T15:52:45.199640Z",
     "start_time": "2020-02-12T15:52:45.193637Z"
    }
   },
   "source": [
    "<img src=\"rf_gridsearch_graph.jpg\" alt=\"RF GridSearch Graph\" title=\"Random Forest Best Params Confusion Matrix\" />"
   ]
  },
  {
   "cell_type": "markdown",
   "metadata": {},
   "source": [
    "over 25% are being labeled as false positives, so we will try other classifiers."
   ]
  },
  {
   "cell_type": "markdown",
   "metadata": {},
   "source": [
    "#### Next we tried KNN classifier\n",
    "- The first step was to use a for loop to test some parameter combinations and find the best combination."
   ]
  },
  {
   "cell_type": "markdown",
   "metadata": {},
   "source": [
    "<img src=\"KNN_params.jpg\" alt=\"KNN Parameters Table\" title=\"KNN Params Table\" />"
   ]
  },
  {
   "cell_type": "markdown",
   "metadata": {},
   "source": [
    "#### In an attempt to improve the performance of the model, we scaled the data using Sklearn's StandardScaler function.\n",
    "- This gave us the following improved results.\n"
   ]
  },
  {
   "cell_type": "markdown",
   "metadata": {},
   "source": [
    "<img src=\"KNN_scaled_params.jpg\" alt=\"KNN Scaled Parameters Table\" title=\"KNN Scaled Params Table\" />"
   ]
  },
  {
   "cell_type": "markdown",
   "metadata": {},
   "source": [
    "#### This resulted in some acceptable model results, as seen in the confusion matrix below."
   ]
  },
  {
   "cell_type": "markdown",
   "metadata": {},
   "source": [
    "<img src=\"KNN_scaled_cm.jpg\" alt=\"KNN Scaled CM\" title=\"KNN Scaled Confusion matrix\" />"
   ]
  },
  {
   "cell_type": "markdown",
   "metadata": {},
   "source": [
    "#### Next we attempted another classifier, a Support Vector Machine, the results are illustrated below."
   ]
  },
  {
   "cell_type": "markdown",
   "metadata": {},
   "source": [
    "<img src=\"SVM_cm.jpg\" alt=\"SVM Confusin Matrix\" title=\"SVM Confusion Matrix\" />"
   ]
  },
  {
   "cell_type": "markdown",
   "metadata": {},
   "source": [
    "#### This is the best performing model so far and it has acceptable results."
   ]
  },
  {
   "cell_type": "markdown",
   "metadata": {},
   "source": [
    "## Conclusion:"
   ]
  },
  {
   "cell_type": "markdown",
   "metadata": {},
   "source": []
  }
 ],
 "metadata": {
  "kernelspec": {
   "display_name": "Python [conda env:learn-env] *",
   "language": "python",
   "name": "conda-env-learn-env-py"
  },
  "language_info": {
   "codemirror_mode": {
    "name": "ipython",
    "version": 3
   },
   "file_extension": ".py",
   "mimetype": "text/x-python",
   "name": "python",
   "nbconvert_exporter": "python",
   "pygments_lexer": "ipython3",
   "version": "3.6.6"
  },
  "toc": {
   "base_numbering": 1,
   "nav_menu": {},
   "number_sections": false,
   "sideBar": true,
   "skip_h1_title": false,
   "title_cell": "Table of Contents",
   "title_sidebar": "Contents",
   "toc_cell": false,
   "toc_position": {},
   "toc_section_display": true,
   "toc_window_display": false
  },
  "varInspector": {
   "cols": {
    "lenName": 16,
    "lenType": 16,
    "lenVar": 40
   },
   "kernels_config": {
    "python": {
     "delete_cmd_postfix": "",
     "delete_cmd_prefix": "del ",
     "library": "var_list.py",
     "varRefreshCmd": "print(var_dic_list())"
    },
    "r": {
     "delete_cmd_postfix": ") ",
     "delete_cmd_prefix": "rm(",
     "library": "var_list.r",
     "varRefreshCmd": "cat(var_dic_list()) "
    }
   },
   "types_to_exclude": [
    "module",
    "function",
    "builtin_function_or_method",
    "instance",
    "_Feature"
   ],
   "window_display": false
  }
 },
 "nbformat": 4,
 "nbformat_minor": 2
}
