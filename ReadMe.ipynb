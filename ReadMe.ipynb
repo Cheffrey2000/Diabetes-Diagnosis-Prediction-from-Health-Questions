{
 "cells": [
  {
   "cell_type": "markdown",
   "metadata": {},
   "source": [
    "### Predicting Diabetes using dietary information"
   ]
  },
  {
   "cell_type": "markdown",
   "metadata": {},
   "source": [
    "[Data Source] (https://www.kaggle.com/cdc/national-health-and-nutrition-examination-survey)"
   ]
  },
  {
   "cell_type": "markdown",
   "metadata": {},
   "source": [
    "#### Using the data from The National Health and Nutrition Survey, we will attempt to predict a Diabetes diagnosis from the detailed dietary information obtained through interviews.\n"
   ]
  },
  {
   "cell_type": "markdown",
   "metadata": {},
   "source": [
    "## Data cleaning"
   ]
  },
  {
   "cell_type": "markdown",
   "metadata": {},
   "source": [
    "#### The first task with this data set is to combine the two files which contain the information we need for the analysis.  \n",
    "- The first file \"diet\" contains answers to questions about dietary habits.\n",
    "- The second file \"questionnaire\"  has information about the resopondents health conditions including whether or not they have been diagnosed with diabetes or not."
   ]
  },
  {
   "cell_type": "markdown",
   "metadata": {},
   "source": [
    "#### The two files will be joined using the common column \"seqn\" which is the unique identifier for each respondent."
   ]
  },
  {
   "cell_type": "markdown",
   "metadata": {},
   "source": [
    "#### The resulting dataframe is below.\n",
    "- the shape is below and consists of 168 features and 9813 entries."
   ]
  },
  {
   "cell_type": "markdown",
   "metadata": {},
   "source": [
    "<img src=\"working_dataset.PNG\" alt=\"WOrking DataSet Graphic\" title=\"Working DataSet\" />"
   ]
  },
  {
   "cell_type": "markdown",
   "metadata": {},
   "source": [
    "#### Many of the columns are not necessary for our analysis, so we dropped them.\n",
    "- __'SEQN1'__ is the same as __'SEQN'__ and is not necessary after the join\n",
    "- __'DR1EXMER'__ is an identifier for the interviewer\n",
    "- __'DR1DBIH'__ is the number of days elapsed between the exam and interview\n",
    "- __'DR1LANG'__ is the language used by the respondent for the interview\n",
    "- __'DR1MNRSP'__ is the person who answered the questions, subject or caretaker\n",
    "- __'DR1HELPD'__ identifies who helped answer the questions, if anyone"
   ]
  },
  {
   "cell_type": "markdown",
   "metadata": {},
   "source": [
    "#### There were a pretty good amount of NaN values, so we dealt with them using the Pandas function fillna\n",
    "- Other than the NaN values, the dataset was clean with the exception of some placeholders which were cleaned up using a custom function we created called _\"fix_placeholder\"_"
   ]
  },
  {
   "cell_type": "markdown",
   "metadata": {},
   "source": [
    "#### Our target, DIQ010 has multiple values.  We dropped the few that were refused, didn't know or were missing,\n",
    "\n",
    "we also combined the borderline responses with the yes responses to treat them as a confirmed diagnosis for this analysis."
   ]
  },
  {
   "cell_type": "markdown",
   "metadata": {},
   "source": [
    "#### After cleaning and organizing, the cleaned data was saved to a new file, \"DIQ010_Target.csv\""
   ]
  },
  {
   "cell_type": "markdown",
   "metadata": {
    "ExecuteTime": {
     "end_time": "2020-02-11T22:06:57.696905Z",
     "start_time": "2020-02-11T22:06:57.691905Z"
    }
   },
   "source": [
    "## Modeling"
   ]
  },
  {
   "cell_type": "markdown",
   "metadata": {},
   "source": [
    "#### Once the data was loaded, and a preliminary model was run, it was discovered that the _'id'_ column was causing leaked data, so we removed this column."
   ]
  },
  {
   "cell_type": "code",
   "execution_count": null,
   "metadata": {},
   "outputs": [],
   "source": []
  }
 ],
 "metadata": {
  "kernelspec": {
   "display_name": "Python [conda env:learn-env] *",
   "language": "python",
   "name": "conda-env-learn-env-py"
  },
  "language_info": {
   "codemirror_mode": {
    "name": "ipython",
    "version": 3
   },
   "file_extension": ".py",
   "mimetype": "text/x-python",
   "name": "python",
   "nbconvert_exporter": "python",
   "pygments_lexer": "ipython3",
   "version": "3.6.6"
  },
  "toc": {
   "base_numbering": 1,
   "nav_menu": {},
   "number_sections": false,
   "sideBar": true,
   "skip_h1_title": false,
   "title_cell": "Table of Contents",
   "title_sidebar": "Contents",
   "toc_cell": false,
   "toc_position": {},
   "toc_section_display": true,
   "toc_window_display": false
  },
  "varInspector": {
   "cols": {
    "lenName": 16,
    "lenType": 16,
    "lenVar": 40
   },
   "kernels_config": {
    "python": {
     "delete_cmd_postfix": "",
     "delete_cmd_prefix": "del ",
     "library": "var_list.py",
     "varRefreshCmd": "print(var_dic_list())"
    },
    "r": {
     "delete_cmd_postfix": ") ",
     "delete_cmd_prefix": "rm(",
     "library": "var_list.r",
     "varRefreshCmd": "cat(var_dic_list()) "
    }
   },
   "types_to_exclude": [
    "module",
    "function",
    "builtin_function_or_method",
    "instance",
    "_Feature"
   ],
   "window_display": false
  }
 },
 "nbformat": 4,
 "nbformat_minor": 2
}
