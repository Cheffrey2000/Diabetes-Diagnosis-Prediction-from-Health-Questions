{
 "cells": [
  {
   "cell_type": "code",
   "execution_count": 1,
   "metadata": {
    "ExecuteTime": {
     "end_time": "2020-01-13T04:15:03.499094Z",
     "start_time": "2020-01-13T04:14:59.873362Z"
    }
   },
   "outputs": [
    {
     "name": "stderr",
     "output_type": "stream",
     "text": [
      "Using TensorFlow backend.\n"
     ]
    }
   ],
   "source": [
    "# Setting up the workspace by importing all of the necessary libraries.\n",
    "\n",
    "import pandas as pd\n",
    "import numpy as np\n",
    "import seaborn as sns\n",
    "\n",
    "import matplotlib.pyplot as plt\n",
    "%matplotlib inline\n",
    "\n",
    "import warnings\n",
    "warnings.filterwarnings('ignore')\n",
    "\n",
    "from sklearn.model_selection import GridSearchCV\n",
    "\n",
    "from sklearn.model_selection import train_test_split, GridSearchCV, cross_val_score, StratifiedKFold, KFold\n",
    "from sklearn.linear_model import LogisticRegression\n",
    "from sklearn.feature_selection import SelectKBest, chi2\n",
    "\n",
    "\n",
    "from sklearn.neighbors import KNeighborsClassifier, NearestNeighbors\n",
    "from sklearn.ensemble import RandomForestClassifier\n",
    "from sklearn.metrics import classification_report, r2_score, confusion_matrix,f1_score, recall_score, precision_score, make_scorer\n",
    "from sklearn.preprocessing import StandardScaler\n",
    "import xgboost as xgb\n",
    "from sklearn.decomposition import PCA\n",
    "from sklearn.discriminant_analysis import LinearDiscriminantAnalysis\n",
    "from sklearn.ensemble import BaggingClassifier\n",
    "from imblearn.over_sampling import SMOTE, ADASYN\n",
    "from sklearn import svm\n"
   ]
  },
  {
   "cell_type": "code",
   "execution_count": 2,
   "metadata": {
    "ExecuteTime": {
     "end_time": "2020-01-13T04:15:06.460541Z",
     "start_time": "2020-01-13T04:15:06.455037Z"
    }
   },
   "outputs": [],
   "source": [
    "def cm(y_real, y_pred, t='test'):\n",
    "    cf = confusion_matrix(y_real, y_pred)\n",
    "    print(f\"Confusion Matrix {t}: \")\n",
    "    akws = {\"ha\": 'center',\"va\": 'top'}\n",
    "    sns.heatmap(cf/(np.sum(cf)),annot=True, fmt='0.2%',cmap='Blues', annot_kws=akws, cbar=False)\n",
    "\n",
    "    akws = {\"ha\": 'center',\"va\": 'bottom'}\n",
    "    sns.heatmap(cf,annot=True, fmt='0',cmap='Blues', annot_kws=akws)\n",
    "    plt.xlabel('Predicted')\n",
    "    plt.ylabel('Actual')\n",
    "    plt.show()"
   ]
  },
  {
   "cell_type": "code",
   "execution_count": 3,
   "metadata": {
    "ExecuteTime": {
     "end_time": "2020-01-13T04:15:07.300922Z",
     "start_time": "2020-01-13T04:15:06.914427Z"
    }
   },
   "outputs": [
    {
     "data": {
      "text/html": [
       "<div>\n",
       "<style scoped>\n",
       "    .dataframe tbody tr th:only-of-type {\n",
       "        vertical-align: middle;\n",
       "    }\n",
       "\n",
       "    .dataframe tbody tr th {\n",
       "        vertical-align: top;\n",
       "    }\n",
       "\n",
       "    .dataframe thead th {\n",
       "        text-align: right;\n",
       "    }\n",
       "</style>\n",
       "<table border=\"1\" class=\"dataframe\">\n",
       "  <thead>\n",
       "    <tr style=\"text-align: right;\">\n",
       "      <th></th>\n",
       "      <th>id</th>\n",
       "      <th>WTDRD1</th>\n",
       "      <th>WTDR2D</th>\n",
       "      <th>DR1DRSTZ</th>\n",
       "      <th>DRABF</th>\n",
       "      <th>DRDINT</th>\n",
       "      <th>DR1DAY</th>\n",
       "      <th>DBQ095Z</th>\n",
       "      <th>DBD100</th>\n",
       "      <th>DRQSPREP</th>\n",
       "      <th>...</th>\n",
       "      <th>DRD370R</th>\n",
       "      <th>DRD370RQ</th>\n",
       "      <th>DRD370S</th>\n",
       "      <th>DRD370SQ</th>\n",
       "      <th>DRD370T</th>\n",
       "      <th>DRD370TQ</th>\n",
       "      <th>DRD370U</th>\n",
       "      <th>DRD370UQ</th>\n",
       "      <th>DRD370V</th>\n",
       "      <th>DIQ010</th>\n",
       "    </tr>\n",
       "  </thead>\n",
       "  <tbody>\n",
       "    <tr>\n",
       "      <th>0</th>\n",
       "      <td>73557</td>\n",
       "      <td>16888.327864</td>\n",
       "      <td>12930.890649</td>\n",
       "      <td>1</td>\n",
       "      <td>2.0</td>\n",
       "      <td>2.0</td>\n",
       "      <td>2.0</td>\n",
       "      <td>3.0</td>\n",
       "      <td>2.0</td>\n",
       "      <td>4.0</td>\n",
       "      <td>...</td>\n",
       "      <td>0.0</td>\n",
       "      <td>0.0</td>\n",
       "      <td>0.0</td>\n",
       "      <td>0.0</td>\n",
       "      <td>0.0</td>\n",
       "      <td>0.0</td>\n",
       "      <td>0.0</td>\n",
       "      <td>0.0</td>\n",
       "      <td>0.0</td>\n",
       "      <td>1.0</td>\n",
       "    </tr>\n",
       "    <tr>\n",
       "      <th>1</th>\n",
       "      <td>73558</td>\n",
       "      <td>17932.143865</td>\n",
       "      <td>12684.148869</td>\n",
       "      <td>1</td>\n",
       "      <td>2.0</td>\n",
       "      <td>2.0</td>\n",
       "      <td>1.0</td>\n",
       "      <td>1.0</td>\n",
       "      <td>2.0</td>\n",
       "      <td>3.0</td>\n",
       "      <td>...</td>\n",
       "      <td>2.0</td>\n",
       "      <td>0.0</td>\n",
       "      <td>2.0</td>\n",
       "      <td>0.0</td>\n",
       "      <td>2.0</td>\n",
       "      <td>0.0</td>\n",
       "      <td>2.0</td>\n",
       "      <td>0.0</td>\n",
       "      <td>2.0</td>\n",
       "      <td>1.0</td>\n",
       "    </tr>\n",
       "    <tr>\n",
       "      <th>2</th>\n",
       "      <td>73559</td>\n",
       "      <td>59641.812930</td>\n",
       "      <td>39394.236709</td>\n",
       "      <td>1</td>\n",
       "      <td>2.0</td>\n",
       "      <td>2.0</td>\n",
       "      <td>6.0</td>\n",
       "      <td>1.0</td>\n",
       "      <td>1.0</td>\n",
       "      <td>2.0</td>\n",
       "      <td>...</td>\n",
       "      <td>0.0</td>\n",
       "      <td>0.0</td>\n",
       "      <td>0.0</td>\n",
       "      <td>0.0</td>\n",
       "      <td>0.0</td>\n",
       "      <td>0.0</td>\n",
       "      <td>0.0</td>\n",
       "      <td>0.0</td>\n",
       "      <td>0.0</td>\n",
       "      <td>1.0</td>\n",
       "    </tr>\n",
       "    <tr>\n",
       "      <th>3</th>\n",
       "      <td>73560</td>\n",
       "      <td>142203.069917</td>\n",
       "      <td>125966.366442</td>\n",
       "      <td>1</td>\n",
       "      <td>2.0</td>\n",
       "      <td>2.0</td>\n",
       "      <td>3.0</td>\n",
       "      <td>1.0</td>\n",
       "      <td>1.0</td>\n",
       "      <td>3.0</td>\n",
       "      <td>...</td>\n",
       "      <td>0.0</td>\n",
       "      <td>0.0</td>\n",
       "      <td>0.0</td>\n",
       "      <td>0.0</td>\n",
       "      <td>0.0</td>\n",
       "      <td>0.0</td>\n",
       "      <td>0.0</td>\n",
       "      <td>0.0</td>\n",
       "      <td>0.0</td>\n",
       "      <td>0.0</td>\n",
       "    </tr>\n",
       "    <tr>\n",
       "      <th>4</th>\n",
       "      <td>73561</td>\n",
       "      <td>59052.357033</td>\n",
       "      <td>39004.892993</td>\n",
       "      <td>1</td>\n",
       "      <td>2.0</td>\n",
       "      <td>2.0</td>\n",
       "      <td>1.0</td>\n",
       "      <td>4.0</td>\n",
       "      <td>0.0</td>\n",
       "      <td>4.0</td>\n",
       "      <td>...</td>\n",
       "      <td>2.0</td>\n",
       "      <td>0.0</td>\n",
       "      <td>2.0</td>\n",
       "      <td>0.0</td>\n",
       "      <td>2.0</td>\n",
       "      <td>0.0</td>\n",
       "      <td>2.0</td>\n",
       "      <td>0.0</td>\n",
       "      <td>2.0</td>\n",
       "      <td>0.0</td>\n",
       "    </tr>\n",
       "  </tbody>\n",
       "</table>\n",
       "<p>5 rows × 164 columns</p>\n",
       "</div>"
      ],
      "text/plain": [
       "      id         WTDRD1         WTDR2D  DR1DRSTZ  DRABF  DRDINT  DR1DAY  \\\n",
       "0  73557   16888.327864   12930.890649         1    2.0     2.0     2.0   \n",
       "1  73558   17932.143865   12684.148869         1    2.0     2.0     1.0   \n",
       "2  73559   59641.812930   39394.236709         1    2.0     2.0     6.0   \n",
       "3  73560  142203.069917  125966.366442         1    2.0     2.0     3.0   \n",
       "4  73561   59052.357033   39004.892993         1    2.0     2.0     1.0   \n",
       "\n",
       "   DBQ095Z  DBD100  DRQSPREP   ...    DRD370R  DRD370RQ  DRD370S  DRD370SQ  \\\n",
       "0      3.0     2.0       4.0   ...        0.0       0.0      0.0       0.0   \n",
       "1      1.0     2.0       3.0   ...        2.0       0.0      2.0       0.0   \n",
       "2      1.0     1.0       2.0   ...        0.0       0.0      0.0       0.0   \n",
       "3      1.0     1.0       3.0   ...        0.0       0.0      0.0       0.0   \n",
       "4      4.0     0.0       4.0   ...        2.0       0.0      2.0       0.0   \n",
       "\n",
       "   DRD370T  DRD370TQ  DRD370U  DRD370UQ  DRD370V  DIQ010  \n",
       "0      0.0       0.0      0.0       0.0      0.0     1.0  \n",
       "1      2.0       0.0      2.0       0.0      2.0     1.0  \n",
       "2      0.0       0.0      0.0       0.0      0.0     1.0  \n",
       "3      0.0       0.0      0.0       0.0      0.0     0.0  \n",
       "4      2.0       0.0      2.0       0.0      2.0     0.0  \n",
       "\n",
       "[5 rows x 164 columns]"
      ]
     },
     "execution_count": 3,
     "metadata": {},
     "output_type": "execute_result"
    }
   ],
   "source": [
    "df = pd.read_csv('DIQ010_Target.csv')\n",
    "df.head()"
   ]
  },
  {
   "cell_type": "code",
   "execution_count": 4,
   "metadata": {
    "ExecuteTime": {
     "end_time": "2020-01-13T04:15:15.177940Z",
     "start_time": "2020-01-13T04:15:15.168950Z"
    }
   },
   "outputs": [
    {
     "data": {
      "text/plain": [
       "0.0    8392\n",
       "1.0     888\n",
       "Name: DIQ010, dtype: int64"
      ]
     },
     "execution_count": 4,
     "metadata": {},
     "output_type": "execute_result"
    }
   ],
   "source": [
    "df.DIQ010.value_counts()"
   ]
  },
  {
   "cell_type": "code",
   "execution_count": 5,
   "metadata": {
    "ExecuteTime": {
     "end_time": "2020-01-13T04:15:19.751982Z",
     "start_time": "2020-01-13T04:15:19.739472Z"
    }
   },
   "outputs": [],
   "source": [
    "X = df.drop(['DIQ010'], axis=1)\n",
    "y = df['DIQ010']"
   ]
  },
  {
   "cell_type": "code",
   "execution_count": 7,
   "metadata": {
    "ExecuteTime": {
     "end_time": "2020-01-13T04:16:04.481218Z",
     "start_time": "2020-01-13T04:16:04.461710Z"
    }
   },
   "outputs": [],
   "source": [
    "X_train, X_test, y_train, y_test = train_test_split(X,y,test_size=.2, random_state=81)"
   ]
  },
  {
   "cell_type": "code",
   "execution_count": 8,
   "metadata": {
    "ExecuteTime": {
     "end_time": "2020-01-13T04:16:07.324141Z",
     "start_time": "2020-01-13T04:16:07.315134Z"
    }
   },
   "outputs": [
    {
     "data": {
      "text/plain": [
       "0.0    6729\n",
       "1.0     695\n",
       "Name: DIQ010, dtype: int64"
      ]
     },
     "execution_count": 8,
     "metadata": {},
     "output_type": "execute_result"
    }
   ],
   "source": [
    "y_train.value_counts()\n"
   ]
  },
  {
   "cell_type": "code",
   "execution_count": 9,
   "metadata": {
    "ExecuteTime": {
     "end_time": "2020-01-13T04:16:19.244411Z",
     "start_time": "2020-01-13T04:16:19.240908Z"
    }
   },
   "outputs": [],
   "source": [
    "rf = RandomForestClassifier()"
   ]
  },
  {
   "cell_type": "code",
   "execution_count": 10,
   "metadata": {
    "ExecuteTime": {
     "end_time": "2020-01-13T04:16:24.542337Z",
     "start_time": "2020-01-13T04:16:20.597334Z"
    }
   },
   "outputs": [
    {
     "data": {
      "text/plain": [
       "RandomForestClassifier(bootstrap=True, ccp_alpha=0.0, class_weight=None,\n",
       "                       criterion='gini', max_depth=None, max_features='auto',\n",
       "                       max_leaf_nodes=None, max_samples=None,\n",
       "                       min_impurity_decrease=0.0, min_impurity_split=None,\n",
       "                       min_samples_leaf=1, min_samples_split=2,\n",
       "                       min_weight_fraction_leaf=0.0, n_estimators=100,\n",
       "                       n_jobs=None, oob_score=False, random_state=None,\n",
       "                       verbose=0, warm_start=False)"
      ]
     },
     "execution_count": 10,
     "metadata": {},
     "output_type": "execute_result"
    }
   ],
   "source": [
    "rf.fit(X_train, y_train)"
   ]
  },
  {
   "cell_type": "code",
   "execution_count": 11,
   "metadata": {
    "ExecuteTime": {
     "end_time": "2020-01-13T04:16:45.454471Z",
     "start_time": "2020-01-13T04:16:45.182970Z"
    }
   },
   "outputs": [],
   "source": [
    "train_pred = rf.predict(X_train)\n",
    "test_pred = rf.predict(X_test)"
   ]
  },
  {
   "cell_type": "code",
   "execution_count": 13,
   "metadata": {
    "ExecuteTime": {
     "end_time": "2020-01-13T04:20:05.600367Z",
     "start_time": "2020-01-13T04:20:05.335366Z"
    }
   },
   "outputs": [
    {
     "name": "stdout",
     "output_type": "stream",
     "text": [
      "Confusion Matrix test: \n"
     ]
    },
    {
     "data": {
      "image/png": "[encoded data removed]",
      "text/plain": [
       "<Figure size 432x288 with 2 Axes>"
      ]
     },
     "metadata": {
      "needs_background": "light"
     },
     "output_type": "display_data"
    }
   ],
   "source": [
    "cm(y_train, train_pred)"
   ]
  },
  {
   "cell_type": "code",
   "execution_count": 14,
   "metadata": {
    "ExecuteTime": {
     "end_time": "2020-01-13T04:20:07.063369Z",
     "start_time": "2020-01-13T04:20:07.051866Z"
    }
   },
   "outputs": [
    {
     "name": "stdout",
     "output_type": "stream",
     "text": [
      "Accuracy:  1.0\n"
     ]
    }
   ],
   "source": [
    "print('Accuracy: ', precision_score(y_train, train_pred))"
   ]
  },
  {
   "cell_type": "code",
   "execution_count": 15,
   "metadata": {
    "ExecuteTime": {
     "end_time": "2020-01-13T04:20:12.949367Z",
     "start_time": "2020-01-13T04:20:12.695365Z"
    }
   },
   "outputs": [
    {
     "name": "stdout",
     "output_type": "stream",
     "text": [
      "Confusion Matrix test: \n"
     ]
    },
    {
     "data": {
      "image/png": "[encoded data removed]",
      "text/plain": [
       "<Figure size 432x288 with 2 Axes>"
      ]
     },
     "metadata": {
      "needs_background": "light"
     },
     "output_type": "display_data"
    }
   ],
   "source": [
    "cm(y_test, test_pred)"
   ]
  },
  {
   "cell_type": "code",
   "execution_count": 16,
   "metadata": {
    "ExecuteTime": {
     "end_time": "2020-01-13T04:20:20.984838Z",
     "start_time": "2020-01-13T04:20:20.976799Z"
    }
   },
   "outputs": [
    {
     "name": "stdout",
     "output_type": "stream",
     "text": [
      "Accuracy:  0.6304347826086957\n"
     ]
    }
   ],
   "source": [
    "print('Accuracy: ', precision_score(y_test, test_pred))"
   ]
  },
  {
   "cell_type": "code",
   "execution_count": 17,
   "metadata": {
    "ExecuteTime": {
     "end_time": "2020-01-13T04:20:38.546552Z",
     "start_time": "2020-01-13T04:20:38.542042Z"
    }
   },
   "outputs": [],
   "source": [
    "sm = SMOTE(n_jobs=-1)"
   ]
  },
  {
   "cell_type": "code",
   "execution_count": 18,
   "metadata": {
    "ExecuteTime": {
     "end_time": "2020-01-13T04:20:59.536595Z",
     "start_time": "2020-01-13T04:20:59.333432Z"
    }
   },
   "outputs": [],
   "source": [
    "X_train_sm, y_train_sm = sm.fit_sample(X_train, y_train)"
   ]
  },
  {
   "cell_type": "code",
   "execution_count": 19,
   "metadata": {
    "ExecuteTime": {
     "end_time": "2020-01-13T04:21:06.023047Z",
     "start_time": "2020-01-13T04:21:00.421045Z"
    }
   },
   "outputs": [
    {
     "data": {
      "text/plain": [
       "RandomForestClassifier(bootstrap=True, ccp_alpha=0.0, class_weight=None,\n",
       "                       criterion='gini', max_depth=None, max_features='auto',\n",
       "                       max_leaf_nodes=None, max_samples=None,\n",
       "                       min_impurity_decrease=0.0, min_impurity_split=None,\n",
       "                       min_samples_leaf=1, min_samples_split=2,\n",
       "                       min_weight_fraction_leaf=0.0, n_estimators=100,\n",
       "                       n_jobs=None, oob_score=False, random_state=None,\n",
       "                       verbose=0, warm_start=False)"
      ]
     },
     "execution_count": 19,
     "metadata": {},
     "output_type": "execute_result"
    }
   ],
   "source": [
    "rf.fit(X_train_sm, y_train_sm)"
   ]
  },
  {
   "cell_type": "code",
   "execution_count": 20,
   "metadata": {
    "ExecuteTime": {
     "end_time": "2020-01-13T04:21:29.237557Z",
     "start_time": "2020-01-13T04:21:28.697379Z"
    }
   },
   "outputs": [],
   "source": [
    "train_pred = rf.predict(X_train)\n",
    "train_pred_sm = rf.predict(X_train_sm)\n",
    "test_pred = rf.predict(X_test)"
   ]
  },
  {
   "cell_type": "code",
   "execution_count": 21,
   "metadata": {
    "ExecuteTime": {
     "end_time": "2020-01-13T04:21:34.305750Z",
     "start_time": "2020-01-13T04:21:34.106210Z"
    }
   },
   "outputs": [
    {
     "name": "stdout",
     "output_type": "stream",
     "text": [
      "Confusion Matrix test: \n"
     ]
    },
    {
     "data": {
      "image/png": "[encoded data removed]",
      "text/plain": [
       "<Figure size 432x288 with 2 Axes>"
      ]
     },
     "metadata": {
      "needs_background": "light"
     },
     "output_type": "display_data"
    }
   ],
   "source": [
    "cm(y_test, test_pred)"
   ]
  },
  {
   "cell_type": "code",
   "execution_count": 27,
   "metadata": {
    "ExecuteTime": {
     "end_time": "2020-01-13T04:23:18.241812Z",
     "start_time": "2020-01-13T04:23:18.232311Z"
    }
   },
   "outputs": [
    {
     "name": "stdout",
     "output_type": "stream",
     "text": [
      "Accuracy:  0.38372093023255816\n"
     ]
    }
   ],
   "source": [
    "print('Accuracy: ', precision_score(y_test, test_pred))"
   ]
  },
  {
   "cell_type": "code",
   "execution_count": 22,
   "metadata": {
    "ExecuteTime": {
     "end_time": "2020-01-13T04:21:52.873539Z",
     "start_time": "2020-01-13T04:21:52.665035Z"
    }
   },
   "outputs": [
    {
     "name": "stdout",
     "output_type": "stream",
     "text": [
      "Confusion Matrix test: \n"
     ]
    },
    {
     "data": {
      "image/png": "[encoded data removed]",
      "text/plain": [
       "<Figure size 432x288 with 2 Axes>"
      ]
     },
     "metadata": {
      "needs_background": "light"
     },
     "output_type": "display_data"
    }
   ],
   "source": [
    "cm(y_train, train_pred)"
   ]
  },
  {
   "cell_type": "code",
   "execution_count": 28,
   "metadata": {
    "ExecuteTime": {
     "end_time": "2020-01-13T04:24:14.530735Z",
     "start_time": "2020-01-13T04:24:14.520233Z"
    }
   },
   "outputs": [
    {
     "name": "stdout",
     "output_type": "stream",
     "text": [
      "Accuracy:  1.0\n"
     ]
    }
   ],
   "source": [
    "print('Accuracy: ', precision_score(y_train, train_pred))"
   ]
  },
  {
   "cell_type": "code",
   "execution_count": 23,
   "metadata": {
    "ExecuteTime": {
     "end_time": "2020-01-13T04:22:00.546702Z",
     "start_time": "2020-01-13T04:22:00.336701Z"
    }
   },
   "outputs": [
    {
     "name": "stdout",
     "output_type": "stream",
     "text": [
      "Confusion Matrix test: \n"
     ]
    },
    {
     "data": {
      "image/png": "[encoded data removed]",
      "text/plain": [
       "<Figure size 432x288 with 2 Axes>"
      ]
     },
     "metadata": {
      "needs_background": "light"
     },
     "output_type": "display_data"
    }
   ],
   "source": [
    "cm(y_train_sm, train_pred_sm)"
   ]
  },
  {
   "cell_type": "code",
   "execution_count": 24,
   "metadata": {
    "ExecuteTime": {
     "end_time": "2020-01-13T04:22:10.711945Z",
     "start_time": "2020-01-13T04:22:10.699406Z"
    }
   },
   "outputs": [
    {
     "name": "stdout",
     "output_type": "stream",
     "text": [
      "Accuracy:  1.0\n"
     ]
    }
   ],
   "source": [
    "print('Accuracy: ', precision_score(y_train_sm, train_pred_sm))"
   ]
  },
  {
   "cell_type": "markdown",
   "metadata": {},
   "source": [
    "# Finding the best model using recall as a metric"
   ]
  },
  {
   "cell_type": "code",
   "execution_count": 45,
   "metadata": {
    "ExecuteTime": {
     "end_time": "2020-01-13T04:48:19.736984Z",
     "start_time": "2020-01-13T04:48:19.731483Z"
    }
   },
   "outputs": [],
   "source": [
    "rf = RandomForestClassifier()\n",
    "\n",
    "params = {\"n_estimators\":[10, 20, 50, 100],\n",
    "          \"criterion\": [\"entropy\", \"gini\"],\n",
    "          \"max_depth\": [1, 2, 5, 10]}\n",
    "\n",
    "clf = GridSearchCV(rf, params, scoring=make_scorer(recall_score))"
   ]
  },
  {
   "cell_type": "code",
   "execution_count": 46,
   "metadata": {
    "ExecuteTime": {
     "end_time": "2020-01-13T04:51:23.863317Z",
     "start_time": "2020-01-13T04:48:21.810754Z"
    }
   },
   "outputs": [
    {
     "data": {
      "text/plain": [
       "GridSearchCV(cv=None, error_score=nan,\n",
       "             estimator=RandomForestClassifier(bootstrap=True, ccp_alpha=0.0,\n",
       "                                              class_weight=None,\n",
       "                                              criterion='gini', max_depth=None,\n",
       "                                              max_features='auto',\n",
       "                                              max_leaf_nodes=None,\n",
       "                                              max_samples=None,\n",
       "                                              min_impurity_decrease=0.0,\n",
       "                                              min_impurity_split=None,\n",
       "                                              min_samples_leaf=1,\n",
       "                                              min_samples_split=2,\n",
       "                                              min_weight_fraction_leaf=0.0,\n",
       "                                              n_estimators=100, n_jobs=None,\n",
       "                                              oob_score=False,\n",
       "                                              random_state=None, verbose=0,\n",
       "                                              warm_start=False),\n",
       "             iid='deprecated', n_jobs=None,\n",
       "             param_grid={'criterion': ['entropy', 'gini'],\n",
       "                         'max_depth': [1, 2, 5, 10],\n",
       "                         'n_estimators': [10, 20, 50, 100]},\n",
       "             pre_dispatch='2*n_jobs', refit=True, return_train_score=False,\n",
       "             scoring=make_scorer(recall_score), verbose=0)"
      ]
     },
     "execution_count": 46,
     "metadata": {},
     "output_type": "execute_result"
    }
   ],
   "source": [
    "clf.fit(X_train_sm, y_train_sm)"
   ]
  },
  {
   "cell_type": "code",
   "execution_count": 47,
   "metadata": {
    "ExecuteTime": {
     "end_time": "2020-01-13T04:51:30.903462Z",
     "start_time": "2020-01-13T04:51:30.896962Z"
    }
   },
   "outputs": [
    {
     "data": {
      "text/plain": [
       "{'criterion': 'gini', 'max_depth': 10, 'n_estimators': 100}"
      ]
     },
     "execution_count": 47,
     "metadata": {},
     "output_type": "execute_result"
    }
   ],
   "source": [
    "clf.best_params_"
   ]
  },
  {
   "cell_type": "code",
   "execution_count": 48,
   "metadata": {
    "ExecuteTime": {
     "end_time": "2020-01-13T04:51:55.323495Z",
     "start_time": "2020-01-13T04:51:55.318533Z"
    }
   },
   "outputs": [],
   "source": [
    "rf2 = RandomForestClassifier(n_estimators=100, max_depth=10, criterion='gini')"
   ]
  },
  {
   "cell_type": "code",
   "execution_count": 49,
   "metadata": {
    "ExecuteTime": {
     "end_time": "2020-01-13T04:52:02.262277Z",
     "start_time": "2020-01-13T04:51:57.294706Z"
    }
   },
   "outputs": [
    {
     "data": {
      "text/plain": [
       "RandomForestClassifier(bootstrap=True, ccp_alpha=0.0, class_weight=None,\n",
       "                       criterion='gini', max_depth=10, max_features='auto',\n",
       "                       max_leaf_nodes=None, max_samples=None,\n",
       "                       min_impurity_decrease=0.0, min_impurity_split=None,\n",
       "                       min_samples_leaf=1, min_samples_split=2,\n",
       "                       min_weight_fraction_leaf=0.0, n_estimators=100,\n",
       "                       n_jobs=None, oob_score=False, random_state=None,\n",
       "                       verbose=0, warm_start=False)"
      ]
     },
     "execution_count": 49,
     "metadata": {},
     "output_type": "execute_result"
    }
   ],
   "source": [
    "rf2.fit(X_train_sm, y_train_sm)"
   ]
  },
  {
   "cell_type": "code",
   "execution_count": 50,
   "metadata": {
    "ExecuteTime": {
     "end_time": "2020-01-13T04:52:06.208473Z",
     "start_time": "2020-01-13T04:52:05.790460Z"
    }
   },
   "outputs": [],
   "source": [
    "train_pred2 = rf2.predict(X_train)\n",
    "train_pred_sm = rf2.predict(X_train_sm)\n",
    "test_pred2 = rf2.predict(X_test)"
   ]
  },
  {
   "cell_type": "code",
   "execution_count": 51,
   "metadata": {
    "ExecuteTime": {
     "end_time": "2020-01-13T04:52:07.324663Z",
     "start_time": "2020-01-13T04:52:07.101159Z"
    }
   },
   "outputs": [
    {
     "name": "stdout",
     "output_type": "stream",
     "text": [
      "Confusion Matrix test: \n"
     ]
    },
    {
     "data": {
      "image/png": "[encoded data removed]",
      "text/plain": [
       "<Figure size 432x288 with 2 Axes>"
      ]
     },
     "metadata": {
      "needs_background": "light"
     },
     "output_type": "display_data"
    }
   ],
   "source": [
    "cm(y_train_sm, train_pred_sm)"
   ]
  },
  {
   "cell_type": "code",
   "execution_count": 53,
   "metadata": {
    "ExecuteTime": {
     "end_time": "2020-01-13T04:54:03.503903Z",
     "start_time": "2020-01-13T04:54:03.464896Z"
    }
   },
   "outputs": [
    {
     "name": "stdout",
     "output_type": "stream",
     "text": [
      "              precision    recall  f1-score   support\n",
      "\n",
      "         0.0       0.90      0.98      0.94      6729\n",
      "         1.0       0.98      0.89      0.93      6729\n",
      "\n",
      "    accuracy                           0.93     13458\n",
      "   macro avg       0.94      0.93      0.93     13458\n",
      "weighted avg       0.94      0.93      0.93     13458\n",
      "\n"
     ]
    }
   ],
   "source": [
    "print(classification_report(y_train_sm, train_pred_sm))"
   ]
  },
  {
   "cell_type": "code",
   "execution_count": 52,
   "metadata": {
    "ExecuteTime": {
     "end_time": "2020-01-13T04:52:17.067283Z",
     "start_time": "2020-01-13T04:52:16.861283Z"
    }
   },
   "outputs": [
    {
     "name": "stdout",
     "output_type": "stream",
     "text": [
      "Confusion Matrix test: \n"
     ]
    },
    {
     "data": {
      "image/png": "[encoded data removed]",
      "text/plain": [
       "<Figure size 432x288 with 2 Axes>"
      ]
     },
     "metadata": {
      "needs_background": "light"
     },
     "output_type": "display_data"
    }
   ],
   "source": [
    "cm(y_test, test_pred2)"
   ]
  },
  {
   "cell_type": "code",
   "execution_count": 54,
   "metadata": {
    "ExecuteTime": {
     "end_time": "2020-01-13T04:55:15.459993Z",
     "start_time": "2020-01-13T04:55:15.444997Z"
    }
   },
   "outputs": [
    {
     "name": "stdout",
     "output_type": "stream",
     "text": [
      "              precision    recall  f1-score   support\n",
      "\n",
      "         0.0       0.91      0.97      0.94      1663\n",
      "         1.0       0.37      0.16      0.22       193\n",
      "\n",
      "    accuracy                           0.88      1856\n",
      "   macro avg       0.64      0.56      0.58      1856\n",
      "weighted avg       0.85      0.88      0.86      1856\n",
      "\n"
     ]
    }
   ],
   "source": [
    "print(classification_report(y_test, test_pred))"
   ]
  },
  {
   "cell_type": "markdown",
   "metadata": {},
   "source": [
    "### Feature selection"
   ]
  },
  {
   "cell_type": "code",
   "execution_count": 37,
   "metadata": {
    "ExecuteTime": {
     "end_time": "2020-01-13T04:37:08.613597Z",
     "start_time": "2020-01-13T04:37:08.590562Z"
    }
   },
   "outputs": [],
   "source": [
    "select_feature = SelectKBest(chi2, k=5).fit(X_train_sm, y_train_sm)"
   ]
  },
  {
   "cell_type": "code",
   "execution_count": 40,
   "metadata": {
    "ExecuteTime": {
     "end_time": "2020-01-13T04:38:16.547178Z",
     "start_time": "2020-01-13T04:38:16.522180Z"
    }
   },
   "outputs": [
    {
     "data": {
      "text/html": [
       "<div>\n",
       "<style scoped>\n",
       "    .dataframe tbody tr th:only-of-type {\n",
       "        vertical-align: middle;\n",
       "    }\n",
       "\n",
       "    .dataframe tbody tr th {\n",
       "        vertical-align: top;\n",
       "    }\n",
       "\n",
       "    .dataframe thead th {\n",
       "        text-align: right;\n",
       "    }\n",
       "</style>\n",
       "<table border=\"1\" class=\"dataframe\">\n",
       "  <thead>\n",
       "    <tr style=\"text-align: right;\">\n",
       "      <th></th>\n",
       "      <th>Feature</th>\n",
       "      <th>Scores</th>\n",
       "    </tr>\n",
       "  </thead>\n",
       "  <tbody>\n",
       "    <tr>\n",
       "      <th>1</th>\n",
       "      <td>WTDRD1</td>\n",
       "      <td>707729.384118</td>\n",
       "    </tr>\n",
       "    <tr>\n",
       "      <th>72</th>\n",
       "      <td>DR1TMOIS</td>\n",
       "      <td>207859.004602</td>\n",
       "    </tr>\n",
       "    <tr>\n",
       "      <th>45</th>\n",
       "      <td>DR1TLZ</td>\n",
       "      <td>182992.559244</td>\n",
       "    </tr>\n",
       "    <tr>\n",
       "      <th>95</th>\n",
       "      <td>DR1BWATZ</td>\n",
       "      <td>182474.610768</td>\n",
       "    </tr>\n",
       "    <tr>\n",
       "      <th>93</th>\n",
       "      <td>DR1.320Z</td>\n",
       "      <td>97053.510968</td>\n",
       "    </tr>\n",
       "    <tr>\n",
       "      <th>42</th>\n",
       "      <td>DR1TBCAR</td>\n",
       "      <td>80001.200237</td>\n",
       "    </tr>\n",
       "    <tr>\n",
       "      <th>69</th>\n",
       "      <td>DR1TCAFF</td>\n",
       "      <td>73897.412589</td>\n",
       "    </tr>\n",
       "    <tr>\n",
       "      <th>2</th>\n",
       "      <td>WTDR2D</td>\n",
       "      <td>19021.191156</td>\n",
       "    </tr>\n",
       "    <tr>\n",
       "      <th>44</th>\n",
       "      <td>DR1TLYCO</td>\n",
       "      <td>16769.694960</td>\n",
       "    </tr>\n",
       "    <tr>\n",
       "      <th>60</th>\n",
       "      <td>DR1TCALC</td>\n",
       "      <td>13557.512913</td>\n",
       "    </tr>\n",
       "    <tr>\n",
       "      <th>67</th>\n",
       "      <td>DR1TPOTA</td>\n",
       "      <td>13550.404986</td>\n",
       "    </tr>\n",
       "    <tr>\n",
       "      <th>36</th>\n",
       "      <td>DR1TCHOL</td>\n",
       "      <td>10940.744326</td>\n",
       "    </tr>\n",
       "    <tr>\n",
       "      <th>30</th>\n",
       "      <td>DR1TSUGR</td>\n",
       "      <td>10205.608292</td>\n",
       "    </tr>\n",
       "    <tr>\n",
       "      <th>66</th>\n",
       "      <td>DR1TSODI</td>\n",
       "      <td>9963.222442</td>\n",
       "    </tr>\n",
       "    <tr>\n",
       "      <th>27</th>\n",
       "      <td>DR1TKCAL</td>\n",
       "      <td>8919.791839</td>\n",
       "    </tr>\n",
       "    <tr>\n",
       "      <th>54</th>\n",
       "      <td>DR1TCHL</td>\n",
       "      <td>7917.026780</td>\n",
       "    </tr>\n",
       "    <tr>\n",
       "      <th>19</th>\n",
       "      <td>DRQSDT7</td>\n",
       "      <td>7751.060757</td>\n",
       "    </tr>\n",
       "    <tr>\n",
       "      <th>70</th>\n",
       "      <td>DR1TTHEO</td>\n",
       "      <td>6483.519181</td>\n",
       "    </tr>\n",
       "    <tr>\n",
       "      <th>51</th>\n",
       "      <td>DR1TFA</td>\n",
       "      <td>5838.236602</td>\n",
       "    </tr>\n",
       "    <tr>\n",
       "      <th>41</th>\n",
       "      <td>DR1TACAR</td>\n",
       "      <td>5452.123934</td>\n",
       "    </tr>\n",
       "    <tr>\n",
       "      <th>59</th>\n",
       "      <td>DR1TVK</td>\n",
       "      <td>4765.666279</td>\n",
       "    </tr>\n",
       "    <tr>\n",
       "      <th>29</th>\n",
       "      <td>DR1TCARB</td>\n",
       "      <td>4247.009599</td>\n",
       "    </tr>\n",
       "    <tr>\n",
       "      <th>57</th>\n",
       "      <td>DR1TVC</td>\n",
       "      <td>3746.485986</td>\n",
       "    </tr>\n",
       "    <tr>\n",
       "      <th>52</th>\n",
       "      <td>DR1TFF</td>\n",
       "      <td>2958.505520</td>\n",
       "    </tr>\n",
       "    <tr>\n",
       "      <th>62</th>\n",
       "      <td>DR1TMAGN</td>\n",
       "      <td>2459.934514</td>\n",
       "    </tr>\n",
       "    <tr>\n",
       "      <th>71</th>\n",
       "      <td>DR1TALCO</td>\n",
       "      <td>1847.543394</td>\n",
       "    </tr>\n",
       "    <tr>\n",
       "      <th>0</th>\n",
       "      <td>id</td>\n",
       "      <td>1821.001524</td>\n",
       "    </tr>\n",
       "    <tr>\n",
       "      <th>53</th>\n",
       "      <td>DR1TFDFE</td>\n",
       "      <td>1797.855125</td>\n",
       "    </tr>\n",
       "    <tr>\n",
       "      <th>39</th>\n",
       "      <td>DR1TRET</td>\n",
       "      <td>1298.985662</td>\n",
       "    </tr>\n",
       "    <tr>\n",
       "      <th>43</th>\n",
       "      <td>DR1TCRYP</td>\n",
       "      <td>1297.607499</td>\n",
       "    </tr>\n",
       "    <tr>\n",
       "      <th>...</th>\n",
       "      <td>...</td>\n",
       "      <td>...</td>\n",
       "    </tr>\n",
       "    <tr>\n",
       "      <th>92</th>\n",
       "      <td>DR1.300</td>\n",
       "      <td>5.142874</td>\n",
       "    </tr>\n",
       "    <tr>\n",
       "      <th>84</th>\n",
       "      <td>DR1TM221</td>\n",
       "      <td>4.803149</td>\n",
       "    </tr>\n",
       "    <tr>\n",
       "      <th>86</th>\n",
       "      <td>DR1TP183</td>\n",
       "      <td>4.791625</td>\n",
       "    </tr>\n",
       "    <tr>\n",
       "      <th>103</th>\n",
       "      <td>DRD350CQ</td>\n",
       "      <td>4.596415</td>\n",
       "    </tr>\n",
       "    <tr>\n",
       "      <th>77</th>\n",
       "      <td>DR1TS120</td>\n",
       "      <td>4.533906</td>\n",
       "    </tr>\n",
       "    <tr>\n",
       "      <th>80</th>\n",
       "      <td>DR1TS180</td>\n",
       "      <td>3.604159</td>\n",
       "    </tr>\n",
       "    <tr>\n",
       "      <th>63</th>\n",
       "      <td>DR1TIRON</td>\n",
       "      <td>3.480076</td>\n",
       "    </tr>\n",
       "    <tr>\n",
       "      <th>115</th>\n",
       "      <td>DRD350IQ</td>\n",
       "      <td>3.067463</td>\n",
       "    </tr>\n",
       "    <tr>\n",
       "      <th>112</th>\n",
       "      <td>DRD350H</td>\n",
       "      <td>2.822730</td>\n",
       "    </tr>\n",
       "    <tr>\n",
       "      <th>83</th>\n",
       "      <td>DR1TM201</td>\n",
       "      <td>2.411219</td>\n",
       "    </tr>\n",
       "    <tr>\n",
       "      <th>49</th>\n",
       "      <td>DR1TVB6</td>\n",
       "      <td>2.354281</td>\n",
       "    </tr>\n",
       "    <tr>\n",
       "      <th>117</th>\n",
       "      <td>DRD350JQ</td>\n",
       "      <td>2.290869</td>\n",
       "    </tr>\n",
       "    <tr>\n",
       "      <th>47</th>\n",
       "      <td>DR1TVB2</td>\n",
       "      <td>1.948384</td>\n",
       "    </tr>\n",
       "    <tr>\n",
       "      <th>137</th>\n",
       "      <td>DRD370IQ</td>\n",
       "      <td>1.637933</td>\n",
       "    </tr>\n",
       "    <tr>\n",
       "      <th>97</th>\n",
       "      <td>DRD340</td>\n",
       "      <td>1.559474</td>\n",
       "    </tr>\n",
       "    <tr>\n",
       "      <th>32</th>\n",
       "      <td>DR1TTFAT</td>\n",
       "      <td>1.282695</td>\n",
       "    </tr>\n",
       "    <tr>\n",
       "      <th>90</th>\n",
       "      <td>DR1TP225</td>\n",
       "      <td>0.771633</td>\n",
       "    </tr>\n",
       "    <tr>\n",
       "      <th>89</th>\n",
       "      <td>DR1TP205</td>\n",
       "      <td>0.767512</td>\n",
       "    </tr>\n",
       "    <tr>\n",
       "      <th>99</th>\n",
       "      <td>DRD350AQ</td>\n",
       "      <td>0.683633</td>\n",
       "    </tr>\n",
       "    <tr>\n",
       "      <th>46</th>\n",
       "      <td>DR1TVB1</td>\n",
       "      <td>0.671454</td>\n",
       "    </tr>\n",
       "    <tr>\n",
       "      <th>81</th>\n",
       "      <td>DR1TM161</td>\n",
       "      <td>0.454455</td>\n",
       "    </tr>\n",
       "    <tr>\n",
       "      <th>10</th>\n",
       "      <td>DR1STY</td>\n",
       "      <td>0.424572</td>\n",
       "    </tr>\n",
       "    <tr>\n",
       "      <th>155</th>\n",
       "      <td>DRD370RQ</td>\n",
       "      <td>0.410997</td>\n",
       "    </tr>\n",
       "    <tr>\n",
       "      <th>149</th>\n",
       "      <td>DRD370OQ</td>\n",
       "      <td>0.132400</td>\n",
       "    </tr>\n",
       "    <tr>\n",
       "      <th>105</th>\n",
       "      <td>DRD350DQ</td>\n",
       "      <td>0.091214</td>\n",
       "    </tr>\n",
       "    <tr>\n",
       "      <th>37</th>\n",
       "      <td>DR1TATOC</td>\n",
       "      <td>0.044916</td>\n",
       "    </tr>\n",
       "    <tr>\n",
       "      <th>113</th>\n",
       "      <td>DRD350HQ</td>\n",
       "      <td>0.005816</td>\n",
       "    </tr>\n",
       "    <tr>\n",
       "      <th>87</th>\n",
       "      <td>DR1TP184</td>\n",
       "      <td>0.003605</td>\n",
       "    </tr>\n",
       "    <tr>\n",
       "      <th>23</th>\n",
       "      <td>DRQSDT11</td>\n",
       "      <td>0.000593</td>\n",
       "    </tr>\n",
       "    <tr>\n",
       "      <th>17</th>\n",
       "      <td>DRQSDT5</td>\n",
       "      <td>NaN</td>\n",
       "    </tr>\n",
       "  </tbody>\n",
       "</table>\n",
       "<p>163 rows × 2 columns</p>\n",
       "</div>"
      ],
      "text/plain": [
       "      Feature         Scores\n",
       "1      WTDRD1  707729.384118\n",
       "72   DR1TMOIS  207859.004602\n",
       "45     DR1TLZ  182992.559244\n",
       "95   DR1BWATZ  182474.610768\n",
       "93   DR1.320Z   97053.510968\n",
       "42   DR1TBCAR   80001.200237\n",
       "69   DR1TCAFF   73897.412589\n",
       "2      WTDR2D   19021.191156\n",
       "44   DR1TLYCO   16769.694960\n",
       "60   DR1TCALC   13557.512913\n",
       "67   DR1TPOTA   13550.404986\n",
       "36   DR1TCHOL   10940.744326\n",
       "30   DR1TSUGR   10205.608292\n",
       "66   DR1TSODI    9963.222442\n",
       "27   DR1TKCAL    8919.791839\n",
       "54    DR1TCHL    7917.026780\n",
       "19    DRQSDT7    7751.060757\n",
       "70   DR1TTHEO    6483.519181\n",
       "51     DR1TFA    5838.236602\n",
       "41   DR1TACAR    5452.123934\n",
       "59     DR1TVK    4765.666279\n",
       "29   DR1TCARB    4247.009599\n",
       "57     DR1TVC    3746.485986\n",
       "52     DR1TFF    2958.505520\n",
       "62   DR1TMAGN    2459.934514\n",
       "71   DR1TALCO    1847.543394\n",
       "0          id    1821.001524\n",
       "53   DR1TFDFE    1797.855125\n",
       "39    DR1TRET    1298.985662\n",
       "43   DR1TCRYP    1297.607499\n",
       "..        ...            ...\n",
       "92    DR1.300       5.142874\n",
       "84   DR1TM221       4.803149\n",
       "86   DR1TP183       4.791625\n",
       "103  DRD350CQ       4.596415\n",
       "77   DR1TS120       4.533906\n",
       "80   DR1TS180       3.604159\n",
       "63   DR1TIRON       3.480076\n",
       "115  DRD350IQ       3.067463\n",
       "112   DRD350H       2.822730\n",
       "83   DR1TM201       2.411219\n",
       "49    DR1TVB6       2.354281\n",
       "117  DRD350JQ       2.290869\n",
       "47    DR1TVB2       1.948384\n",
       "137  DRD370IQ       1.637933\n",
       "97     DRD340       1.559474\n",
       "32   DR1TTFAT       1.282695\n",
       "90   DR1TP225       0.771633\n",
       "89   DR1TP205       0.767512\n",
       "99   DRD350AQ       0.683633\n",
       "46    DR1TVB1       0.671454\n",
       "81   DR1TM161       0.454455\n",
       "10     DR1STY       0.424572\n",
       "155  DRD370RQ       0.410997\n",
       "149  DRD370OQ       0.132400\n",
       "105  DRD350DQ       0.091214\n",
       "37   DR1TATOC       0.044916\n",
       "113  DRD350HQ       0.005816\n",
       "87   DR1TP184       0.003605\n",
       "23   DRQSDT11       0.000593\n",
       "17    DRQSDT5            NaN\n",
       "\n",
       "[163 rows x 2 columns]"
      ]
     },
     "execution_count": 40,
     "metadata": {},
     "output_type": "execute_result"
    }
   ],
   "source": [
    "select_feature_df = pd.DataFrame({'Feature':list(X_train.columns),\n",
    "                                 'Scores': select_feature.scores_})\n",
    "select_feature_df.sort_values(by='Scores', ascending=False )"
   ]
  },
  {
   "cell_type": "code",
   "execution_count": 55,
   "metadata": {
    "ExecuteTime": {
     "end_time": "2020-01-13T04:57:33.167690Z",
     "start_time": "2020-01-13T04:57:33.153644Z"
    }
   },
   "outputs": [],
   "source": [
    "X_train_chi = select_feature.transform(X_train_sm)\n",
    "X_test_chi = select_feature.transform(X_test)"
   ]
  },
  {
   "cell_type": "code",
   "execution_count": 57,
   "metadata": {
    "ExecuteTime": {
     "end_time": "2020-01-13T04:58:08.100647Z",
     "start_time": "2020-01-13T04:58:06.455157Z"
    }
   },
   "outputs": [
    {
     "data": {
      "text/plain": [
       "RandomForestClassifier(bootstrap=True, ccp_alpha=0.0, class_weight=None,\n",
       "                       criterion='gini', max_depth=10, max_features='auto',\n",
       "                       max_leaf_nodes=None, max_samples=None,\n",
       "                       min_impurity_decrease=0.0, min_impurity_split=None,\n",
       "                       min_samples_leaf=1, min_samples_split=2,\n",
       "                       min_weight_fraction_leaf=0.0, n_estimators=100,\n",
       "                       n_jobs=None, oob_score=False, random_state=None,\n",
       "                       verbose=0, warm_start=False)"
      ]
     },
     "execution_count": 57,
     "metadata": {},
     "output_type": "execute_result"
    }
   ],
   "source": [
    "rf2.fit(X_train_chi, y_train_sm)"
   ]
  },
  {
   "cell_type": "code",
   "execution_count": 58,
   "metadata": {
    "ExecuteTime": {
     "end_time": "2020-01-13T04:58:16.914941Z",
     "start_time": "2020-01-13T04:58:16.690447Z"
    }
   },
   "outputs": [],
   "source": [
    "train_pred_chi = rf2.predict(X_train_chi)\n",
    "test_pred_chi = rf2.predict(X_test_chi)"
   ]
  },
  {
   "cell_type": "code",
   "execution_count": 59,
   "metadata": {
    "ExecuteTime": {
     "end_time": "2020-01-13T04:58:28.290424Z",
     "start_time": "2020-01-13T04:58:28.071386Z"
    }
   },
   "outputs": [
    {
     "name": "stdout",
     "output_type": "stream",
     "text": [
      "Confusion Matrix test: \n"
     ]
    },
    {
     "data": {
      "image/png": "[encoded data removed]",
      "text/plain": [
       "<Figure size 432x288 with 2 Axes>"
      ]
     },
     "metadata": {
      "needs_background": "light"
     },
     "output_type": "display_data"
    }
   ],
   "source": [
    "cm(y_train_sm, train_pred_chi)"
   ]
  },
  {
   "cell_type": "code",
   "execution_count": 60,
   "metadata": {
    "ExecuteTime": {
     "end_time": "2020-01-13T04:59:25.612490Z",
     "start_time": "2020-01-13T04:59:25.571460Z"
    }
   },
   "outputs": [
    {
     "name": "stdout",
     "output_type": "stream",
     "text": [
      "              precision    recall  f1-score   support\n",
      "\n",
      "         0.0       0.79      0.78      0.78      6729\n",
      "         1.0       0.78      0.79      0.79      6729\n",
      "\n",
      "    accuracy                           0.78     13458\n",
      "   macro avg       0.78      0.78      0.78     13458\n",
      "weighted avg       0.78      0.78      0.78     13458\n",
      "\n"
     ]
    }
   ],
   "source": [
    "print(classification_report(y_train_sm, train_pred_chi))"
   ]
  },
  {
   "cell_type": "code",
   "execution_count": 61,
   "metadata": {
    "ExecuteTime": {
     "end_time": "2020-01-13T04:59:53.959775Z",
     "start_time": "2020-01-13T04:59:53.745252Z"
    }
   },
   "outputs": [
    {
     "name": "stdout",
     "output_type": "stream",
     "text": [
      "Confusion Matrix test: \n"
     ]
    },
    {
     "data": {
      "image/png": "[encoded data removed]",
      "text/plain": [
       "<Figure size 432x288 with 2 Axes>"
      ]
     },
     "metadata": {
      "needs_background": "light"
     },
     "output_type": "display_data"
    }
   ],
   "source": [
    "cm(y_test, test_pred_chi)"
   ]
  },
  {
   "cell_type": "code",
   "execution_count": 62,
   "metadata": {
    "ExecuteTime": {
     "end_time": "2020-01-13T05:00:18.067553Z",
     "start_time": "2020-01-13T05:00:18.050052Z"
    }
   },
   "outputs": [
    {
     "name": "stdout",
     "output_type": "stream",
     "text": [
      "              precision    recall  f1-score   support\n",
      "\n",
      "         0.0       0.91      0.73      0.81      1663\n",
      "         1.0       0.13      0.37      0.20       193\n",
      "\n",
      "    accuracy                           0.69      1856\n",
      "   macro avg       0.52      0.55      0.50      1856\n",
      "weighted avg       0.83      0.69      0.74      1856\n",
      "\n"
     ]
    }
   ],
   "source": [
    "print(classification_report(y_test, test_pred_chi))"
   ]
  },
  {
   "cell_type": "code",
   "execution_count": 65,
   "metadata": {
    "ExecuteTime": {
     "end_time": "2020-01-13T05:30:52.982756Z",
     "start_time": "2020-01-13T05:20:25.708541Z"
    }
   },
   "outputs": [
    {
     "data": {
      "text/html": [
       "<div>\n",
       "<style scoped>\n",
       "    .dataframe tbody tr th:only-of-type {\n",
       "        vertical-align: middle;\n",
       "    }\n",
       "\n",
       "    .dataframe tbody tr th {\n",
       "        vertical-align: top;\n",
       "    }\n",
       "\n",
       "    .dataframe thead th {\n",
       "        text-align: right;\n",
       "    }\n",
       "</style>\n",
       "<table border=\"1\" class=\"dataframe\">\n",
       "  <thead>\n",
       "    <tr style=\"text-align: right;\">\n",
       "      <th></th>\n",
       "      <th>n</th>\n",
       "      <th>p</th>\n",
       "      <th>score</th>\n",
       "      <th>score_ratio</th>\n",
       "    </tr>\n",
       "  </thead>\n",
       "  <tbody>\n",
       "    <tr>\n",
       "      <th>4</th>\n",
       "      <td>6</td>\n",
       "      <td>1.0</td>\n",
       "      <td>0.895474</td>\n",
       "      <td>0.987669</td>\n",
       "    </tr>\n",
       "    <tr>\n",
       "      <th>14</th>\n",
       "      <td>6</td>\n",
       "      <td>2.0</td>\n",
       "      <td>0.895474</td>\n",
       "      <td>0.986643</td>\n",
       "    </tr>\n",
       "    <tr>\n",
       "      <th>34</th>\n",
       "      <td>6</td>\n",
       "      <td>4.0</td>\n",
       "      <td>0.895474</td>\n",
       "      <td>0.986497</td>\n",
       "    </tr>\n",
       "    <tr>\n",
       "      <th>29</th>\n",
       "      <td>6</td>\n",
       "      <td>3.5</td>\n",
       "      <td>0.895474</td>\n",
       "      <td>0.986350</td>\n",
       "    </tr>\n",
       "    <tr>\n",
       "      <th>9</th>\n",
       "      <td>6</td>\n",
       "      <td>1.5</td>\n",
       "      <td>0.895474</td>\n",
       "      <td>0.986204</td>\n",
       "    </tr>\n",
       "    <tr>\n",
       "      <th>24</th>\n",
       "      <td>6</td>\n",
       "      <td>3.0</td>\n",
       "      <td>0.895474</td>\n",
       "      <td>0.986204</td>\n",
       "    </tr>\n",
       "    <tr>\n",
       "      <th>39</th>\n",
       "      <td>6</td>\n",
       "      <td>4.5</td>\n",
       "      <td>0.894935</td>\n",
       "      <td>0.986196</td>\n",
       "    </tr>\n",
       "    <tr>\n",
       "      <th>44</th>\n",
       "      <td>6</td>\n",
       "      <td>5.0</td>\n",
       "      <td>0.894935</td>\n",
       "      <td>0.986196</td>\n",
       "    </tr>\n",
       "    <tr>\n",
       "      <th>19</th>\n",
       "      <td>6</td>\n",
       "      <td>2.5</td>\n",
       "      <td>0.894935</td>\n",
       "      <td>0.985464</td>\n",
       "    </tr>\n",
       "    <tr>\n",
       "      <th>2</th>\n",
       "      <td>4</td>\n",
       "      <td>1.0</td>\n",
       "      <td>0.893858</td>\n",
       "      <td>0.983402</td>\n",
       "    </tr>\n",
       "  </tbody>\n",
       "</table>\n",
       "</div>"
      ],
      "text/plain": [
       "    n    p     score  score_ratio\n",
       "4   6  1.0  0.895474     0.987669\n",
       "14  6  2.0  0.895474     0.986643\n",
       "34  6  4.0  0.895474     0.986497\n",
       "29  6  3.5  0.895474     0.986350\n",
       "9   6  1.5  0.895474     0.986204\n",
       "24  6  3.0  0.895474     0.986204\n",
       "39  6  4.5  0.894935     0.986196\n",
       "44  6  5.0  0.894935     0.986196\n",
       "19  6  2.5  0.894935     0.985464\n",
       "2   4  1.0  0.893858     0.983402"
      ]
     },
     "execution_count": 65,
     "metadata": {},
     "output_type": "execute_result"
    }
   ],
   "source": [
    "dlist = []\n",
    "for p in np.linspace(1, 5, 9):\n",
    "    for n in [2, 3, 4, 5, 6,]:\n",
    "        d = {}\n",
    "        d['p'] = p\n",
    "        d['n'] = n\n",
    "        knn = KNeighborsClassifier(n_neighbors=n, p=p)\n",
    "        knn.fit(X_train, y_train)\n",
    "        score_test = knn.score(X_test, y_test)\n",
    "        score_train = knn.score(X_train, y_train)\n",
    "        score_ratio = min([score_train/score_test, score_test/score_train])\n",
    "        d['score'] = score_test\n",
    "        d['score_ratio'] = score_ratio\n",
    "        dlist.append(d)\n",
    "        \n",
    "score_df = pd.DataFrame(dlist)\n",
    "score_df.sort_values(by=['score_ratio', 'score'], ascending=False, inplace=True)\n",
    "score_df.head(10)"
   ]
  },
  {
   "cell_type": "code",
   "execution_count": 66,
   "metadata": {
    "ExecuteTime": {
     "end_time": "2020-01-13T05:34:03.518896Z",
     "start_time": "2020-01-13T05:34:03.439897Z"
    }
   },
   "outputs": [],
   "source": [
    "scaler = StandardScaler()\n",
    "X_scaled_train = scaler.fit_transform(X_train)\n",
    "X_scaled_test = scaler.transform(X_test)\n"
   ]
  },
  {
   "cell_type": "code",
   "execution_count": 67,
   "metadata": {
    "ExecuteTime": {
     "end_time": "2020-01-13T05:35:05.266769Z",
     "start_time": "2020-01-13T05:35:00.819267Z"
    }
   },
   "outputs": [
    {
     "name": "stdout",
     "output_type": "stream",
     "text": [
      "0.8976293103448276\n"
     ]
    }
   ],
   "source": [
    "knn = KNeighborsClassifier(n_neighbors=6, p=1)\n",
    "knn.fit(X_scaled_train, y_train)\n",
    "\n",
    "print(knn.score(X_scaled_test, y_test))"
   ]
  },
  {
   "cell_type": "code",
   "execution_count": null,
   "metadata": {
    "ExecuteTime": {
     "start_time": "2020-01-13T05:37:39.652Z"
    }
   },
   "outputs": [],
   "source": [
    "dlist = []\n",
    "for p in np.linspace(1, 5, 9):\n",
    "    for n in [2, 3, 4, 5, 6,]:\n",
    "        d = {}\n",
    "        d['p'] = p\n",
    "        d['n'] = n\n",
    "        knn = KNeighborsClassifier(n_neighbors=n, p=p)\n",
    "        knn.fit(X_scaled_train, y_train)\n",
    "        score_test = knn.score(X_scaled_test, y_test)\n",
    "        score_train = knn.score(X_scaled_train, y_train)\n",
    "        score_ratio = min([score_train/score_test, score_test/score_train])\n",
    "        d['score'] = score_test\n",
    "        d['score_ratio'] = score_ratio\n",
    "        dlist.append(d)\n",
    "        \n",
    "score_df = pd.DataFrame(dlist)\n",
    "score_df.sort_values(by=['score_ratio', 'score'], ascending=False, inplace=True)\n",
    "score_df.head(10)"
   ]
  },
  {
   "cell_type": "code",
   "execution_count": null,
   "metadata": {},
   "outputs": [],
   "source": [
    " "
   ]
  }
 ],
 "metadata": {
  "kernelspec": {
   "display_name": "Python [conda env:learn-env] *",
   "language": "python",
   "name": "conda-env-learn-env-py"
  },
  "language_info": {
   "codemirror_mode": {
    "name": "ipython",
    "version": 3
   },
   "file_extension": ".py",
   "mimetype": "text/x-python",
   "name": "python",
   "nbconvert_exporter": "python",
   "pygments_lexer": "ipython3",
   "version": "3.6.6"
  },
  "toc": {
   "base_numbering": 1,
   "nav_menu": {},
   "number_sections": false,
   "sideBar": true,
   "skip_h1_title": false,
   "title_cell": "Table of Contents",
   "title_sidebar": "Contents",
   "toc_cell": false,
   "toc_position": {},
   "toc_section_display": true,
   "toc_window_display": false
  },
  "varInspector": {
   "cols": {
    "lenName": 16,
    "lenType": 16,
    "lenVar": 40
   },
   "kernels_config": {
    "python": {
     "delete_cmd_postfix": "",
     "delete_cmd_prefix": "del ",
     "library": "var_list.py",
     "varRefreshCmd": "print(var_dic_list())"
    },
    "r": {
     "delete_cmd_postfix": ") ",
     "delete_cmd_prefix": "rm(",
     "library": "var_list.r",
     "varRefreshCmd": "cat(var_dic_list()) "
    }
   },
   "types_to_exclude": [
    "module",
    "function",
    "builtin_function_or_method",
    "instance",
    "_Feature"
   ],
   "window_display": false
  }
 },
 "nbformat": 4,
 "nbformat_minor": 2
}
