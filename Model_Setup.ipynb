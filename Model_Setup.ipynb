{
 "cells": [
  {
   "cell_type": "markdown",
   "metadata": {},
   "source": [
    "### Importing necessary Libraries"
   ]
  },
  {
   "cell_type": "code",
   "execution_count": 1,
   "metadata": {
    "ExecuteTime": {
     "end_time": "2020-02-10T21:24:30.831004Z",
     "start_time": "2020-02-10T21:24:27.084550Z"
    }
   },
   "outputs": [
    {
     "name": "stderr",
     "output_type": "stream",
     "text": [
      "Using TensorFlow backend.\n"
     ]
    }
   ],
   "source": [
    "# Setting up the workspace by importing all of the necessary libraries.\n",
    "\n",
    "import pandas as pd\n",
    "import numpy as np\n",
    "import seaborn as sns\n",
    "\n",
    "import matplotlib.pyplot as plt\n",
    "%matplotlib inline\n",
    "\n",
    "import warnings\n",
    "warnings.filterwarnings('ignore')\n",
    "\n",
    "from sklearn.model_selection import GridSearchCV\n",
    "\n",
    "from sklearn.model_selection import train_test_split, GridSearchCV, cross_val_score, StratifiedKFold, KFold\n",
    "from sklearn.linear_model import LogisticRegression\n",
    "from sklearn.feature_selection import SelectKBest, chi2\n",
    "\n",
    "\n",
    "from sklearn.neighbors import KNeighborsClassifier, NearestNeighbors\n",
    "from sklearn.ensemble import RandomForestClassifier\n",
    "from sklearn.metrics import classification_report, r2_score, confusion_matrix,f1_score, recall_score, precision_score, make_scorer\n",
    "from sklearn.preprocessing import StandardScaler\n",
    "import xgboost as xgb\n",
    "from sklearn.decomposition import PCA\n",
    "from sklearn.discriminant_analysis import LinearDiscriminantAnalysis\n",
    "from sklearn.ensemble import BaggingClassifier\n",
    "from imblearn.over_sampling import SMOTE, ADASYN\n",
    "from sklearn import svm\n"
   ]
  },
  {
   "cell_type": "markdown",
   "metadata": {},
   "source": [
    "### Creating a function to display a Confusion Matrix"
   ]
  },
  {
   "cell_type": "code",
   "execution_count": 2,
   "metadata": {
    "ExecuteTime": {
     "end_time": "2020-02-10T21:24:30.892014Z",
     "start_time": "2020-02-10T21:24:30.883009Z"
    }
   },
   "outputs": [],
   "source": [
    "def cm(y_real, y_pred, t='test'):\n",
    "    \"\"\"\n",
    "    This function creates a confusion matrix with the given paramaters.\n",
    "    y_real: known data from test or train.\n",
    "    y_pred: predicted data\n",
    "    t: Title of the matrix\n",
    "    \"\"\"\n",
    "    cf = confusion_matrix(y_real, y_pred)\n",
    "    print(f\"Confusion Matrix {t}: \")\n",
    "    akws = {\"ha\": 'center',\"va\": 'top'}\n",
    "    sns.heatmap(cf/(np.sum(cf)),annot=True, fmt='0.2%',cmap='Blues', annot_kws=akws, cbar=False)\n",
    "\n",
    "    akws = {\"ha\": 'center',\"va\": 'bottom'}\n",
    "    sns.heatmap(cf,annot=True, fmt='0',cmap='Blues', annot_kws=akws)\n",
    "    plt.xlabel('Predicted')\n",
    "    plt.ylabel('Actual')\n",
    "    plt.show()"
   ]
  },
  {
   "cell_type": "markdown",
   "metadata": {},
   "source": [
    "### Creating a function to get labels from a model"
   ]
  },
  {
   "cell_type": "code",
   "execution_count": 3,
   "metadata": {
    "ExecuteTime": {
     "end_time": "2020-02-10T21:24:33.654009Z",
     "start_time": "2020-02-10T21:24:33.649015Z"
    }
   },
   "outputs": [],
   "source": [
    "def get_label(model=None, test_data=None, thresh=0.50):\n",
    "    labels = []\n",
    "    test_preds = model.predict_proba(test_data)\n",
    "    for test_pred in test_preds:\n",
    "        if test_pred[1]>=thresh:\n",
    "            labels.append(1)\n",
    "        else:\n",
    "            labels.append(0)\n",
    "    return np.array(labels)"
   ]
  },
  {
   "cell_type": "markdown",
   "metadata": {},
   "source": [
    "### Loading in the Data Set"
   ]
  },
  {
   "cell_type": "code",
   "execution_count": 4,
   "metadata": {
    "ExecuteTime": {
     "end_time": "2020-02-10T21:24:34.734561Z",
     "start_time": "2020-02-10T21:24:34.299997Z"
    }
   },
   "outputs": [
    {
     "data": {
      "text/html": [
       "<div>\n",
       "<style scoped>\n",
       "    .dataframe tbody tr th:only-of-type {\n",
       "        vertical-align: middle;\n",
       "    }\n",
       "\n",
       "    .dataframe tbody tr th {\n",
       "        vertical-align: top;\n",
       "    }\n",
       "\n",
       "    .dataframe thead th {\n",
       "        text-align: right;\n",
       "    }\n",
       "</style>\n",
       "<table border=\"1\" class=\"dataframe\">\n",
       "  <thead>\n",
       "    <tr style=\"text-align: right;\">\n",
       "      <th></th>\n",
       "      <th>id</th>\n",
       "      <th>WTDRD1</th>\n",
       "      <th>WTDR2D</th>\n",
       "      <th>DR1DRSTZ</th>\n",
       "      <th>DRABF</th>\n",
       "      <th>DRDINT</th>\n",
       "      <th>DR1DAY</th>\n",
       "      <th>DBQ095Z</th>\n",
       "      <th>DBD100</th>\n",
       "      <th>DRQSPREP</th>\n",
       "      <th>...</th>\n",
       "      <th>DRD370R</th>\n",
       "      <th>DRD370RQ</th>\n",
       "      <th>DRD370S</th>\n",
       "      <th>DRD370SQ</th>\n",
       "      <th>DRD370T</th>\n",
       "      <th>DRD370TQ</th>\n",
       "      <th>DRD370U</th>\n",
       "      <th>DRD370UQ</th>\n",
       "      <th>DRD370V</th>\n",
       "      <th>DIQ010</th>\n",
       "    </tr>\n",
       "  </thead>\n",
       "  <tbody>\n",
       "    <tr>\n",
       "      <th>0</th>\n",
       "      <td>73557</td>\n",
       "      <td>16888.327864</td>\n",
       "      <td>12930.890649</td>\n",
       "      <td>1</td>\n",
       "      <td>2.0</td>\n",
       "      <td>2.0</td>\n",
       "      <td>2.0</td>\n",
       "      <td>3.0</td>\n",
       "      <td>2.0</td>\n",
       "      <td>4.0</td>\n",
       "      <td>...</td>\n",
       "      <td>0.0</td>\n",
       "      <td>0.0</td>\n",
       "      <td>0.0</td>\n",
       "      <td>0.0</td>\n",
       "      <td>0.0</td>\n",
       "      <td>0.0</td>\n",
       "      <td>0.0</td>\n",
       "      <td>0.0</td>\n",
       "      <td>0.0</td>\n",
       "      <td>1.0</td>\n",
       "    </tr>\n",
       "    <tr>\n",
       "      <th>1</th>\n",
       "      <td>73558</td>\n",
       "      <td>17932.143865</td>\n",
       "      <td>12684.148869</td>\n",
       "      <td>1</td>\n",
       "      <td>2.0</td>\n",
       "      <td>2.0</td>\n",
       "      <td>1.0</td>\n",
       "      <td>1.0</td>\n",
       "      <td>2.0</td>\n",
       "      <td>3.0</td>\n",
       "      <td>...</td>\n",
       "      <td>2.0</td>\n",
       "      <td>0.0</td>\n",
       "      <td>2.0</td>\n",
       "      <td>0.0</td>\n",
       "      <td>2.0</td>\n",
       "      <td>0.0</td>\n",
       "      <td>2.0</td>\n",
       "      <td>0.0</td>\n",
       "      <td>2.0</td>\n",
       "      <td>1.0</td>\n",
       "    </tr>\n",
       "    <tr>\n",
       "      <th>2</th>\n",
       "      <td>73559</td>\n",
       "      <td>59641.812930</td>\n",
       "      <td>39394.236709</td>\n",
       "      <td>1</td>\n",
       "      <td>2.0</td>\n",
       "      <td>2.0</td>\n",
       "      <td>6.0</td>\n",
       "      <td>1.0</td>\n",
       "      <td>1.0</td>\n",
       "      <td>2.0</td>\n",
       "      <td>...</td>\n",
       "      <td>0.0</td>\n",
       "      <td>0.0</td>\n",
       "      <td>0.0</td>\n",
       "      <td>0.0</td>\n",
       "      <td>0.0</td>\n",
       "      <td>0.0</td>\n",
       "      <td>0.0</td>\n",
       "      <td>0.0</td>\n",
       "      <td>0.0</td>\n",
       "      <td>1.0</td>\n",
       "    </tr>\n",
       "    <tr>\n",
       "      <th>3</th>\n",
       "      <td>73560</td>\n",
       "      <td>142203.069917</td>\n",
       "      <td>125966.366442</td>\n",
       "      <td>1</td>\n",
       "      <td>2.0</td>\n",
       "      <td>2.0</td>\n",
       "      <td>3.0</td>\n",
       "      <td>1.0</td>\n",
       "      <td>1.0</td>\n",
       "      <td>3.0</td>\n",
       "      <td>...</td>\n",
       "      <td>0.0</td>\n",
       "      <td>0.0</td>\n",
       "      <td>0.0</td>\n",
       "      <td>0.0</td>\n",
       "      <td>0.0</td>\n",
       "      <td>0.0</td>\n",
       "      <td>0.0</td>\n",
       "      <td>0.0</td>\n",
       "      <td>0.0</td>\n",
       "      <td>0.0</td>\n",
       "    </tr>\n",
       "    <tr>\n",
       "      <th>4</th>\n",
       "      <td>73561</td>\n",
       "      <td>59052.357033</td>\n",
       "      <td>39004.892993</td>\n",
       "      <td>1</td>\n",
       "      <td>2.0</td>\n",
       "      <td>2.0</td>\n",
       "      <td>1.0</td>\n",
       "      <td>4.0</td>\n",
       "      <td>0.0</td>\n",
       "      <td>4.0</td>\n",
       "      <td>...</td>\n",
       "      <td>2.0</td>\n",
       "      <td>0.0</td>\n",
       "      <td>2.0</td>\n",
       "      <td>0.0</td>\n",
       "      <td>2.0</td>\n",
       "      <td>0.0</td>\n",
       "      <td>2.0</td>\n",
       "      <td>0.0</td>\n",
       "      <td>2.0</td>\n",
       "      <td>0.0</td>\n",
       "    </tr>\n",
       "  </tbody>\n",
       "</table>\n",
       "<p>5 rows × 164 columns</p>\n",
       "</div>"
      ],
      "text/plain": [
       "      id         WTDRD1         WTDR2D  DR1DRSTZ  DRABF  DRDINT  DR1DAY  \\\n",
       "0  73557   16888.327864   12930.890649         1    2.0     2.0     2.0   \n",
       "1  73558   17932.143865   12684.148869         1    2.0     2.0     1.0   \n",
       "2  73559   59641.812930   39394.236709         1    2.0     2.0     6.0   \n",
       "3  73560  142203.069917  125966.366442         1    2.0     2.0     3.0   \n",
       "4  73561   59052.357033   39004.892993         1    2.0     2.0     1.0   \n",
       "\n",
       "   DBQ095Z  DBD100  DRQSPREP   ...    DRD370R  DRD370RQ  DRD370S  DRD370SQ  \\\n",
       "0      3.0     2.0       4.0   ...        0.0       0.0      0.0       0.0   \n",
       "1      1.0     2.0       3.0   ...        2.0       0.0      2.0       0.0   \n",
       "2      1.0     1.0       2.0   ...        0.0       0.0      0.0       0.0   \n",
       "3      1.0     1.0       3.0   ...        0.0       0.0      0.0       0.0   \n",
       "4      4.0     0.0       4.0   ...        2.0       0.0      2.0       0.0   \n",
       "\n",
       "   DRD370T  DRD370TQ  DRD370U  DRD370UQ  DRD370V  DIQ010  \n",
       "0      0.0       0.0      0.0       0.0      0.0     1.0  \n",
       "1      2.0       0.0      2.0       0.0      2.0     1.0  \n",
       "2      0.0       0.0      0.0       0.0      0.0     1.0  \n",
       "3      0.0       0.0      0.0       0.0      0.0     0.0  \n",
       "4      2.0       0.0      2.0       0.0      2.0     0.0  \n",
       "\n",
       "[5 rows x 164 columns]"
      ]
     },
     "execution_count": 4,
     "metadata": {},
     "output_type": "execute_result"
    }
   ],
   "source": [
    "df = pd.read_csv('DIQ010_Target.csv')\n",
    "df.head()"
   ]
  },
  {
   "cell_type": "code",
   "execution_count": 5,
   "metadata": {
    "ExecuteTime": {
     "end_time": "2020-02-10T21:24:34.998528Z",
     "start_time": "2020-02-10T21:24:34.983526Z"
    }
   },
   "outputs": [],
   "source": [
    "# in a preliminary model 'id' caused some data leakage so we removed it here.\n",
    "df.drop(['id'], axis=1, inplace=True)"
   ]
  },
  {
   "cell_type": "code",
   "execution_count": 6,
   "metadata": {
    "ExecuteTime": {
     "end_time": "2020-02-10T21:24:35.265523Z",
     "start_time": "2020-02-10T21:24:35.255528Z"
    }
   },
   "outputs": [
    {
     "data": {
      "text/plain": [
       "0.0    8392\n",
       "1.0     888\n",
       "Name: DIQ010, dtype: int64"
      ]
     },
     "execution_count": 6,
     "metadata": {},
     "output_type": "execute_result"
    }
   ],
   "source": [
    "df.DIQ010.value_counts()"
   ]
  },
  {
   "cell_type": "markdown",
   "metadata": {},
   "source": [
    "#### Creating a Train and Test Split"
   ]
  },
  {
   "cell_type": "code",
   "execution_count": 7,
   "metadata": {
    "ExecuteTime": {
     "end_time": "2020-02-10T21:24:35.530526Z",
     "start_time": "2020-02-10T21:24:35.517525Z"
    }
   },
   "outputs": [],
   "source": [
    "X = df.drop(['DIQ010'], axis=1)\n",
    "y = df['DIQ010']"
   ]
  },
  {
   "cell_type": "code",
   "execution_count": 8,
   "metadata": {
    "ExecuteTime": {
     "end_time": "2020-02-10T21:24:36.016555Z",
     "start_time": "2020-02-10T21:24:35.991526Z"
    }
   },
   "outputs": [],
   "source": [
    "X_train, X_test, y_train, y_test = train_test_split(X,y,test_size=.2, random_state=81)"
   ]
  },
  {
   "cell_type": "markdown",
   "metadata": {},
   "source": [
    "#### Checking for imbalance"
   ]
  },
  {
   "cell_type": "code",
   "execution_count": 9,
   "metadata": {
    "ExecuteTime": {
     "end_time": "2020-02-10T21:24:36.777527Z",
     "start_time": "2020-02-10T21:24:36.767524Z"
    }
   },
   "outputs": [
    {
     "data": {
      "text/plain": [
       "0.0    6729\n",
       "1.0     695\n",
       "Name: DIQ010, dtype: int64"
      ]
     },
     "execution_count": 9,
     "metadata": {},
     "output_type": "execute_result"
    }
   ],
   "source": [
    "y_train.value_counts()\n"
   ]
  },
  {
   "cell_type": "markdown",
   "metadata": {},
   "source": [
    "### Using SMOTE to balance the training data set"
   ]
  },
  {
   "cell_type": "code",
   "execution_count": 10,
   "metadata": {
    "ExecuteTime": {
     "end_time": "2020-02-10T21:26:07.543597Z",
     "start_time": "2020-02-10T21:26:07.538597Z"
    }
   },
   "outputs": [],
   "source": [
    "sm = SMOTE(n_jobs=-1, k_neighbors=3)"
   ]
  },
  {
   "cell_type": "code",
   "execution_count": 11,
   "metadata": {
    "ExecuteTime": {
     "end_time": "2020-02-10T21:26:08.510598Z",
     "start_time": "2020-02-10T21:26:08.310601Z"
    }
   },
   "outputs": [],
   "source": [
    "X_train_sm, y_train_sm = sm.fit_sample(X_train, y_train)"
   ]
  },
  {
   "cell_type": "markdown",
   "metadata": {},
   "source": [
    "### Run a preliminary model using Random Forest"
   ]
  },
  {
   "cell_type": "code",
   "execution_count": 12,
   "metadata": {
    "ExecuteTime": {
     "end_time": "2020-02-10T21:26:09.170599Z",
     "start_time": "2020-02-10T21:26:09.165596Z"
    }
   },
   "outputs": [],
   "source": [
    "rf = RandomForestClassifier()"
   ]
  },
  {
   "cell_type": "code",
   "execution_count": 13,
   "metadata": {
    "ExecuteTime": {
     "end_time": "2020-02-10T21:26:15.252599Z",
     "start_time": "2020-02-10T21:26:09.839595Z"
    }
   },
   "outputs": [
    {
     "data": {
      "text/plain": [
       "RandomForestClassifier(bootstrap=True, ccp_alpha=0.0, class_weight=None,\n",
       "                       criterion='gini', max_depth=None, max_features='auto',\n",
       "                       max_leaf_nodes=None, max_samples=None,\n",
       "                       min_impurity_decrease=0.0, min_impurity_split=None,\n",
       "                       min_samples_leaf=1, min_samples_split=2,\n",
       "                       min_weight_fraction_leaf=0.0, n_estimators=100,\n",
       "                       n_jobs=None, oob_score=False, random_state=None,\n",
       "                       verbose=0, warm_start=False)"
      ]
     },
     "execution_count": 13,
     "metadata": {},
     "output_type": "execute_result"
    }
   ],
   "source": [
    "rf.fit(X_train_sm, y_train_sm)"
   ]
  },
  {
   "cell_type": "code",
   "execution_count": 14,
   "metadata": {
    "ExecuteTime": {
     "end_time": "2020-02-10T21:33:30.266695Z",
     "start_time": "2020-02-10T21:33:29.728665Z"
    }
   },
   "outputs": [],
   "source": [
    "train_pred = rf.predict(X_train_sm)\n",
    "test_pred = rf.predict(X_test)"
   ]
  },
  {
   "cell_type": "code",
   "execution_count": 15,
   "metadata": {
    "ExecuteTime": {
     "end_time": "2020-02-10T21:33:31.676663Z",
     "start_time": "2020-02-10T21:33:31.235666Z"
    }
   },
   "outputs": [
    {
     "name": "stdout",
     "output_type": "stream",
     "text": [
      "Confusion Matrix test: \n"
     ]
    },
    {
     "data": {
      "image/png": "[encoded data removed]",
      "text/plain": [
       "<Figure size 432x288 with 2 Axes>"
      ]
     },
     "metadata": {
      "needs_background": "light"
     },
     "output_type": "display_data"
    }
   ],
   "source": [
    "cm(y_train_sm, train_pred)"
   ]
  },
  {
   "cell_type": "code",
   "execution_count": 16,
   "metadata": {
    "ExecuteTime": {
     "end_time": "2020-02-10T21:33:31.699670Z",
     "start_time": "2020-02-10T21:33:31.680664Z"
    }
   },
   "outputs": [
    {
     "name": "stdout",
     "output_type": "stream",
     "text": [
      "Accuracy:  1.0\n"
     ]
    }
   ],
   "source": [
    "print('Accuracy: ', precision_score(y_train_sm, train_pred))"
   ]
  },
  {
   "cell_type": "code",
   "execution_count": 17,
   "metadata": {
    "ExecuteTime": {
     "end_time": "2020-02-10T21:33:39.395168Z",
     "start_time": "2020-02-10T21:33:38.988170Z"
    }
   },
   "outputs": [
    {
     "name": "stdout",
     "output_type": "stream",
     "text": [
      "Confusion Matrix test: \n"
     ]
    },
    {
     "data": {
      "image/png": "[encoded data removed]",
      "text/plain": [
       "<Figure size 432x288 with 2 Axes>"
      ]
     },
     "metadata": {
      "needs_background": "light"
     },
     "output_type": "display_data"
    }
   ],
   "source": [
    "cm(y_test, test_pred)"
   ]
  },
  {
   "cell_type": "code",
   "execution_count": 18,
   "metadata": {
    "ExecuteTime": {
     "end_time": "2020-02-10T21:33:40.399174Z",
     "start_time": "2020-02-10T21:33:40.385170Z"
    }
   },
   "outputs": [
    {
     "name": "stdout",
     "output_type": "stream",
     "text": [
      "Accuracy:  1.0\n"
     ]
    }
   ],
   "source": [
    "print('Accuracy: ', precision_score(y_test, test_pred))"
   ]
  },
  {
   "cell_type": "code",
   "execution_count": 19,
   "metadata": {
    "ExecuteTime": {
     "end_time": "2020-02-10T21:33:49.254712Z",
     "start_time": "2020-02-10T21:33:41.221170Z"
    }
   },
   "outputs": [
    {
     "data": {
      "text/plain": [
       "RandomForestClassifier(bootstrap=True, ccp_alpha=0.0, class_weight=None,\n",
       "                       criterion='gini', max_depth=None, max_features='auto',\n",
       "                       max_leaf_nodes=None, max_samples=None,\n",
       "                       min_impurity_decrease=0.0, min_impurity_split=None,\n",
       "                       min_samples_leaf=1, min_samples_split=2,\n",
       "                       min_weight_fraction_leaf=0.0, n_estimators=100,\n",
       "                       n_jobs=None, oob_score=False, random_state=None,\n",
       "                       verbose=0, warm_start=False)"
      ]
     },
     "execution_count": 19,
     "metadata": {},
     "output_type": "execute_result"
    }
   ],
   "source": [
    "rf.fit(X_train_sm, y_train_sm)"
   ]
  },
  {
   "cell_type": "code",
   "execution_count": 20,
   "metadata": {
    "ExecuteTime": {
     "end_time": "2020-02-10T21:33:51.146370Z",
     "start_time": "2020-02-10T21:33:50.474329Z"
    }
   },
   "outputs": [],
   "source": [
    "train_pred = rf.predict(X_train)\n",
    "train_pred_sm = rf.predict(X_train_sm)\n",
    "test_pred = rf.predict(X_test)"
   ]
  },
  {
   "cell_type": "code",
   "execution_count": 21,
   "metadata": {
    "ExecuteTime": {
     "end_time": "2020-02-10T21:33:51.766325Z",
     "start_time": "2020-02-10T21:33:51.399326Z"
    }
   },
   "outputs": [
    {
     "name": "stdout",
     "output_type": "stream",
     "text": [
      "Confusion Matrix test: \n"
     ]
    },
    {
     "data": {
      "image/png": "[encoded data removed]",
      "text/plain": [
       "<Figure size 432x288 with 2 Axes>"
      ]
     },
     "metadata": {
      "needs_background": "light"
     },
     "output_type": "display_data"
    }
   ],
   "source": [
    "cm(y_test, test_pred)"
   ]
  },
  {
   "cell_type": "code",
   "execution_count": 22,
   "metadata": {
    "ExecuteTime": {
     "end_time": "2020-02-10T21:33:58.810990Z",
     "start_time": "2020-02-10T21:33:58.802953Z"
    }
   },
   "outputs": [
    {
     "name": "stdout",
     "output_type": "stream",
     "text": [
      "Accuracy:  0.9629629629629629\n"
     ]
    }
   ],
   "source": [
    "print('Accuracy: ', precision_score(y_test, test_pred))"
   ]
  },
  {
   "cell_type": "code",
   "execution_count": 23,
   "metadata": {
    "ExecuteTime": {
     "end_time": "2020-02-10T21:34:00.366484Z",
     "start_time": "2020-02-10T21:34:00.079481Z"
    }
   },
   "outputs": [
    {
     "name": "stdout",
     "output_type": "stream",
     "text": [
      "Confusion Matrix test: \n"
     ]
    },
    {
     "data": {
      "image/png": "[encoded data removed]",
      "text/plain": [
       "<Figure size 432x288 with 2 Axes>"
      ]
     },
     "metadata": {
      "needs_background": "light"
     },
     "output_type": "display_data"
    }
   ],
   "source": [
    "cm(y_train, train_pred)"
   ]
  },
  {
   "cell_type": "code",
   "execution_count": 24,
   "metadata": {
    "ExecuteTime": {
     "end_time": "2020-02-10T21:34:00.391481Z",
     "start_time": "2020-02-10T21:34:00.372483Z"
    }
   },
   "outputs": [
    {
     "name": "stdout",
     "output_type": "stream",
     "text": [
      "Accuracy:  1.0\n"
     ]
    }
   ],
   "source": [
    "print('Accuracy: ', precision_score(y_train, train_pred))"
   ]
  },
  {
   "cell_type": "code",
   "execution_count": 25,
   "metadata": {
    "ExecuteTime": {
     "end_time": "2020-02-10T21:34:02.768479Z",
     "start_time": "2020-02-10T21:34:02.494481Z"
    }
   },
   "outputs": [
    {
     "name": "stdout",
     "output_type": "stream",
     "text": [
      "Confusion Matrix test: \n"
     ]
    },
    {
     "data": {
      "image/png": "[encoded data removed]",
      "text/plain": [
       "<Figure size 432x288 with 2 Axes>"
      ]
     },
     "metadata": {
      "needs_background": "light"
     },
     "output_type": "display_data"
    }
   ],
   "source": [
    "cm(y_train_sm, train_pred_sm)"
   ]
  },
  {
   "cell_type": "code",
   "execution_count": 26,
   "metadata": {
    "ExecuteTime": {
     "end_time": "2020-02-10T21:34:02.794484Z",
     "start_time": "2020-02-10T21:34:02.771480Z"
    }
   },
   "outputs": [
    {
     "name": "stdout",
     "output_type": "stream",
     "text": [
      "Accuracy:  1.0\n"
     ]
    }
   ],
   "source": [
    "print('Accuracy: ', precision_score(y_train_sm, train_pred_sm))"
   ]
  },
  {
   "cell_type": "markdown",
   "metadata": {},
   "source": [
    "### Random Forest classifier is optimizing accuracy.  We will be better served optimizing for recall."
   ]
  },
  {
   "cell_type": "markdown",
   "metadata": {},
   "source": [
    "# Finding the best model using recall as a metric"
   ]
  },
  {
   "cell_type": "markdown",
   "metadata": {},
   "source": [
    "#### Performing a GridSearch to find the best parameters for this model"
   ]
  },
  {
   "cell_type": "code",
   "execution_count": 27,
   "metadata": {
    "ExecuteTime": {
     "end_time": "2020-02-10T21:50:18.563201Z",
     "start_time": "2020-02-10T21:50:18.557238Z"
    }
   },
   "outputs": [],
   "source": [
    "rf = RandomForestClassifier()\n",
    "\n",
    "params = {\"n_estimators\":[10, 20, 50, 100],\n",
    "          \"criterion\": [\"entropy\", \"gini\"],\n",
    "          \"max_depth\": [1, 2, 5, 10],\n",
    "          \"min_samples_split\": [0, 1, 2, 3]}\n",
    "\n",
    "clf = GridSearchCV(rf, params, scoring=make_scorer(recall_score))"
   ]
  },
  {
   "cell_type": "code",
   "execution_count": 28,
   "metadata": {
    "ExecuteTime": {
     "end_time": "2020-02-10T21:56:27.063078Z",
     "start_time": "2020-02-10T21:50:24.430377Z"
    }
   },
   "outputs": [
    {
     "data": {
      "text/plain": [
       "GridSearchCV(cv=None, error_score=nan,\n",
       "             estimator=RandomForestClassifier(bootstrap=True, ccp_alpha=0.0,\n",
       "                                              class_weight=None,\n",
       "                                              criterion='gini', max_depth=None,\n",
       "                                              max_features='auto',\n",
       "                                              max_leaf_nodes=None,\n",
       "                                              max_samples=None,\n",
       "                                              min_impurity_decrease=0.0,\n",
       "                                              min_impurity_split=None,\n",
       "                                              min_samples_leaf=1,\n",
       "                                              min_samples_split=2,\n",
       "                                              min_weight_fraction_leaf=0.0,\n",
       "                                              n_estimators=100, n_jobs=None,\n",
       "                                              oob_score=False,\n",
       "                                              random_state=None, verbose=0,\n",
       "                                              warm_start=False),\n",
       "             iid='deprecated', n_jobs=None,\n",
       "             param_grid={'criterion': ['entropy', 'gini'],\n",
       "                         'max_depth': [1, 2, 5, 10],\n",
       "                         'min_samples_split': [0, 1, 2, 3],\n",
       "                         'n_estimators': [10, 20, 50, 100]},\n",
       "             pre_dispatch='2*n_jobs', refit=True, return_train_score=False,\n",
       "             scoring=make_scorer(recall_score), verbose=0)"
      ]
     },
     "execution_count": 28,
     "metadata": {},
     "output_type": "execute_result"
    }
   ],
   "source": [
    "clf.fit(X_train_sm, y_train_sm)"
   ]
  },
  {
   "cell_type": "code",
   "execution_count": 29,
   "metadata": {
    "ExecuteTime": {
     "end_time": "2020-02-10T22:02:09.341037Z",
     "start_time": "2020-02-10T22:02:09.334041Z"
    }
   },
   "outputs": [
    {
     "data": {
      "text/plain": [
       "{'criterion': 'gini',\n",
       " 'max_depth': 1,\n",
       " 'min_samples_split': 2,\n",
       " 'n_estimators': 10}"
      ]
     },
     "execution_count": 29,
     "metadata": {},
     "output_type": "execute_result"
    }
   ],
   "source": [
    "clf.best_params_"
   ]
  },
  {
   "cell_type": "code",
   "execution_count": 31,
   "metadata": {
    "ExecuteTime": {
     "end_time": "2020-02-10T22:02:46.877728Z",
     "start_time": "2020-02-10T22:02:46.873721Z"
    }
   },
   "outputs": [],
   "source": [
    "rf2 = RandomForestClassifier(n_estimators=10, max_depth=1, criterion='gini', min_samples_split=2)"
   ]
  },
  {
   "cell_type": "code",
   "execution_count": 32,
   "metadata": {
    "ExecuteTime": {
     "end_time": "2020-02-10T22:02:47.869333Z",
     "start_time": "2020-02-10T22:02:47.738376Z"
    }
   },
   "outputs": [
    {
     "data": {
      "text/plain": [
       "RandomForestClassifier(bootstrap=True, ccp_alpha=0.0, class_weight=None,\n",
       "                       criterion='gini', max_depth=1, max_features='auto',\n",
       "                       max_leaf_nodes=None, max_samples=None,\n",
       "                       min_impurity_decrease=0.0, min_impurity_split=None,\n",
       "                       min_samples_leaf=1, min_samples_split=2,\n",
       "                       min_weight_fraction_leaf=0.0, n_estimators=10,\n",
       "                       n_jobs=None, oob_score=False, random_state=None,\n",
       "                       verbose=0, warm_start=False)"
      ]
     },
     "execution_count": 32,
     "metadata": {},
     "output_type": "execute_result"
    }
   ],
   "source": [
    "rf2.fit(X_train_sm, y_train_sm)"
   ]
  },
  {
   "cell_type": "markdown",
   "metadata": {},
   "source": [
    "#### Make predictions using the parameters"
   ]
  },
  {
   "cell_type": "code",
   "execution_count": 33,
   "metadata": {
    "ExecuteTime": {
     "end_time": "2020-02-10T22:02:50.929726Z",
     "start_time": "2020-02-10T22:02:50.873723Z"
    }
   },
   "outputs": [],
   "source": [
    "train_pred2 = rf2.predict(X_train)\n",
    "train_pred_sm = rf2.predict(X_train_sm)\n",
    "test_pred2 = rf2.predict(X_test)"
   ]
  },
  {
   "cell_type": "markdown",
   "metadata": {},
   "source": [
    "#### Check the performance with a confusion matrix"
   ]
  },
  {
   "cell_type": "code",
   "execution_count": 34,
   "metadata": {
    "ExecuteTime": {
     "end_time": "2020-02-10T22:02:51.856054Z",
     "start_time": "2020-02-10T22:02:51.640056Z"
    }
   },
   "outputs": [
    {
     "name": "stdout",
     "output_type": "stream",
     "text": [
      "Confusion Matrix test: \n"
     ]
    },
    {
     "data": {
      "image/png": "[encoded data removed]",
      "text/plain": [
       "<Figure size 432x288 with 2 Axes>"
      ]
     },
     "metadata": {
      "needs_background": "light"
     },
     "output_type": "display_data"
    }
   ],
   "source": [
    "cm(y_train_sm, train_pred_sm)"
   ]
  },
  {
   "cell_type": "code",
   "execution_count": 35,
   "metadata": {
    "ExecuteTime": {
     "end_time": "2020-02-10T22:02:56.819301Z",
     "start_time": "2020-02-10T22:02:56.780298Z"
    }
   },
   "outputs": [
    {
     "name": "stdout",
     "output_type": "stream",
     "text": [
      "              precision    recall  f1-score   support\n",
      "\n",
      "         0.0       0.70      0.47      0.56      6729\n",
      "         1.0       0.60      0.80      0.69      6729\n",
      "\n",
      "    accuracy                           0.64     13458\n",
      "   macro avg       0.65      0.64      0.63     13458\n",
      "weighted avg       0.65      0.64      0.63     13458\n",
      "\n"
     ]
    }
   ],
   "source": [
    "print(classification_report(y_train_sm, train_pred_sm))"
   ]
  },
  {
   "cell_type": "code",
   "execution_count": 36,
   "metadata": {
    "ExecuteTime": {
     "end_time": "2020-02-10T22:02:57.801299Z",
     "start_time": "2020-02-10T22:02:57.616296Z"
    }
   },
   "outputs": [
    {
     "name": "stdout",
     "output_type": "stream",
     "text": [
      "Confusion Matrix test: \n"
     ]
    },
    {
     "data": {
      "image/png": "[encoded data removed]",
      "text/plain": [
       "<Figure size 432x288 with 2 Axes>"
      ]
     },
     "metadata": {
      "needs_background": "light"
     },
     "output_type": "display_data"
    }
   ],
   "source": [
    "cm(y_test, test_pred2)"
   ]
  },
  {
   "cell_type": "code",
   "execution_count": 37,
   "metadata": {
    "ExecuteTime": {
     "end_time": "2020-02-10T22:02:58.514300Z",
     "start_time": "2020-02-10T22:02:58.497297Z"
    }
   },
   "outputs": [
    {
     "name": "stdout",
     "output_type": "stream",
     "text": [
      "              precision    recall  f1-score   support\n",
      "\n",
      "         0.0       0.91      1.00      0.95      1663\n",
      "         1.0       0.96      0.13      0.24       193\n",
      "\n",
      "    accuracy                           0.91      1856\n",
      "   macro avg       0.94      0.57      0.59      1856\n",
      "weighted avg       0.91      0.91      0.88      1856\n",
      "\n"
     ]
    }
   ],
   "source": [
    "print(classification_report(y_test, test_pred))"
   ]
  },
  {
   "cell_type": "markdown",
   "metadata": {},
   "source": [
    "#### The model works well, but is classifying too many false positives.  \n",
    "we will try another avenue"
   ]
  },
  {
   "cell_type": "markdown",
   "metadata": {},
   "source": [
    "### Feature selection"
   ]
  },
  {
   "cell_type": "code",
   "execution_count": 87,
   "metadata": {
    "ExecuteTime": {
     "end_time": "2020-02-11T15:51:52.861482Z",
     "start_time": "2020-02-11T15:51:52.807491Z"
    }
   },
   "outputs": [],
   "source": [
    "select_feature = SelectKBest(chi2, k=15).fit(X_train_sm, y_train_sm)"
   ]
  },
  {
   "cell_type": "code",
   "execution_count": 106,
   "metadata": {
    "ExecuteTime": {
     "end_time": "2020-02-11T15:56:57.139947Z",
     "start_time": "2020-02-11T15:56:57.110945Z"
    }
   },
   "outputs": [
    {
     "data": {
      "text/html": [
       "<div>\n",
       "<style scoped>\n",
       "    .dataframe tbody tr th:only-of-type {\n",
       "        vertical-align: middle;\n",
       "    }\n",
       "\n",
       "    .dataframe tbody tr th {\n",
       "        vertical-align: top;\n",
       "    }\n",
       "\n",
       "    .dataframe thead th {\n",
       "        text-align: right;\n",
       "    }\n",
       "</style>\n",
       "<table border=\"1\" class=\"dataframe\">\n",
       "  <thead>\n",
       "    <tr style=\"text-align: right;\">\n",
       "      <th></th>\n",
       "      <th>Feature</th>\n",
       "      <th>Scores</th>\n",
       "    </tr>\n",
       "  </thead>\n",
       "  <tbody>\n",
       "    <tr>\n",
       "      <th>0</th>\n",
       "      <td>WTDRD1</td>\n",
       "      <td>189432.735271</td>\n",
       "    </tr>\n",
       "    <tr>\n",
       "      <th>71</th>\n",
       "      <td>DR1TMOIS</td>\n",
       "      <td>182939.481133</td>\n",
       "    </tr>\n",
       "    <tr>\n",
       "      <th>94</th>\n",
       "      <td>DR1BWATZ</td>\n",
       "      <td>170083.608710</td>\n",
       "    </tr>\n",
       "    <tr>\n",
       "      <th>44</th>\n",
       "      <td>DR1TLZ</td>\n",
       "      <td>118921.478400</td>\n",
       "    </tr>\n",
       "    <tr>\n",
       "      <th>68</th>\n",
       "      <td>DR1TCAFF</td>\n",
       "      <td>83239.534146</td>\n",
       "    </tr>\n",
       "    <tr>\n",
       "      <th>92</th>\n",
       "      <td>DR1.320Z</td>\n",
       "      <td>75310.355928</td>\n",
       "    </tr>\n",
       "    <tr>\n",
       "      <th>41</th>\n",
       "      <td>DR1TBCAR</td>\n",
       "      <td>67717.781100</td>\n",
       "    </tr>\n",
       "    <tr>\n",
       "      <th>40</th>\n",
       "      <td>DR1TACAR</td>\n",
       "      <td>23104.143796</td>\n",
       "    </tr>\n",
       "    <tr>\n",
       "      <th>59</th>\n",
       "      <td>DR1TCALC</td>\n",
       "      <td>18555.762793</td>\n",
       "    </tr>\n",
       "    <tr>\n",
       "      <th>35</th>\n",
       "      <td>DR1TCHOL</td>\n",
       "      <td>11536.204790</td>\n",
       "    </tr>\n",
       "    <tr>\n",
       "      <th>66</th>\n",
       "      <td>DR1TPOTA</td>\n",
       "      <td>11221.376317</td>\n",
       "    </tr>\n",
       "    <tr>\n",
       "      <th>29</th>\n",
       "      <td>DR1TSUGR</td>\n",
       "      <td>8958.195176</td>\n",
       "    </tr>\n",
       "    <tr>\n",
       "      <th>26</th>\n",
       "      <td>DR1TKCAL</td>\n",
       "      <td>8919.875122</td>\n",
       "    </tr>\n",
       "    <tr>\n",
       "      <th>1</th>\n",
       "      <td>WTDR2D</td>\n",
       "      <td>8646.200404</td>\n",
       "    </tr>\n",
       "    <tr>\n",
       "      <th>50</th>\n",
       "      <td>DR1TFA</td>\n",
       "      <td>7501.894803</td>\n",
       "    </tr>\n",
       "    <tr>\n",
       "      <th>18</th>\n",
       "      <td>DRQSDT7</td>\n",
       "      <td>7307.607144</td>\n",
       "    </tr>\n",
       "    <tr>\n",
       "      <th>53</th>\n",
       "      <td>DR1TCHL</td>\n",
       "      <td>7182.099068</td>\n",
       "    </tr>\n",
       "    <tr>\n",
       "      <th>69</th>\n",
       "      <td>DR1TTHEO</td>\n",
       "      <td>6172.356659</td>\n",
       "    </tr>\n",
       "    <tr>\n",
       "      <th>65</th>\n",
       "      <td>DR1TSODI</td>\n",
       "      <td>5303.626702</td>\n",
       "    </tr>\n",
       "    <tr>\n",
       "      <th>56</th>\n",
       "      <td>DR1TVC</td>\n",
       "      <td>4400.618553</td>\n",
       "    </tr>\n",
       "    <tr>\n",
       "      <th>42</th>\n",
       "      <td>DR1TCRYP</td>\n",
       "      <td>4267.682919</td>\n",
       "    </tr>\n",
       "    <tr>\n",
       "      <th>28</th>\n",
       "      <td>DR1TCARB</td>\n",
       "      <td>4002.530360</td>\n",
       "    </tr>\n",
       "    <tr>\n",
       "      <th>52</th>\n",
       "      <td>DR1TFDFE</td>\n",
       "      <td>3312.329437</td>\n",
       "    </tr>\n",
       "    <tr>\n",
       "      <th>38</th>\n",
       "      <td>DR1TRET</td>\n",
       "      <td>3081.064463</td>\n",
       "    </tr>\n",
       "    <tr>\n",
       "      <th>58</th>\n",
       "      <td>DR1TVK</td>\n",
       "      <td>2981.028132</td>\n",
       "    </tr>\n",
       "    <tr>\n",
       "      <th>51</th>\n",
       "      <td>DR1TFF</td>\n",
       "      <td>2166.104090</td>\n",
       "    </tr>\n",
       "    <tr>\n",
       "      <th>61</th>\n",
       "      <td>DR1TMAGN</td>\n",
       "      <td>2005.402751</td>\n",
       "    </tr>\n",
       "    <tr>\n",
       "      <th>70</th>\n",
       "      <td>DR1TALCO</td>\n",
       "      <td>1689.683476</td>\n",
       "    </tr>\n",
       "    <tr>\n",
       "      <th>93</th>\n",
       "      <td>DR1.330Z</td>\n",
       "      <td>698.117929</td>\n",
       "    </tr>\n",
       "    <tr>\n",
       "      <th>67</th>\n",
       "      <td>DR1TSELE</td>\n",
       "      <td>689.599849</td>\n",
       "    </tr>\n",
       "    <tr>\n",
       "      <th>...</th>\n",
       "      <td>...</td>\n",
       "      <td>...</td>\n",
       "    </tr>\n",
       "    <tr>\n",
       "      <th>100</th>\n",
       "      <td>DRD350BQ</td>\n",
       "      <td>5.232442</td>\n",
       "    </tr>\n",
       "    <tr>\n",
       "      <th>3</th>\n",
       "      <td>DRABF</td>\n",
       "      <td>4.614200</td>\n",
       "    </tr>\n",
       "    <tr>\n",
       "      <th>48</th>\n",
       "      <td>DR1TVB6</td>\n",
       "      <td>4.501372</td>\n",
       "    </tr>\n",
       "    <tr>\n",
       "      <th>76</th>\n",
       "      <td>DR1TS120</td>\n",
       "      <td>4.184183</td>\n",
       "    </tr>\n",
       "    <tr>\n",
       "      <th>79</th>\n",
       "      <td>DR1TS180</td>\n",
       "      <td>4.124403</td>\n",
       "    </tr>\n",
       "    <tr>\n",
       "      <th>83</th>\n",
       "      <td>DR1TM221</td>\n",
       "      <td>3.801951</td>\n",
       "    </tr>\n",
       "    <tr>\n",
       "      <th>91</th>\n",
       "      <td>DR1.300</td>\n",
       "      <td>3.570460</td>\n",
       "    </tr>\n",
       "    <tr>\n",
       "      <th>22</th>\n",
       "      <td>DRQSDT11</td>\n",
       "      <td>3.160180</td>\n",
       "    </tr>\n",
       "    <tr>\n",
       "      <th>46</th>\n",
       "      <td>DR1TVB2</td>\n",
       "      <td>2.603342</td>\n",
       "    </tr>\n",
       "    <tr>\n",
       "      <th>111</th>\n",
       "      <td>DRD350H</td>\n",
       "      <td>2.571897</td>\n",
       "    </tr>\n",
       "    <tr>\n",
       "      <th>9</th>\n",
       "      <td>DR1STY</td>\n",
       "      <td>1.598787</td>\n",
       "    </tr>\n",
       "    <tr>\n",
       "      <th>47</th>\n",
       "      <td>DR1TNIAC</td>\n",
       "      <td>1.487298</td>\n",
       "    </tr>\n",
       "    <tr>\n",
       "      <th>108</th>\n",
       "      <td>DRD350FQ</td>\n",
       "      <td>1.279514</td>\n",
       "    </tr>\n",
       "    <tr>\n",
       "      <th>96</th>\n",
       "      <td>DRD340</td>\n",
       "      <td>1.253008</td>\n",
       "    </tr>\n",
       "    <tr>\n",
       "      <th>148</th>\n",
       "      <td>DRD370OQ</td>\n",
       "      <td>1.200003</td>\n",
       "    </tr>\n",
       "    <tr>\n",
       "      <th>104</th>\n",
       "      <td>DRD350DQ</td>\n",
       "      <td>1.105870</td>\n",
       "    </tr>\n",
       "    <tr>\n",
       "      <th>63</th>\n",
       "      <td>DR1TZINC</td>\n",
       "      <td>1.049046</td>\n",
       "    </tr>\n",
       "    <tr>\n",
       "      <th>31</th>\n",
       "      <td>DR1TTFAT</td>\n",
       "      <td>0.957827</td>\n",
       "    </tr>\n",
       "    <tr>\n",
       "      <th>89</th>\n",
       "      <td>DR1TP225</td>\n",
       "      <td>0.934699</td>\n",
       "    </tr>\n",
       "    <tr>\n",
       "      <th>62</th>\n",
       "      <td>DR1TIRON</td>\n",
       "      <td>0.840033</td>\n",
       "    </tr>\n",
       "    <tr>\n",
       "      <th>82</th>\n",
       "      <td>DR1TM201</td>\n",
       "      <td>0.760084</td>\n",
       "    </tr>\n",
       "    <tr>\n",
       "      <th>88</th>\n",
       "      <td>DR1TP205</td>\n",
       "      <td>0.538160</td>\n",
       "    </tr>\n",
       "    <tr>\n",
       "      <th>154</th>\n",
       "      <td>DRD370RQ</td>\n",
       "      <td>0.502585</td>\n",
       "    </tr>\n",
       "    <tr>\n",
       "      <th>102</th>\n",
       "      <td>DRD350CQ</td>\n",
       "      <td>0.493171</td>\n",
       "    </tr>\n",
       "    <tr>\n",
       "      <th>36</th>\n",
       "      <td>DR1TATOC</td>\n",
       "      <td>0.424950</td>\n",
       "    </tr>\n",
       "    <tr>\n",
       "      <th>80</th>\n",
       "      <td>DR1TM161</td>\n",
       "      <td>0.342919</td>\n",
       "    </tr>\n",
       "    <tr>\n",
       "      <th>112</th>\n",
       "      <td>DRD350HQ</td>\n",
       "      <td>0.214027</td>\n",
       "    </tr>\n",
       "    <tr>\n",
       "      <th>45</th>\n",
       "      <td>DR1TVB1</td>\n",
       "      <td>0.127230</td>\n",
       "    </tr>\n",
       "    <tr>\n",
       "      <th>86</th>\n",
       "      <td>DR1TP184</td>\n",
       "      <td>0.101697</td>\n",
       "    </tr>\n",
       "    <tr>\n",
       "      <th>16</th>\n",
       "      <td>DRQSDT5</td>\n",
       "      <td>NaN</td>\n",
       "    </tr>\n",
       "  </tbody>\n",
       "</table>\n",
       "<p>162 rows × 2 columns</p>\n",
       "</div>"
      ],
      "text/plain": [
       "      Feature         Scores\n",
       "0      WTDRD1  189432.735271\n",
       "71   DR1TMOIS  182939.481133\n",
       "94   DR1BWATZ  170083.608710\n",
       "44     DR1TLZ  118921.478400\n",
       "68   DR1TCAFF   83239.534146\n",
       "92   DR1.320Z   75310.355928\n",
       "41   DR1TBCAR   67717.781100\n",
       "40   DR1TACAR   23104.143796\n",
       "59   DR1TCALC   18555.762793\n",
       "35   DR1TCHOL   11536.204790\n",
       "66   DR1TPOTA   11221.376317\n",
       "29   DR1TSUGR    8958.195176\n",
       "26   DR1TKCAL    8919.875122\n",
       "1      WTDR2D    8646.200404\n",
       "50     DR1TFA    7501.894803\n",
       "18    DRQSDT7    7307.607144\n",
       "53    DR1TCHL    7182.099068\n",
       "69   DR1TTHEO    6172.356659\n",
       "65   DR1TSODI    5303.626702\n",
       "56     DR1TVC    4400.618553\n",
       "42   DR1TCRYP    4267.682919\n",
       "28   DR1TCARB    4002.530360\n",
       "52   DR1TFDFE    3312.329437\n",
       "38    DR1TRET    3081.064463\n",
       "58     DR1TVK    2981.028132\n",
       "51     DR1TFF    2166.104090\n",
       "61   DR1TMAGN    2005.402751\n",
       "70   DR1TALCO    1689.683476\n",
       "93   DR1.330Z     698.117929\n",
       "67   DR1TSELE     689.599849\n",
       "..        ...            ...\n",
       "100  DRD350BQ       5.232442\n",
       "3       DRABF       4.614200\n",
       "48    DR1TVB6       4.501372\n",
       "76   DR1TS120       4.184183\n",
       "79   DR1TS180       4.124403\n",
       "83   DR1TM221       3.801951\n",
       "91    DR1.300       3.570460\n",
       "22   DRQSDT11       3.160180\n",
       "46    DR1TVB2       2.603342\n",
       "111   DRD350H       2.571897\n",
       "9      DR1STY       1.598787\n",
       "47   DR1TNIAC       1.487298\n",
       "108  DRD350FQ       1.279514\n",
       "96     DRD340       1.253008\n",
       "148  DRD370OQ       1.200003\n",
       "104  DRD350DQ       1.105870\n",
       "63   DR1TZINC       1.049046\n",
       "31   DR1TTFAT       0.957827\n",
       "89   DR1TP225       0.934699\n",
       "62   DR1TIRON       0.840033\n",
       "82   DR1TM201       0.760084\n",
       "88   DR1TP205       0.538160\n",
       "154  DRD370RQ       0.502585\n",
       "102  DRD350CQ       0.493171\n",
       "36   DR1TATOC       0.424950\n",
       "80   DR1TM161       0.342919\n",
       "112  DRD350HQ       0.214027\n",
       "45    DR1TVB1       0.127230\n",
       "86   DR1TP184       0.101697\n",
       "16    DRQSDT5            NaN\n",
       "\n",
       "[162 rows x 2 columns]"
      ]
     },
     "execution_count": 106,
     "metadata": {},
     "output_type": "execute_result"
    }
   ],
   "source": [
    "select_feature_df = pd.DataFrame({'Feature':list(X_train.columns),\n",
    "                                 'Scores': select_feature.scores_})\n",
    "select_feature_df.sort_values(by='Scores', ascending=False )"
   ]
  },
  {
   "cell_type": "code",
   "execution_count": 89,
   "metadata": {
    "ExecuteTime": {
     "end_time": "2020-02-11T15:52:01.215024Z",
     "start_time": "2020-02-11T15:52:01.195030Z"
    }
   },
   "outputs": [],
   "source": [
    "X_train_chi = select_feature.transform(X_train_sm)\n",
    "X_test_chi = select_feature.transform(X_test)"
   ]
  },
  {
   "cell_type": "code",
   "execution_count": 90,
   "metadata": {
    "ExecuteTime": {
     "end_time": "2020-02-11T15:52:02.639869Z",
     "start_time": "2020-02-11T15:52:02.634830Z"
    }
   },
   "outputs": [
    {
     "data": {
      "text/plain": [
       "{'k': 15,\n",
       " 'score_func': <function sklearn.feature_selection._univariate_selection.chi2(X, y)>}"
      ]
     },
     "execution_count": 90,
     "metadata": {},
     "output_type": "execute_result"
    }
   ],
   "source": [
    "select_feature.get_params()"
   ]
  },
  {
   "cell_type": "code",
   "execution_count": 91,
   "metadata": {
    "ExecuteTime": {
     "end_time": "2020-02-11T15:52:06.898280Z",
     "start_time": "2020-02-11T15:52:06.831263Z"
    }
   },
   "outputs": [
    {
     "data": {
      "text/plain": [
       "RandomForestClassifier(bootstrap=True, ccp_alpha=0.0, class_weight=None,\n",
       "                       criterion='gini', max_depth=1, max_features='auto',\n",
       "                       max_leaf_nodes=None, max_samples=None,\n",
       "                       min_impurity_decrease=0.0, min_impurity_split=None,\n",
       "                       min_samples_leaf=1, min_samples_split=2,\n",
       "                       min_weight_fraction_leaf=0.0, n_estimators=10,\n",
       "                       n_jobs=None, oob_score=False, random_state=None,\n",
       "                       verbose=0, warm_start=False)"
      ]
     },
     "execution_count": 91,
     "metadata": {},
     "output_type": "execute_result"
    }
   ],
   "source": [
    "rf2.fit(X_train_chi, y_train_sm)"
   ]
  },
  {
   "cell_type": "code",
   "execution_count": 92,
   "metadata": {
    "ExecuteTime": {
     "end_time": "2020-02-11T15:52:11.581930Z",
     "start_time": "2020-02-11T15:52:11.562896Z"
    }
   },
   "outputs": [],
   "source": [
    "train_pred_chi = rf2.predict(X_train_chi)\n",
    "test_pred_chi = rf2.predict(X_test_chi)"
   ]
  },
  {
   "cell_type": "code",
   "execution_count": 93,
   "metadata": {
    "ExecuteTime": {
     "end_time": "2020-02-11T15:52:12.562894Z",
     "start_time": "2020-02-11T15:52:12.555895Z"
    },
    "scrolled": false
   },
   "outputs": [
    {
     "data": {
      "text/plain": [
       "((13458, 15), (13458, 162))"
      ]
     },
     "execution_count": 93,
     "metadata": {},
     "output_type": "execute_result"
    }
   ],
   "source": [
    "X_train_chi.shape, X_train_sm.shape"
   ]
  },
  {
   "cell_type": "code",
   "execution_count": 94,
   "metadata": {
    "ExecuteTime": {
     "end_time": "2020-02-11T15:52:14.219343Z",
     "start_time": "2020-02-11T15:52:13.979339Z"
    }
   },
   "outputs": [
    {
     "name": "stdout",
     "output_type": "stream",
     "text": [
      "Confusion Matrix test: \n"
     ]
    },
    {
     "data": {
      "image/png": "[encoded data removed]",
      "text/plain": [
       "<Figure size 432x288 with 2 Axes>"
      ]
     },
     "metadata": {
      "needs_background": "light"
     },
     "output_type": "display_data"
    }
   ],
   "source": [
    "cm(y_train_sm, train_pred_chi)"
   ]
  },
  {
   "cell_type": "code",
   "execution_count": 95,
   "metadata": {
    "ExecuteTime": {
     "end_time": "2020-02-11T15:52:25.099724Z",
     "start_time": "2020-02-11T15:52:25.080719Z"
    }
   },
   "outputs": [
    {
     "data": {
      "text/plain": [
       "array([[0.62399902, 0.37600098],\n",
       "       [0.45828141, 0.54171859],\n",
       "       [0.62399902, 0.37600098],\n",
       "       ...,\n",
       "       [0.45368142, 0.54631858],\n",
       "       [0.46783079, 0.53216921],\n",
       "       [0.43651303, 0.56348697]])"
      ]
     },
     "execution_count": 95,
     "metadata": {},
     "output_type": "execute_result"
    }
   ],
   "source": [
    "y_train_preds = rf2.predict_proba(X_train_chi)\n",
    "y_train_preds"
   ]
  },
  {
   "cell_type": "code",
   "execution_count": 96,
   "metadata": {
    "ExecuteTime": {
     "end_time": "2020-02-11T15:52:44.004781Z",
     "start_time": "2020-02-11T15:52:43.997787Z"
    }
   },
   "outputs": [
    {
     "data": {
      "text/plain": [
       "0.37600098169037405"
      ]
     },
     "execution_count": 96,
     "metadata": {},
     "output_type": "execute_result"
    }
   ],
   "source": [
    "y_train_preds[np.where(y_test==1)][:, 1].min()"
   ]
  },
  {
   "cell_type": "code",
   "execution_count": 101,
   "metadata": {
    "ExecuteTime": {
     "end_time": "2020-02-11T15:53:13.123805Z",
     "start_time": "2020-02-11T15:53:13.099796Z"
    }
   },
   "outputs": [],
   "source": [
    "y_train_labels_thresh = get_label(rf2, X_train_chi, .50)"
   ]
  },
  {
   "cell_type": "code",
   "execution_count": 102,
   "metadata": {
    "ExecuteTime": {
     "end_time": "2020-02-11T15:53:14.307838Z",
     "start_time": "2020-02-11T15:53:14.107799Z"
    }
   },
   "outputs": [
    {
     "name": "stdout",
     "output_type": "stream",
     "text": [
      "Confusion Matrix test: \n"
     ]
    },
    {
     "data": {
      "image/png": "[encoded data removed]",
      "text/plain": [
       "<Figure size 432x288 with 2 Axes>"
      ]
     },
     "metadata": {
      "needs_background": "light"
     },
     "output_type": "display_data"
    }
   ],
   "source": [
    "cm(y_train_sm, y_train_labels_thresh)"
   ]
  },
  {
   "cell_type": "code",
   "execution_count": 103,
   "metadata": {
    "ExecuteTime": {
     "end_time": "2020-02-11T15:53:23.679516Z",
     "start_time": "2020-02-11T15:53:23.641530Z"
    }
   },
   "outputs": [
    {
     "name": "stdout",
     "output_type": "stream",
     "text": [
      "              precision    recall  f1-score   support\n",
      "\n",
      "         0.0       0.71      0.55      0.62      6729\n",
      "         1.0       0.63      0.77      0.69      6729\n",
      "\n",
      "    accuracy                           0.66     13458\n",
      "   macro avg       0.67      0.66      0.66     13458\n",
      "weighted avg       0.67      0.66      0.66     13458\n",
      "\n"
     ]
    }
   ],
   "source": [
    "print(classification_report(y_train_sm, train_pred_chi))"
   ]
  },
  {
   "cell_type": "code",
   "execution_count": 104,
   "metadata": {
    "ExecuteTime": {
     "end_time": "2020-02-11T15:53:24.634514Z",
     "start_time": "2020-02-11T15:53:24.615521Z"
    }
   },
   "outputs": [
    {
     "name": "stdout",
     "output_type": "stream",
     "text": [
      "              precision    recall  f1-score   support\n",
      "\n",
      "         0.0       0.93      0.53      0.67      1663\n",
      "         1.0       0.14      0.64      0.22       193\n",
      "\n",
      "    accuracy                           0.54      1856\n",
      "   macro avg       0.53      0.58      0.45      1856\n",
      "weighted avg       0.84      0.54      0.62      1856\n",
      "\n"
     ]
    }
   ],
   "source": [
    "print(classification_report(y_test, test_pred_chi))"
   ]
  },
  {
   "cell_type": "markdown",
   "metadata": {},
   "source": [
    "### This did not give us the performance we are looking for, so we will try a different classifier"
   ]
  },
  {
   "cell_type": "code",
   "execution_count": 108,
   "metadata": {
    "ExecuteTime": {
     "end_time": "2020-02-11T16:11:47.364782Z",
     "start_time": "2020-02-11T16:09:41.169330Z"
    }
   },
   "outputs": [
    {
     "data": {
      "text/html": [
       "<div>\n",
       "<style scoped>\n",
       "    .dataframe tbody tr th:only-of-type {\n",
       "        vertical-align: middle;\n",
       "    }\n",
       "\n",
       "    .dataframe tbody tr th {\n",
       "        vertical-align: top;\n",
       "    }\n",
       "\n",
       "    .dataframe thead th {\n",
       "        text-align: right;\n",
       "    }\n",
       "</style>\n",
       "<table border=\"1\" class=\"dataframe\">\n",
       "  <thead>\n",
       "    <tr style=\"text-align: right;\">\n",
       "      <th></th>\n",
       "      <th>n</th>\n",
       "      <th>p</th>\n",
       "      <th>score</th>\n",
       "      <th>score_ratio</th>\n",
       "    </tr>\n",
       "  </thead>\n",
       "  <tbody>\n",
       "    <tr>\n",
       "      <th>0</th>\n",
       "      <td>2</td>\n",
       "      <td>1.0</td>\n",
       "      <td>0.791487</td>\n",
       "      <td>0.837803</td>\n",
       "    </tr>\n",
       "    <tr>\n",
       "      <th>27</th>\n",
       "      <td>4</td>\n",
       "      <td>3.5</td>\n",
       "      <td>0.734375</td>\n",
       "      <td>0.836781</td>\n",
       "    </tr>\n",
       "    <tr>\n",
       "      <th>37</th>\n",
       "      <td>4</td>\n",
       "      <td>4.5</td>\n",
       "      <td>0.733297</td>\n",
       "      <td>0.835978</td>\n",
       "    </tr>\n",
       "    <tr>\n",
       "      <th>42</th>\n",
       "      <td>4</td>\n",
       "      <td>5.0</td>\n",
       "      <td>0.732759</td>\n",
       "      <td>0.835151</td>\n",
       "    </tr>\n",
       "    <tr>\n",
       "      <th>32</th>\n",
       "      <td>4</td>\n",
       "      <td>4.0</td>\n",
       "      <td>0.731142</td>\n",
       "      <td>0.833097</td>\n",
       "    </tr>\n",
       "    <tr>\n",
       "      <th>2</th>\n",
       "      <td>4</td>\n",
       "      <td>1.0</td>\n",
       "      <td>0.743534</td>\n",
       "      <td>0.833041</td>\n",
       "    </tr>\n",
       "    <tr>\n",
       "      <th>17</th>\n",
       "      <td>4</td>\n",
       "      <td>2.5</td>\n",
       "      <td>0.732759</td>\n",
       "      <td>0.831981</td>\n",
       "    </tr>\n",
       "    <tr>\n",
       "      <th>22</th>\n",
       "      <td>4</td>\n",
       "      <td>3.0</td>\n",
       "      <td>0.728987</td>\n",
       "      <td>0.830009</td>\n",
       "    </tr>\n",
       "    <tr>\n",
       "      <th>40</th>\n",
       "      <td>2</td>\n",
       "      <td>5.0</td>\n",
       "      <td>0.777478</td>\n",
       "      <td>0.829828</td>\n",
       "    </tr>\n",
       "    <tr>\n",
       "      <th>20</th>\n",
       "      <td>2</td>\n",
       "      <td>3.0</td>\n",
       "      <td>0.778556</td>\n",
       "      <td>0.829203</td>\n",
       "    </tr>\n",
       "  </tbody>\n",
       "</table>\n",
       "</div>"
      ],
      "text/plain": [
       "    n    p     score  score_ratio\n",
       "0   2  1.0  0.791487     0.837803\n",
       "27  4  3.5  0.734375     0.836781\n",
       "37  4  4.5  0.733297     0.835978\n",
       "42  4  5.0  0.732759     0.835151\n",
       "32  4  4.0  0.731142     0.833097\n",
       "2   4  1.0  0.743534     0.833041\n",
       "17  4  2.5  0.732759     0.831981\n",
       "22  4  3.0  0.728987     0.830009\n",
       "40  2  5.0  0.777478     0.829828\n",
       "20  2  3.0  0.778556     0.829203"
      ]
     },
     "execution_count": 108,
     "metadata": {},
     "output_type": "execute_result"
    }
   ],
   "source": [
    "dlist = []\n",
    "for p in np.linspace(1, 5, 9):\n",
    "    for n in [2, 3, 4, 5, 6,]:\n",
    "        d = {}\n",
    "        d['p'] = p\n",
    "        d['n'] = n\n",
    "        knn = KNeighborsClassifier(n_neighbors=n, p=p)\n",
    "        knn.fit(X_train_sm, y_train_sm)\n",
    "        score_test = knn.score(X_test, y_test)\n",
    "        score_train = knn.score(X_train_sm, y_train_sm)\n",
    "        score_ratio = min([score_train/score_test, score_test/score_train])\n",
    "        d['score'] = score_test\n",
    "        d['score_ratio'] = score_ratio\n",
    "        dlist.append(d)\n",
    "        \n",
    "score_df = pd.DataFrame(dlist)\n",
    "score_df.sort_values(by=['score_ratio', 'score'], ascending=False, inplace=True)\n",
    "score_df.head(10)"
   ]
  },
  {
   "cell_type": "code",
   "execution_count": 116,
   "metadata": {
    "ExecuteTime": {
     "end_time": "2020-02-11T16:16:17.089912Z",
     "start_time": "2020-02-11T16:16:16.998908Z"
    }
   },
   "outputs": [],
   "source": [
    "scaler = StandardScaler()\n",
    "X_scaled_train = scaler.fit_transform(X_train_sm)\n",
    "X_scaled_test = scaler.transform(X_test)\n"
   ]
  },
  {
   "cell_type": "code",
   "execution_count": 117,
   "metadata": {
    "ExecuteTime": {
     "end_time": "2020-02-11T16:18:04.218028Z",
     "start_time": "2020-02-11T16:16:22.634840Z"
    }
   },
   "outputs": [
    {
     "name": "stdout",
     "output_type": "stream",
     "text": [
      "0.8205818965517241\n"
     ]
    }
   ],
   "source": [
    "knn = KNeighborsClassifier(n_neighbors=2, p=2.5)\n",
    "knn.fit(X_scaled_train, y_train_sm)\n",
    "\n",
    "print(knn.score(X_scaled_test, y_test))"
   ]
  },
  {
   "cell_type": "code",
   "execution_count": 56,
   "metadata": {
    "ExecuteTime": {
     "end_time": "2020-02-11T05:16:09.041633Z",
     "start_time": "2020-02-10T22:25:43.771935Z"
    }
   },
   "outputs": [
    {
     "data": {
      "text/html": [
       "<div>\n",
       "<style scoped>\n",
       "    .dataframe tbody tr th:only-of-type {\n",
       "        vertical-align: middle;\n",
       "    }\n",
       "\n",
       "    .dataframe tbody tr th {\n",
       "        vertical-align: top;\n",
       "    }\n",
       "\n",
       "    .dataframe thead th {\n",
       "        text-align: right;\n",
       "    }\n",
       "</style>\n",
       "<table border=\"1\" class=\"dataframe\">\n",
       "  <thead>\n",
       "    <tr style=\"text-align: right;\">\n",
       "      <th></th>\n",
       "      <th>n</th>\n",
       "      <th>p</th>\n",
       "      <th>score</th>\n",
       "      <th>score_ratio</th>\n",
       "    </tr>\n",
       "  </thead>\n",
       "  <tbody>\n",
       "    <tr>\n",
       "      <th>4</th>\n",
       "      <td>6</td>\n",
       "      <td>1.0</td>\n",
       "      <td>0.861530</td>\n",
       "      <td>0.926594</td>\n",
       "    </tr>\n",
       "    <tr>\n",
       "      <th>2</th>\n",
       "      <td>4</td>\n",
       "      <td>1.0</td>\n",
       "      <td>0.856142</td>\n",
       "      <td>0.913861</td>\n",
       "    </tr>\n",
       "    <tr>\n",
       "      <th>0</th>\n",
       "      <td>2</td>\n",
       "      <td>1.0</td>\n",
       "      <td>0.869073</td>\n",
       "      <td>0.913036</td>\n",
       "    </tr>\n",
       "    <tr>\n",
       "      <th>3</th>\n",
       "      <td>5</td>\n",
       "      <td>1.0</td>\n",
       "      <td>0.840517</td>\n",
       "      <td>0.910104</td>\n",
       "    </tr>\n",
       "    <tr>\n",
       "      <th>9</th>\n",
       "      <td>6</td>\n",
       "      <td>1.5</td>\n",
       "      <td>0.816272</td>\n",
       "      <td>0.897132</td>\n",
       "    </tr>\n",
       "    <tr>\n",
       "      <th>5</th>\n",
       "      <td>2</td>\n",
       "      <td>1.5</td>\n",
       "      <td>0.853987</td>\n",
       "      <td>0.896976</td>\n",
       "    </tr>\n",
       "    <tr>\n",
       "      <th>1</th>\n",
       "      <td>3</td>\n",
       "      <td>1.0</td>\n",
       "      <td>0.835129</td>\n",
       "      <td>0.896766</td>\n",
       "    </tr>\n",
       "    <tr>\n",
       "      <th>7</th>\n",
       "      <td>4</td>\n",
       "      <td>1.5</td>\n",
       "      <td>0.820582</td>\n",
       "      <td>0.885597</td>\n",
       "    </tr>\n",
       "    <tr>\n",
       "      <th>10</th>\n",
       "      <td>2</td>\n",
       "      <td>2.0</td>\n",
       "      <td>0.835129</td>\n",
       "      <td>0.877169</td>\n",
       "    </tr>\n",
       "    <tr>\n",
       "      <th>8</th>\n",
       "      <td>5</td>\n",
       "      <td>1.5</td>\n",
       "      <td>0.788793</td>\n",
       "      <td>0.875512</td>\n",
       "    </tr>\n",
       "  </tbody>\n",
       "</table>\n",
       "</div>"
      ],
      "text/plain": [
       "    n    p     score  score_ratio\n",
       "4   6  1.0  0.861530     0.926594\n",
       "2   4  1.0  0.856142     0.913861\n",
       "0   2  1.0  0.869073     0.913036\n",
       "3   5  1.0  0.840517     0.910104\n",
       "9   6  1.5  0.816272     0.897132\n",
       "5   2  1.5  0.853987     0.896976\n",
       "1   3  1.0  0.835129     0.896766\n",
       "7   4  1.5  0.820582     0.885597\n",
       "10  2  2.0  0.835129     0.877169\n",
       "8   5  1.5  0.788793     0.875512"
      ]
     },
     "execution_count": 56,
     "metadata": {},
     "output_type": "execute_result"
    }
   ],
   "source": [
    "dlist2 = []\n",
    "for p in np.linspace(1, 5, 9):\n",
    "    for n in [2, 3, 4, 5, 6,]:\n",
    "        d = {}\n",
    "        d['p'] = p\n",
    "        d['n'] = n\n",
    "        knn = KNeighborsClassifier(n_neighbors=n, p=p)\n",
    "        knn.fit(X_scaled_train, y_train_sm)\n",
    "        score_test = knn.score(X_scaled_test, y_test)\n",
    "        score_train = knn.score(X_scaled_train, y_train_sm)\n",
    "        score_ratio = min([score_train/score_test, score_test/score_train])\n",
    "        d['score'] = score_test\n",
    "        d['score_ratio'] = score_ratio\n",
    "        dlist2.append(d)\n",
    "        \n",
    "score_df2 = pd.DataFrame(dlist2)\n",
    "score_df2.sort_values(by=['score_ratio', 'score'], ascending=False, inplace=True)\n",
    "score_df2.head(10)"
   ]
  },
  {
   "cell_type": "code",
   "execution_count": 132,
   "metadata": {
    "ExecuteTime": {
     "end_time": "2020-02-11T17:20:13.550216Z",
     "start_time": "2020-02-11T17:20:04.336973Z"
    }
   },
   "outputs": [
    {
     "name": "stdout",
     "output_type": "stream",
     "text": [
      "0.8561422413793104\n"
     ]
    }
   ],
   "source": [
    "knn = KNeighborsClassifier(n_neighbors=4, p=1)\n",
    "knn.fit(X_scaled_train, y_train_sm)\n",
    "\n",
    "print(knn.score(X_scaled_test, y_test))"
   ]
  },
  {
   "cell_type": "code",
   "execution_count": 133,
   "metadata": {
    "ExecuteTime": {
     "end_time": "2020-02-11T17:22:22.083422Z",
     "start_time": "2020-02-11T17:21:16.500934Z"
    }
   },
   "outputs": [],
   "source": [
    "train_pred_scale = knn.predict(X_scaled_train)\n",
    "test_pred_scale = knn.predict(X_scaled_test)"
   ]
  },
  {
   "cell_type": "code",
   "execution_count": 131,
   "metadata": {
    "ExecuteTime": {
     "end_time": "2020-02-11T17:15:19.365009Z",
     "start_time": "2020-02-11T17:15:19.038007Z"
    }
   },
   "outputs": [
    {
     "name": "stdout",
     "output_type": "stream",
     "text": [
      "Confusion Matrix test: \n"
     ]
    },
    {
     "data": {
      "image/png": "[encoded data removed]",
      "text/plain": [
       "<Figure size 432x288 with 2 Axes>"
      ]
     },
     "metadata": {
      "needs_background": "light"
     },
     "output_type": "display_data"
    }
   ],
   "source": [
    "cm( y_train_sm, train_pred_scale)"
   ]
  },
  {
   "cell_type": "code",
   "execution_count": 120,
   "metadata": {
    "ExecuteTime": {
     "end_time": "2020-02-11T16:20:53.926666Z",
     "start_time": "2020-02-11T16:20:53.710668Z"
    }
   },
   "outputs": [
    {
     "name": "stdout",
     "output_type": "stream",
     "text": [
      "Confusion Matrix test: \n"
     ]
    },
    {
     "data": {
      "image/png": "[encoded data removed]",
      "text/plain": [
       "<Figure size 432x288 with 2 Axes>"
      ]
     },
     "metadata": {
      "needs_background": "light"
     },
     "output_type": "display_data"
    }
   ],
   "source": [
    "cm( y_test, test_pred_scale)"
   ]
  },
  {
   "cell_type": "markdown",
   "metadata": {},
   "source": [
    "### This looks good, but we will try one more classifier"
   ]
  },
  {
   "cell_type": "markdown",
   "metadata": {},
   "source": [
    "#### Here we will try a Support Vector Machine"
   ]
  },
  {
   "cell_type": "code",
   "execution_count": 121,
   "metadata": {
    "ExecuteTime": {
     "end_time": "2020-02-11T16:22:21.257851Z",
     "start_time": "2020-02-11T16:21:54.154263Z"
    }
   },
   "outputs": [
    {
     "name": "stdout",
     "output_type": "stream",
     "text": [
      "0.8890086206896551\n"
     ]
    }
   ],
   "source": [
    "clf = svm.SVC()\n",
    "clf.fit(X_scaled_train, y_train_sm)\n",
    "\n",
    "accuracy = clf.score(X_scaled_test, y_test)\n",
    "print(accuracy)"
   ]
  },
  {
   "cell_type": "code",
   "execution_count": 122,
   "metadata": {
    "ExecuteTime": {
     "end_time": "2020-02-11T16:22:30.134129Z",
     "start_time": "2020-02-11T16:22:27.358132Z"
    }
   },
   "outputs": [],
   "source": [
    "X_scaled_pred_svm = clf.predict(X_scaled_test)"
   ]
  },
  {
   "cell_type": "code",
   "execution_count": 123,
   "metadata": {
    "ExecuteTime": {
     "end_time": "2020-02-11T16:22:48.393625Z",
     "start_time": "2020-02-11T16:22:48.096635Z"
    }
   },
   "outputs": [
    {
     "name": "stdout",
     "output_type": "stream",
     "text": [
      "Confusion Matrix test: \n"
     ]
    },
    {
     "data": {
      "image/png": "[encoded data removed]",
      "text/plain": [
       "<Figure size 432x288 with 2 Axes>"
      ]
     },
     "metadata": {
      "needs_background": "light"
     },
     "output_type": "display_data"
    }
   ],
   "source": [
    "cm(y_test, X_scaled_pred_svm)"
   ]
  },
  {
   "cell_type": "code",
   "execution_count": 124,
   "metadata": {
    "ExecuteTime": {
     "end_time": "2020-02-11T16:23:00.177786Z",
     "start_time": "2020-02-11T16:23:00.171783Z"
    }
   },
   "outputs": [],
   "source": [
    "params = {\"C\":[1, 2, 3],\n",
    "          \"kernel\": ['linear', 'poly', 'rbf', 'sigmoid']}\n",
    "\n",
    "clf_svm = GridSearchCV(clf, params, scoring=make_scorer(recall_score))"
   ]
  },
  {
   "cell_type": "code",
   "execution_count": 126,
   "metadata": {
    "ExecuteTime": {
     "end_time": "2020-02-11T17:09:05.336315Z",
     "start_time": "2020-02-11T16:25:30.851141Z"
    }
   },
   "outputs": [
    {
     "data": {
      "text/plain": [
       "GridSearchCV(cv=None, error_score=nan,\n",
       "             estimator=SVC(C=1.0, break_ties=False, cache_size=200,\n",
       "                           class_weight=None, coef0=0.0,\n",
       "                           decision_function_shape='ovr', degree=3,\n",
       "                           gamma='scale', kernel='rbf', max_iter=-1,\n",
       "                           probability=False, random_state=None, shrinking=True,\n",
       "                           tol=0.001, verbose=False),\n",
       "             iid='deprecated', n_jobs=None,\n",
       "             param_grid={'C': [1, 2, 3],\n",
       "                         'kernel': ['linear', 'poly', 'rbf', 'sigmoid']},\n",
       "             pre_dispatch='2*n_jobs', refit=True, return_train_score=False,\n",
       "             scoring=make_scorer(recall_score), verbose=0)"
      ]
     },
     "execution_count": 126,
     "metadata": {},
     "output_type": "execute_result"
    }
   ],
   "source": [
    "clf_svm.fit(X_scaled_train, y_train_sm)"
   ]
  },
  {
   "cell_type": "code",
   "execution_count": 127,
   "metadata": {
    "ExecuteTime": {
     "end_time": "2020-02-11T17:10:00.033584Z",
     "start_time": "2020-02-11T17:10:00.025585Z"
    }
   },
   "outputs": [
    {
     "data": {
      "text/plain": [
       "{'C': 3, 'kernel': 'rbf'}"
      ]
     },
     "execution_count": 127,
     "metadata": {},
     "output_type": "execute_result"
    }
   ],
   "source": [
    "clf_svm.best_params_"
   ]
  },
  {
   "cell_type": "code",
   "execution_count": 128,
   "metadata": {
    "ExecuteTime": {
     "end_time": "2020-02-11T17:10:15.877645Z",
     "start_time": "2020-02-11T17:10:06.253434Z"
    }
   },
   "outputs": [
    {
     "name": "stdout",
     "output_type": "stream",
     "text": [
      "0.5824353448275862\n"
     ]
    }
   ],
   "source": [
    "clf = svm.SVC(C=3, kernel='rbf')\n",
    "clf.fit(X_train_chi, y_train_sm)\n",
    "\n",
    "accuracy = clf.score(X_test_chi, y_test)\n",
    "print(accuracy)"
   ]
  },
  {
   "cell_type": "code",
   "execution_count": 129,
   "metadata": {
    "ExecuteTime": {
     "end_time": "2020-02-11T17:10:30.968192Z",
     "start_time": "2020-02-11T17:10:30.249750Z"
    }
   },
   "outputs": [],
   "source": [
    "X_scaled_pred_svm = clf.predict(X_test_chi)"
   ]
  },
  {
   "cell_type": "code",
   "execution_count": 130,
   "metadata": {
    "ExecuteTime": {
     "end_time": "2020-02-11T17:10:32.232390Z",
     "start_time": "2020-02-11T17:10:32.015297Z"
    }
   },
   "outputs": [
    {
     "name": "stdout",
     "output_type": "stream",
     "text": [
      "Confusion Matrix test: \n"
     ]
    },
    {
     "data": {
      "image/png": "[encoded data removed]",
      "text/plain": [
       "<Figure size 432x288 with 2 Axes>"
      ]
     },
     "metadata": {
      "needs_background": "light"
     },
     "output_type": "display_data"
    }
   ],
   "source": [
    "cm(y_test, X_scaled_pred_svm)"
   ]
  },
  {
   "cell_type": "code",
   "execution_count": null,
   "metadata": {},
   "outputs": [],
   "source": []
  }
 ],
 "metadata": {
  "kernelspec": {
   "display_name": "Python [conda env:learn-env] *",
   "language": "python",
   "name": "conda-env-learn-env-py"
  },
  "language_info": {
   "codemirror_mode": {
    "name": "ipython",
    "version": 3
   },
   "file_extension": ".py",
   "mimetype": "text/x-python",
   "name": "python",
   "nbconvert_exporter": "python",
   "pygments_lexer": "ipython3",
   "version": "3.6.6"
  },
  "toc": {
   "base_numbering": 1,
   "nav_menu": {},
   "number_sections": false,
   "sideBar": true,
   "skip_h1_title": false,
   "title_cell": "Table of Contents",
   "title_sidebar": "Contents",
   "toc_cell": false,
   "toc_position": {},
   "toc_section_display": true,
   "toc_window_display": false
  },
  "varInspector": {
   "cols": {
    "lenName": 16,
    "lenType": 16,
    "lenVar": 40
   },
   "kernels_config": {
    "python": {
     "delete_cmd_postfix": "",
     "delete_cmd_prefix": "del ",
     "library": "var_list.py",
     "varRefreshCmd": "print(var_dic_list())"
    },
    "r": {
     "delete_cmd_postfix": ") ",
     "delete_cmd_prefix": "rm(",
     "library": "var_list.r",
     "varRefreshCmd": "cat(var_dic_list()) "
    }
   },
   "types_to_exclude": [
    "module",
    "function",
    "builtin_function_or_method",
    "instance",
    "_Feature"
   ],
   "window_display": false
  }
 },
 "nbformat": 4,
 "nbformat_minor": 2
}
