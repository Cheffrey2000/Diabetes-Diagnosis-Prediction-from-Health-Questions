{
 "cells": [
  {
   "cell_type": "markdown",
   "metadata": {},
   "source": [
    "### Importing necessary Libraries"
   ]
  },
  {
   "cell_type": "code",
   "execution_count": 1,
   "metadata": {
    "ExecuteTime": {
     "end_time": "2020-04-22T15:23:09.530799Z",
     "start_time": "2020-04-22T15:23:05.514658Z"
    }
   },
   "outputs": [
    {
     "name": "stderr",
     "output_type": "stream",
     "text": [
      "Using TensorFlow backend.\n"
     ]
    }
   ],
   "source": [
    "# Setting up the workspace by importing all of the necessary libraries.\n",
    "\n",
    "import pandas as pd\n",
    "import numpy as np\n",
    "import seaborn as sns\n",
    "\n",
    "import matplotlib.pyplot as plt\n",
    "%matplotlib inline\n",
    "\n",
    "import warnings\n",
    "warnings.filterwarnings('ignore')\n",
    "\n",
    "\n",
    "from sklearn.model_selection import train_test_split, GridSearchCV, cross_val_score, StratifiedKFold, KFold\n",
    "from sklearn.linear_model import LogisticRegression\n",
    "from sklearn.feature_selection import SelectKBest, chi2\n",
    "from sklearn.datasets import make_blobs\n",
    "\n",
    "\n",
    "from sklearn.neighbors import KNeighborsClassifier, NearestNeighbors\n",
    "from sklearn.ensemble import RandomForestClassifier\n",
    "from sklearn.metrics import classification_report, r2_score, confusion_matrix,f1_score, recall_score, precision_score, make_scorer\n",
    "from sklearn.preprocessing import StandardScaler\n",
    "import xgboost as xgb\n",
    "from sklearn.decomposition import PCA\n",
    "from sklearn.discriminant_analysis import LinearDiscriminantAnalysis\n",
    "from sklearn.ensemble import BaggingClassifier\n",
    "from imblearn.over_sampling import SMOTE, ADASYN\n",
    "from sklearn import svm\n"
   ]
  },
  {
   "cell_type": "markdown",
   "metadata": {},
   "source": [
    "### Creating a function to display a Confusion Matrix"
   ]
  },
  {
   "cell_type": "code",
   "execution_count": 2,
   "metadata": {
    "ExecuteTime": {
     "end_time": "2020-04-22T15:23:09.565625Z",
     "start_time": "2020-04-22T15:23:09.560620Z"
    }
   },
   "outputs": [],
   "source": [
    "def cm(y_real, y_pred, t='test'):\n",
    "    \"\"\"\n",
    "    This function creates a confusion matrix with the given paramaters.\n",
    "    y_real: known data from test or train.\n",
    "    y_pred: predicted data\n",
    "    t: Title of the matrix\n",
    "    \"\"\"\n",
    "    cf = confusion_matrix(y_real, y_pred)\n",
    "    print(f\"Confusion Matrix {t}: \")\n",
    "    akws = {\"ha\": 'center',\"va\": 'top'}\n",
    "    sns.heatmap(cf/(np.sum(cf)),annot=True, fmt='0.2%',cmap='Blues', annot_kws=akws, cbar=False)\n",
    "\n",
    "    akws = {\"ha\": 'center',\"va\": 'bottom'}\n",
    "    sns.heatmap(cf,annot=True, fmt='0',cmap='Greens', annot_kws=akws)\n",
    "    plt.xlabel('Predicted')\n",
    "    plt.ylabel('Actual')\n",
    "    plt.show()"
   ]
  },
  {
   "cell_type": "markdown",
   "metadata": {},
   "source": [
    "### Creating a function to get labels from a model"
   ]
  },
  {
   "cell_type": "code",
   "execution_count": 3,
   "metadata": {
    "ExecuteTime": {
     "end_time": "2020-04-22T15:23:09.608617Z",
     "start_time": "2020-04-22T15:23:09.603618Z"
    }
   },
   "outputs": [],
   "source": [
    "def get_label(model=None, test_data=None, thresh=0.50):\n",
    "    labels = []\n",
    "    test_preds = model.predict_proba(test_data)\n",
    "    for test_pred in test_preds:\n",
    "        if test_pred[1]>=thresh:\n",
    "            labels.append(1)\n",
    "        else:\n",
    "            labels.append(0)\n",
    "    return np.array(labels)"
   ]
  },
  {
   "cell_type": "markdown",
   "metadata": {},
   "source": [
    "### Loading in the Data Set"
   ]
  },
  {
   "cell_type": "code",
   "execution_count": 4,
   "metadata": {
    "ExecuteTime": {
     "end_time": "2020-04-22T15:23:10.110620Z",
     "start_time": "2020-04-22T15:23:09.642621Z"
    }
   },
   "outputs": [
    {
     "data": {
      "text/html": [
       "<div>\n",
       "<style scoped>\n",
       "    .dataframe tbody tr th:only-of-type {\n",
       "        vertical-align: middle;\n",
       "    }\n",
       "\n",
       "    .dataframe tbody tr th {\n",
       "        vertical-align: top;\n",
       "    }\n",
       "\n",
       "    .dataframe thead th {\n",
       "        text-align: right;\n",
       "    }\n",
       "</style>\n",
       "<table border=\"1\" class=\"dataframe\">\n",
       "  <thead>\n",
       "    <tr style=\"text-align: right;\">\n",
       "      <th></th>\n",
       "      <th>id</th>\n",
       "      <th>WTDRD1</th>\n",
       "      <th>WTDR2D</th>\n",
       "      <th>DR1DRSTZ</th>\n",
       "      <th>DRABF</th>\n",
       "      <th>DRDINT</th>\n",
       "      <th>DR1DAY</th>\n",
       "      <th>DBQ095Z</th>\n",
       "      <th>DBD100</th>\n",
       "      <th>DRQSPREP</th>\n",
       "      <th>...</th>\n",
       "      <th>DRD370R</th>\n",
       "      <th>DRD370RQ</th>\n",
       "      <th>DRD370S</th>\n",
       "      <th>DRD370SQ</th>\n",
       "      <th>DRD370T</th>\n",
       "      <th>DRD370TQ</th>\n",
       "      <th>DRD370U</th>\n",
       "      <th>DRD370UQ</th>\n",
       "      <th>DRD370V</th>\n",
       "      <th>DIQ010</th>\n",
       "    </tr>\n",
       "  </thead>\n",
       "  <tbody>\n",
       "    <tr>\n",
       "      <th>0</th>\n",
       "      <td>73557</td>\n",
       "      <td>16888.327864</td>\n",
       "      <td>12930.890649</td>\n",
       "      <td>1</td>\n",
       "      <td>2.0</td>\n",
       "      <td>2.0</td>\n",
       "      <td>2.0</td>\n",
       "      <td>3.0</td>\n",
       "      <td>2.0</td>\n",
       "      <td>4.0</td>\n",
       "      <td>...</td>\n",
       "      <td>0.0</td>\n",
       "      <td>0.0</td>\n",
       "      <td>0.0</td>\n",
       "      <td>0.0</td>\n",
       "      <td>0.0</td>\n",
       "      <td>0.0</td>\n",
       "      <td>0.0</td>\n",
       "      <td>0.0</td>\n",
       "      <td>0.0</td>\n",
       "      <td>1.0</td>\n",
       "    </tr>\n",
       "    <tr>\n",
       "      <th>1</th>\n",
       "      <td>73558</td>\n",
       "      <td>17932.143865</td>\n",
       "      <td>12684.148869</td>\n",
       "      <td>1</td>\n",
       "      <td>2.0</td>\n",
       "      <td>2.0</td>\n",
       "      <td>1.0</td>\n",
       "      <td>1.0</td>\n",
       "      <td>2.0</td>\n",
       "      <td>3.0</td>\n",
       "      <td>...</td>\n",
       "      <td>2.0</td>\n",
       "      <td>0.0</td>\n",
       "      <td>2.0</td>\n",
       "      <td>0.0</td>\n",
       "      <td>2.0</td>\n",
       "      <td>0.0</td>\n",
       "      <td>2.0</td>\n",
       "      <td>0.0</td>\n",
       "      <td>2.0</td>\n",
       "      <td>1.0</td>\n",
       "    </tr>\n",
       "    <tr>\n",
       "      <th>2</th>\n",
       "      <td>73559</td>\n",
       "      <td>59641.812930</td>\n",
       "      <td>39394.236709</td>\n",
       "      <td>1</td>\n",
       "      <td>2.0</td>\n",
       "      <td>2.0</td>\n",
       "      <td>6.0</td>\n",
       "      <td>1.0</td>\n",
       "      <td>1.0</td>\n",
       "      <td>2.0</td>\n",
       "      <td>...</td>\n",
       "      <td>0.0</td>\n",
       "      <td>0.0</td>\n",
       "      <td>0.0</td>\n",
       "      <td>0.0</td>\n",
       "      <td>0.0</td>\n",
       "      <td>0.0</td>\n",
       "      <td>0.0</td>\n",
       "      <td>0.0</td>\n",
       "      <td>0.0</td>\n",
       "      <td>1.0</td>\n",
       "    </tr>\n",
       "    <tr>\n",
       "      <th>3</th>\n",
       "      <td>73560</td>\n",
       "      <td>142203.069917</td>\n",
       "      <td>125966.366442</td>\n",
       "      <td>1</td>\n",
       "      <td>2.0</td>\n",
       "      <td>2.0</td>\n",
       "      <td>3.0</td>\n",
       "      <td>1.0</td>\n",
       "      <td>1.0</td>\n",
       "      <td>3.0</td>\n",
       "      <td>...</td>\n",
       "      <td>0.0</td>\n",
       "      <td>0.0</td>\n",
       "      <td>0.0</td>\n",
       "      <td>0.0</td>\n",
       "      <td>0.0</td>\n",
       "      <td>0.0</td>\n",
       "      <td>0.0</td>\n",
       "      <td>0.0</td>\n",
       "      <td>0.0</td>\n",
       "      <td>0.0</td>\n",
       "    </tr>\n",
       "    <tr>\n",
       "      <th>4</th>\n",
       "      <td>73561</td>\n",
       "      <td>59052.357033</td>\n",
       "      <td>39004.892993</td>\n",
       "      <td>1</td>\n",
       "      <td>2.0</td>\n",
       "      <td>2.0</td>\n",
       "      <td>1.0</td>\n",
       "      <td>4.0</td>\n",
       "      <td>0.0</td>\n",
       "      <td>4.0</td>\n",
       "      <td>...</td>\n",
       "      <td>2.0</td>\n",
       "      <td>0.0</td>\n",
       "      <td>2.0</td>\n",
       "      <td>0.0</td>\n",
       "      <td>2.0</td>\n",
       "      <td>0.0</td>\n",
       "      <td>2.0</td>\n",
       "      <td>0.0</td>\n",
       "      <td>2.0</td>\n",
       "      <td>0.0</td>\n",
       "    </tr>\n",
       "  </tbody>\n",
       "</table>\n",
       "<p>5 rows × 164 columns</p>\n",
       "</div>"
      ],
      "text/plain": [
       "      id         WTDRD1         WTDR2D  DR1DRSTZ  DRABF  DRDINT  DR1DAY  \\\n",
       "0  73557   16888.327864   12930.890649         1    2.0     2.0     2.0   \n",
       "1  73558   17932.143865   12684.148869         1    2.0     2.0     1.0   \n",
       "2  73559   59641.812930   39394.236709         1    2.0     2.0     6.0   \n",
       "3  73560  142203.069917  125966.366442         1    2.0     2.0     3.0   \n",
       "4  73561   59052.357033   39004.892993         1    2.0     2.0     1.0   \n",
       "\n",
       "   DBQ095Z  DBD100  DRQSPREP   ...    DRD370R  DRD370RQ  DRD370S  DRD370SQ  \\\n",
       "0      3.0     2.0       4.0   ...        0.0       0.0      0.0       0.0   \n",
       "1      1.0     2.0       3.0   ...        2.0       0.0      2.0       0.0   \n",
       "2      1.0     1.0       2.0   ...        0.0       0.0      0.0       0.0   \n",
       "3      1.0     1.0       3.0   ...        0.0       0.0      0.0       0.0   \n",
       "4      4.0     0.0       4.0   ...        2.0       0.0      2.0       0.0   \n",
       "\n",
       "   DRD370T  DRD370TQ  DRD370U  DRD370UQ  DRD370V  DIQ010  \n",
       "0      0.0       0.0      0.0       0.0      0.0     1.0  \n",
       "1      2.0       0.0      2.0       0.0      2.0     1.0  \n",
       "2      0.0       0.0      0.0       0.0      0.0     1.0  \n",
       "3      0.0       0.0      0.0       0.0      0.0     0.0  \n",
       "4      2.0       0.0      2.0       0.0      2.0     0.0  \n",
       "\n",
       "[5 rows x 164 columns]"
      ]
     },
     "execution_count": 4,
     "metadata": {},
     "output_type": "execute_result"
    }
   ],
   "source": [
    "df = pd.read_csv('DIQ010_Target.csv')\n",
    "df.head()"
   ]
  },
  {
   "cell_type": "code",
   "execution_count": 5,
   "metadata": {
    "ExecuteTime": {
     "end_time": "2020-04-22T15:23:10.297620Z",
     "start_time": "2020-04-22T15:23:10.282617Z"
    }
   },
   "outputs": [],
   "source": [
    "# in a preliminary model 'id' caused some data leakage so we removed it here.\n",
    "df.drop(['id'], axis=1, inplace=True)"
   ]
  },
  {
   "cell_type": "code",
   "execution_count": 6,
   "metadata": {
    "ExecuteTime": {
     "end_time": "2020-04-22T15:23:17.476757Z",
     "start_time": "2020-04-22T15:23:17.467757Z"
    }
   },
   "outputs": [
    {
     "data": {
      "text/plain": [
       "0.0    8925\n",
       "1.0     710\n",
       "Name: DIQ010, dtype: int64"
      ]
     },
     "execution_count": 6,
     "metadata": {},
     "output_type": "execute_result"
    }
   ],
   "source": [
    "df.DIQ010.value_counts()"
   ]
  },
  {
   "cell_type": "code",
   "execution_count": 7,
   "metadata": {
    "ExecuteTime": {
     "end_time": "2020-04-22T15:23:19.541829Z",
     "start_time": "2020-04-22T15:23:19.316828Z"
    }
   },
   "outputs": [
    {
     "data": {
      "text/plain": [
       "Text(0, 0.5, 'Diagnosed with Diabetes')"
      ]
     },
     "execution_count": 7,
     "metadata": {},
     "output_type": "execute_result"
    },
    {
     "data": {
      "image/png": "[encoded data removed]",
      "text/plain": [
       "<Figure size 576x360 with 1 Axes>"
      ]
     },
     "metadata": {
      "needs_background": "light"
     },
     "output_type": "display_data"
    }
   ],
   "source": [
    "df['DIQ010'].value_counts().plot(kind='barh', figsize=(8,5))\n",
    "plt.xlabel('Number of responses')\n",
    "plt.ylabel('Diagnosed with Diabetes')"
   ]
  },
  {
   "cell_type": "markdown",
   "metadata": {},
   "source": [
    "#### Creating an 80/20 Train and Test Split"
   ]
  },
  {
   "cell_type": "code",
   "execution_count": 8,
   "metadata": {
    "ExecuteTime": {
     "end_time": "2020-04-22T15:23:24.218627Z",
     "start_time": "2020-04-22T15:23:24.207630Z"
    }
   },
   "outputs": [],
   "source": [
    "X = df.drop(['DIQ010'], axis=1)\n",
    "y = df['DIQ010']"
   ]
  },
  {
   "cell_type": "code",
   "execution_count": 9,
   "metadata": {
    "ExecuteTime": {
     "end_time": "2020-04-22T15:23:25.259630Z",
     "start_time": "2020-04-22T15:23:25.241625Z"
    }
   },
   "outputs": [],
   "source": [
    "X_train, X_test, y_train, y_test = train_test_split(X,y,test_size=.2, random_state=81)"
   ]
  },
  {
   "cell_type": "markdown",
   "metadata": {},
   "source": [
    "#### Checking for imbalance"
   ]
  },
  {
   "cell_type": "code",
   "execution_count": 10,
   "metadata": {
    "ExecuteTime": {
     "end_time": "2020-04-22T15:23:26.702689Z",
     "start_time": "2020-04-22T15:23:26.694691Z"
    }
   },
   "outputs": [
    {
     "data": {
      "text/plain": [
       "0.0    7129\n",
       "1.0     579\n",
       "Name: DIQ010, dtype: int64"
      ]
     },
     "execution_count": 10,
     "metadata": {},
     "output_type": "execute_result"
    }
   ],
   "source": [
    "y_train.value_counts()\n"
   ]
  },
  {
   "cell_type": "markdown",
   "metadata": {},
   "source": [
    "### Using SMOTE to balance the training data set"
   ]
  },
  {
   "cell_type": "code",
   "execution_count": 11,
   "metadata": {
    "ExecuteTime": {
     "end_time": "2020-04-22T15:24:00.848768Z",
     "start_time": "2020-04-22T15:24:00.845765Z"
    }
   },
   "outputs": [],
   "source": [
    "sm = SMOTE(n_jobs=-1, k_neighbors=3)"
   ]
  },
  {
   "cell_type": "code",
   "execution_count": 12,
   "metadata": {
    "ExecuteTime": {
     "end_time": "2020-04-22T15:24:01.884907Z",
     "start_time": "2020-04-22T15:24:01.682892Z"
    }
   },
   "outputs": [],
   "source": [
    "X_train_sm, y_train_sm = sm.fit_sample(X_train, y_train)"
   ]
  },
  {
   "cell_type": "markdown",
   "metadata": {},
   "source": [
    "### Run a preliminary model using Random Forest"
   ]
  },
  {
   "cell_type": "code",
   "execution_count": 13,
   "metadata": {
    "ExecuteTime": {
     "end_time": "2020-04-22T15:24:03.909004Z",
     "start_time": "2020-04-22T15:24:03.906011Z"
    }
   },
   "outputs": [],
   "source": [
    "rf = RandomForestClassifier()"
   ]
  },
  {
   "cell_type": "code",
   "execution_count": 14,
   "metadata": {
    "ExecuteTime": {
     "end_time": "2020-04-22T15:24:10.316363Z",
     "start_time": "2020-04-22T15:24:04.808367Z"
    }
   },
   "outputs": [
    {
     "data": {
      "text/plain": [
       "RandomForestClassifier(bootstrap=True, ccp_alpha=0.0, class_weight=None,\n",
       "                       criterion='gini', max_depth=None, max_features='auto',\n",
       "                       max_leaf_nodes=None, max_samples=None,\n",
       "                       min_impurity_decrease=0.0, min_impurity_split=None,\n",
       "                       min_samples_leaf=1, min_samples_split=2,\n",
       "                       min_weight_fraction_leaf=0.0, n_estimators=100,\n",
       "                       n_jobs=None, oob_score=False, random_state=None,\n",
       "                       verbose=0, warm_start=False)"
      ]
     },
     "execution_count": 14,
     "metadata": {},
     "output_type": "execute_result"
    }
   ],
   "source": [
    "rf.fit(X_train_sm, y_train_sm)"
   ]
  },
  {
   "cell_type": "code",
   "execution_count": 15,
   "metadata": {
    "ExecuteTime": {
     "end_time": "2020-04-22T15:24:11.127988Z",
     "start_time": "2020-04-22T15:24:10.838983Z"
    }
   },
   "outputs": [],
   "source": [
    "train_pred = rf.predict(X_train_sm)\n",
    "test_pred = rf.predict(X_test)"
   ]
  },
  {
   "cell_type": "code",
   "execution_count": 16,
   "metadata": {
    "ExecuteTime": {
     "end_time": "2020-04-22T15:24:11.849993Z",
     "start_time": "2020-04-22T15:24:11.623984Z"
    }
   },
   "outputs": [
    {
     "name": "stdout",
     "output_type": "stream",
     "text": [
      "Confusion Matrix test: \n"
     ]
    },
    {
     "data": {
      "image/png": "[encoded data removed]",
      "text/plain": [
       "<Figure size 432x288 with 2 Axes>"
      ]
     },
     "metadata": {
      "needs_background": "light"
     },
     "output_type": "display_data"
    }
   ],
   "source": [
    "cm(y_train_sm, train_pred)"
   ]
  },
  {
   "cell_type": "code",
   "execution_count": 17,
   "metadata": {
    "ExecuteTime": {
     "end_time": "2020-04-22T15:24:15.964405Z",
     "start_time": "2020-04-22T15:24:15.949400Z"
    }
   },
   "outputs": [
    {
     "name": "stdout",
     "output_type": "stream",
     "text": [
      "Accuracy:  1.0\n"
     ]
    }
   ],
   "source": [
    "print('Accuracy: ', precision_score(y_train_sm, train_pred))"
   ]
  },
  {
   "cell_type": "code",
   "execution_count": 18,
   "metadata": {
    "ExecuteTime": {
     "end_time": "2020-04-22T15:24:16.769399Z",
     "start_time": "2020-04-22T15:24:16.568402Z"
    }
   },
   "outputs": [
    {
     "name": "stdout",
     "output_type": "stream",
     "text": [
      "Confusion Matrix test: \n"
     ]
    },
    {
     "data": {
      "image/png": "[encoded data removed]",
      "text/plain": [
       "<Figure size 432x288 with 2 Axes>"
      ]
     },
     "metadata": {
      "needs_background": "light"
     },
     "output_type": "display_data"
    }
   ],
   "source": [
    "cm(y_test, test_pred)"
   ]
  },
  {
   "cell_type": "code",
   "execution_count": 19,
   "metadata": {
    "ExecuteTime": {
     "end_time": "2020-04-22T15:24:17.829434Z",
     "start_time": "2020-04-22T15:24:17.821438Z"
    }
   },
   "outputs": [
    {
     "name": "stdout",
     "output_type": "stream",
     "text": [
      "Accuracy:  0.96\n"
     ]
    }
   ],
   "source": [
    "print('Accuracy: ', precision_score(y_test, test_pred))"
   ]
  },
  {
   "cell_type": "code",
   "execution_count": 20,
   "metadata": {
    "ExecuteTime": {
     "end_time": "2020-04-22T15:24:23.962434Z",
     "start_time": "2020-04-22T15:24:18.518436Z"
    }
   },
   "outputs": [
    {
     "data": {
      "text/plain": [
       "RandomForestClassifier(bootstrap=True, ccp_alpha=0.0, class_weight=None,\n",
       "                       criterion='gini', max_depth=None, max_features='auto',\n",
       "                       max_leaf_nodes=None, max_samples=None,\n",
       "                       min_impurity_decrease=0.0, min_impurity_split=None,\n",
       "                       min_samples_leaf=1, min_samples_split=2,\n",
       "                       min_weight_fraction_leaf=0.0, n_estimators=100,\n",
       "                       n_jobs=None, oob_score=False, random_state=None,\n",
       "                       verbose=0, warm_start=False)"
      ]
     },
     "execution_count": 20,
     "metadata": {},
     "output_type": "execute_result"
    }
   ],
   "source": [
    "rf.fit(X_train_sm, y_train_sm)"
   ]
  },
  {
   "cell_type": "code",
   "execution_count": 21,
   "metadata": {
    "ExecuteTime": {
     "end_time": "2020-04-22T15:24:24.972486Z",
     "start_time": "2020-04-22T15:24:24.495434Z"
    }
   },
   "outputs": [],
   "source": [
    "train_pred = rf.predict(X_train)\n",
    "train_pred_sm = rf.predict(X_train_sm)\n",
    "test_pred = rf.predict(X_test)"
   ]
  },
  {
   "cell_type": "code",
   "execution_count": 22,
   "metadata": {
    "ExecuteTime": {
     "end_time": "2020-04-22T15:24:27.475999Z",
     "start_time": "2020-04-22T15:24:27.228591Z"
    }
   },
   "outputs": [
    {
     "name": "stdout",
     "output_type": "stream",
     "text": [
      "Confusion Matrix test: \n"
     ]
    },
    {
     "data": {
      "image/png": "[encoded data removed]",
      "text/plain": [
       "<Figure size 432x288 with 2 Axes>"
      ]
     },
     "metadata": {
      "needs_background": "light"
     },
     "output_type": "display_data"
    }
   ],
   "source": [
    "cm(y_test, test_pred)"
   ]
  },
  {
   "cell_type": "code",
   "execution_count": 23,
   "metadata": {
    "ExecuteTime": {
     "end_time": "2020-04-22T15:24:28.049078Z",
     "start_time": "2020-04-22T15:24:28.040069Z"
    }
   },
   "outputs": [
    {
     "name": "stdout",
     "output_type": "stream",
     "text": [
      "Accuracy:  1.0\n"
     ]
    }
   ],
   "source": [
    "print('Accuracy: ', precision_score(y_test, test_pred))"
   ]
  },
  {
   "cell_type": "code",
   "execution_count": 24,
   "metadata": {
    "ExecuteTime": {
     "end_time": "2020-04-22T15:24:28.750070Z",
     "start_time": "2020-04-22T15:24:28.553070Z"
    }
   },
   "outputs": [
    {
     "name": "stdout",
     "output_type": "stream",
     "text": [
      "Confusion Matrix test: \n"
     ]
    },
    {
     "data": {
      "image/png": "[encoded data removed]",
      "text/plain": [
       "<Figure size 432x288 with 2 Axes>"
      ]
     },
     "metadata": {
      "needs_background": "light"
     },
     "output_type": "display_data"
    }
   ],
   "source": [
    "cm(y_train, train_pred)"
   ]
  },
  {
   "cell_type": "code",
   "execution_count": 25,
   "metadata": {
    "ExecuteTime": {
     "end_time": "2020-04-22T15:24:30.808185Z",
     "start_time": "2020-04-22T15:24:30.798181Z"
    }
   },
   "outputs": [
    {
     "name": "stdout",
     "output_type": "stream",
     "text": [
      "Accuracy:  1.0\n"
     ]
    }
   ],
   "source": [
    "print('Accuracy: ', precision_score(y_train, train_pred))"
   ]
  },
  {
   "cell_type": "code",
   "execution_count": 26,
   "metadata": {
    "ExecuteTime": {
     "end_time": "2020-04-22T15:24:32.175216Z",
     "start_time": "2020-04-22T15:24:31.961215Z"
    }
   },
   "outputs": [
    {
     "name": "stdout",
     "output_type": "stream",
     "text": [
      "Confusion Matrix test: \n"
     ]
    },
    {
     "data": {
      "image/png": "[encoded data removed]",
      "text/plain": [
       "<Figure size 432x288 with 2 Axes>"
      ]
     },
     "metadata": {
      "needs_background": "light"
     },
     "output_type": "display_data"
    }
   ],
   "source": [
    "cm(y_train_sm, train_pred_sm)"
   ]
  },
  {
   "cell_type": "code",
   "execution_count": 27,
   "metadata": {
    "ExecuteTime": {
     "end_time": "2020-04-22T15:24:32.712221Z",
     "start_time": "2020-04-22T15:24:32.698219Z"
    }
   },
   "outputs": [
    {
     "name": "stdout",
     "output_type": "stream",
     "text": [
      "Accuracy:  1.0\n"
     ]
    }
   ],
   "source": [
    "print('Accuracy: ', precision_score(y_train_sm, train_pred_sm))"
   ]
  },
  {
   "cell_type": "markdown",
   "metadata": {},
   "source": [
    "### Random Forest classifier is optimizing precision.  We will be better served optimizing for recall."
   ]
  },
  {
   "cell_type": "markdown",
   "metadata": {},
   "source": [
    "# Finding the best model using recall as a metric"
   ]
  },
  {
   "cell_type": "code",
   "execution_count": 50,
   "metadata": {
    "ExecuteTime": {
     "end_time": "2020-04-22T19:22:38.482094Z",
     "start_time": "2020-04-22T19:22:38.477094Z"
    }
   },
   "outputs": [
    {
     "name": "stdout",
     "output_type": "stream",
     "text": [
      "[100, 105, 110, 115, 120, 125, 130, 135, 140, 145, 150, 155, 160]\n"
     ]
    }
   ],
   "source": [
    "print(list(range(100, 165, 5)))"
   ]
  },
  {
   "cell_type": "markdown",
   "metadata": {},
   "source": [
    "#### Performing a GridSearch to find the best parameters for this model"
   ]
  },
  {
   "cell_type": "code",
   "execution_count": 61,
   "metadata": {
    "ExecuteTime": {
     "end_time": "2020-04-23T00:16:29.716544Z",
     "start_time": "2020-04-23T00:16:29.708547Z"
    }
   },
   "outputs": [],
   "source": [
    "rf = RandomForestClassifier()\n",
    "\n",
    "params = {\"n_estimators\":list(range(100, 165, 5)),\n",
    "          \"criterion\": [\"entropy\", \"gini\"],\n",
    "          \"max_depth\": list(range(9, 18, 1)),\n",
    "          \"min_samples_split\": [2, 3, 4],\n",
    "          \"max_features\": ['sqrt']}\n",
    "\n",
    "clf = GridSearchCV(rf, params, n_jobs=-1, scoring=make_scorer(recall_score))"
   ]
  },
  {
   "cell_type": "code",
   "execution_count": 62,
   "metadata": {
    "ExecuteTime": {
     "end_time": "2020-04-23T02:38:14.726390Z",
     "start_time": "2020-04-23T00:16:30.681075Z"
    }
   },
   "outputs": [
    {
     "data": {
      "text/plain": [
       "GridSearchCV(cv=None, error_score=nan,\n",
       "             estimator=RandomForestClassifier(bootstrap=True, ccp_alpha=0.0,\n",
       "                                              class_weight=None,\n",
       "                                              criterion='gini', max_depth=None,\n",
       "                                              max_features='auto',\n",
       "                                              max_leaf_nodes=None,\n",
       "                                              max_samples=None,\n",
       "                                              min_impurity_decrease=0.0,\n",
       "                                              min_impurity_split=None,\n",
       "                                              min_samples_leaf=1,\n",
       "                                              min_samples_split=2,\n",
       "                                              min_weight_fraction_leaf=0.0,\n",
       "                                              n_estimators=100, n_jobs=No...\n",
       "                                              warm_start=False),\n",
       "             iid='deprecated', n_jobs=-1,\n",
       "             param_grid={'criterion': ['entropy', 'gini'],\n",
       "                         'max_depth': [9, 10, 11, 12, 13, 14, 15, 16, 17],\n",
       "                         'max_features': ['sqrt'],\n",
       "                         'min_samples_split': [2, 3, 4],\n",
       "                         'n_estimators': [100, 105, 110, 115, 120, 125, 130,\n",
       "                                          135, 140, 145, 150, 155, 160]},\n",
       "             pre_dispatch='2*n_jobs', refit=True, return_train_score=False,\n",
       "             scoring=make_scorer(recall_score), verbose=0)"
      ]
     },
     "execution_count": 62,
     "metadata": {},
     "output_type": "execute_result"
    }
   ],
   "source": [
    "clf.fit(X_train_sm, y_train_sm)"
   ]
  },
  {
   "cell_type": "code",
   "execution_count": 63,
   "metadata": {
    "ExecuteTime": {
     "end_time": "2020-04-23T02:38:15.457391Z",
     "start_time": "2020-04-23T02:38:15.449396Z"
    }
   },
   "outputs": [
    {
     "data": {
      "text/plain": [
       "{'criterion': 'gini',\n",
       " 'max_depth': 17,\n",
       " 'max_features': 'sqrt',\n",
       " 'min_samples_split': 2,\n",
       " 'n_estimators': 100}"
      ]
     },
     "execution_count": 63,
     "metadata": {},
     "output_type": "execute_result"
    }
   ],
   "source": [
    "clf.best_params_"
   ]
  },
  {
   "cell_type": "code",
   "execution_count": 108,
   "metadata": {
    "ExecuteTime": {
     "end_time": "2020-04-23T16:10:28.432863Z",
     "start_time": "2020-04-23T16:10:28.427871Z"
    }
   },
   "outputs": [],
   "source": [
    "rf2 = RandomForestClassifier(criterion='gini',\n",
    "                             max_depth=17,\n",
    "                             max_features='sqrt',\n",
    "                             min_samples_split=2,\n",
    "                             n_estimators=100)"
   ]
  },
  {
   "cell_type": "code",
   "execution_count": 109,
   "metadata": {
    "ExecuteTime": {
     "end_time": "2020-04-23T16:10:34.221642Z",
     "start_time": "2020-04-23T16:10:29.066608Z"
    }
   },
   "outputs": [
    {
     "data": {
      "text/plain": [
       "RandomForestClassifier(bootstrap=True, ccp_alpha=0.0, class_weight=None,\n",
       "                       criterion='gini', max_depth=17, max_features='sqrt',\n",
       "                       max_leaf_nodes=None, max_samples=None,\n",
       "                       min_impurity_decrease=0.0, min_impurity_split=None,\n",
       "                       min_samples_leaf=1, min_samples_split=2,\n",
       "                       min_weight_fraction_leaf=0.0, n_estimators=100,\n",
       "                       n_jobs=None, oob_score=False, random_state=None,\n",
       "                       verbose=0, warm_start=False)"
      ]
     },
     "execution_count": 109,
     "metadata": {},
     "output_type": "execute_result"
    }
   ],
   "source": [
    "rf2.fit(X_train_sm, y_train_sm)"
   ]
  },
  {
   "cell_type": "markdown",
   "metadata": {},
   "source": [
    "#### Make predictions using the parameters"
   ]
  },
  {
   "cell_type": "code",
   "execution_count": 110,
   "metadata": {
    "ExecuteTime": {
     "end_time": "2020-04-23T16:10:35.375606Z",
     "start_time": "2020-04-23T16:10:34.781607Z"
    }
   },
   "outputs": [
    {
     "data": {
      "text/plain": [
       "array([[0.77511978, 0.22488022],\n",
       "       [0.88999051, 0.11000949],\n",
       "       [0.94428055, 0.05571945],\n",
       "       ...,\n",
       "       [0.50577298, 0.49422702],\n",
       "       [0.70617599, 0.29382401],\n",
       "       [1.        , 0.        ]])"
      ]
     },
     "execution_count": 110,
     "metadata": {},
     "output_type": "execute_result"
    }
   ],
   "source": [
    "train_pred2 = rf2.predict(X_train)\n",
    "train_pred_sm = rf2.predict(X_train_sm)\n",
    "test_pred2 = rf2.predict(X_test)\n",
    "rf2.predict_proba(X_test)"
   ]
  },
  {
   "cell_type": "code",
   "execution_count": 112,
   "metadata": {
    "ExecuteTime": {
     "end_time": "2020-04-23T17:06:11.131649Z",
     "start_time": "2020-04-23T17:06:11.049616Z"
    }
   },
   "outputs": [],
   "source": [
    "prob_rf2 = rf2.predict_proba(X_test)"
   ]
  },
  {
   "cell_type": "code",
   "execution_count": 118,
   "metadata": {
    "ExecuteTime": {
     "end_time": "2020-04-23T17:09:51.962072Z",
     "start_time": "2020-04-23T17:09:51.956075Z"
    }
   },
   "outputs": [],
   "source": [
    "dfprob_rf2 = pd.DataFrame(prob_rf2)\n"
   ]
  },
  {
   "cell_type": "code",
   "execution_count": 121,
   "metadata": {
    "ExecuteTime": {
     "end_time": "2020-04-23T17:10:56.464010Z",
     "start_time": "2020-04-23T17:10:56.429010Z"
    }
   },
   "outputs": [
    {
     "data": {
      "text/html": [
       "<div>\n",
       "<style scoped>\n",
       "    .dataframe tbody tr th:only-of-type {\n",
       "        vertical-align: middle;\n",
       "    }\n",
       "\n",
       "    .dataframe tbody tr th {\n",
       "        vertical-align: top;\n",
       "    }\n",
       "\n",
       "    .dataframe thead th {\n",
       "        text-align: right;\n",
       "    }\n",
       "</style>\n",
       "<table border=\"1\" class=\"dataframe\">\n",
       "  <thead>\n",
       "    <tr style=\"text-align: right;\">\n",
       "      <th></th>\n",
       "      <th>0</th>\n",
       "      <th>1</th>\n",
       "    </tr>\n",
       "  </thead>\n",
       "  <tbody>\n",
       "    <tr>\n",
       "      <th>count</th>\n",
       "      <td>1927.000000</td>\n",
       "      <td>1927.000000</td>\n",
       "    </tr>\n",
       "    <tr>\n",
       "      <th>mean</th>\n",
       "      <td>0.841276</td>\n",
       "      <td>0.158724</td>\n",
       "    </tr>\n",
       "    <tr>\n",
       "      <th>std</th>\n",
       "      <td>0.149829</td>\n",
       "      <td>0.149829</td>\n",
       "    </tr>\n",
       "    <tr>\n",
       "      <th>min</th>\n",
       "      <td>0.212648</td>\n",
       "      <td>0.000000</td>\n",
       "    </tr>\n",
       "    <tr>\n",
       "      <th>25%</th>\n",
       "      <td>0.796792</td>\n",
       "      <td>0.052612</td>\n",
       "    </tr>\n",
       "    <tr>\n",
       "      <th>50%</th>\n",
       "      <td>0.886335</td>\n",
       "      <td>0.113665</td>\n",
       "    </tr>\n",
       "    <tr>\n",
       "      <th>75%</th>\n",
       "      <td>0.947388</td>\n",
       "      <td>0.203208</td>\n",
       "    </tr>\n",
       "    <tr>\n",
       "      <th>max</th>\n",
       "      <td>1.000000</td>\n",
       "      <td>0.787352</td>\n",
       "    </tr>\n",
       "  </tbody>\n",
       "</table>\n",
       "</div>"
      ],
      "text/plain": [
       "                 0            1\n",
       "count  1927.000000  1927.000000\n",
       "mean      0.841276     0.158724\n",
       "std       0.149829     0.149829\n",
       "min       0.212648     0.000000\n",
       "25%       0.796792     0.052612\n",
       "50%       0.886335     0.113665\n",
       "75%       0.947388     0.203208\n",
       "max       1.000000     0.787352"
      ]
     },
     "execution_count": 121,
     "metadata": {},
     "output_type": "execute_result"
    }
   ],
   "source": [
    "dfprob_rf2.describe()"
   ]
  },
  {
   "cell_type": "markdown",
   "metadata": {},
   "source": [
    "#### Check the performance with a confusion matrix"
   ]
  },
  {
   "cell_type": "code",
   "execution_count": 67,
   "metadata": {
    "ExecuteTime": {
     "end_time": "2020-04-23T03:14:26.283722Z",
     "start_time": "2020-04-23T03:14:26.045723Z"
    }
   },
   "outputs": [
    {
     "name": "stdout",
     "output_type": "stream",
     "text": [
      "Confusion Matrix test: \n"
     ]
    },
    {
     "data": {
      "image/png": "[encoded data removed]",
      "text/plain": [
       "<Figure size 432x288 with 2 Axes>"
      ]
     },
     "metadata": {
      "needs_background": "light"
     },
     "output_type": "display_data"
    }
   ],
   "source": [
    "cm(y_train_sm, train_pred_sm)"
   ]
  },
  {
   "cell_type": "code",
   "execution_count": 68,
   "metadata": {
    "ExecuteTime": {
     "end_time": "2020-04-23T03:14:26.841723Z",
     "start_time": "2020-04-23T03:14:26.801721Z"
    }
   },
   "outputs": [
    {
     "name": "stdout",
     "output_type": "stream",
     "text": [
      "              precision    recall  f1-score   support\n",
      "\n",
      "         0.0       0.90      1.00      0.95      7129\n",
      "         1.0       1.00      0.89      0.94      7129\n",
      "\n",
      "    accuracy                           0.95     14258\n",
      "   macro avg       0.95      0.95      0.95     14258\n",
      "weighted avg       0.95      0.95      0.95     14258\n",
      "\n"
     ]
    }
   ],
   "source": [
    "print(classification_report(y_train_sm, train_pred_sm))"
   ]
  },
  {
   "cell_type": "code",
   "execution_count": 69,
   "metadata": {
    "ExecuteTime": {
     "end_time": "2020-04-23T03:14:27.435722Z",
     "start_time": "2020-04-23T03:14:27.251724Z"
    }
   },
   "outputs": [
    {
     "name": "stdout",
     "output_type": "stream",
     "text": [
      "Confusion Matrix test: \n"
     ]
    },
    {
     "data": {
      "image/png": "[encoded data removed]",
      "text/plain": [
       "<Figure size 432x288 with 2 Axes>"
      ]
     },
     "metadata": {
      "needs_background": "light"
     },
     "output_type": "display_data"
    }
   ],
   "source": [
    "cm(y_test, test_pred2)"
   ]
  },
  {
   "cell_type": "code",
   "execution_count": 70,
   "metadata": {
    "ExecuteTime": {
     "end_time": "2020-04-23T03:14:42.846249Z",
     "start_time": "2020-04-23T03:14:42.831250Z"
    }
   },
   "outputs": [
    {
     "name": "stdout",
     "output_type": "stream",
     "text": [
      "              precision    recall  f1-score   support\n",
      "\n",
      "         0.0       0.94      1.00      0.97      1796\n",
      "         1.0       1.00      0.19      0.32       131\n",
      "\n",
      "    accuracy                           0.94      1927\n",
      "   macro avg       0.97      0.60      0.65      1927\n",
      "weighted avg       0.95      0.94      0.93      1927\n",
      "\n"
     ]
    }
   ],
   "source": [
    "print(classification_report(y_test, test_pred))"
   ]
  },
  {
   "cell_type": "markdown",
   "metadata": {},
   "source": [
    "#### The model works well, but is classifying too many false positives.  \n",
    "we will try another avenue"
   ]
  },
  {
   "cell_type": "markdown",
   "metadata": {},
   "source": [
    "### Feature selection"
   ]
  },
  {
   "cell_type": "code",
   "execution_count": 71,
   "metadata": {
    "ExecuteTime": {
     "end_time": "2020-04-23T03:15:33.561688Z",
     "start_time": "2020-04-23T03:15:33.518688Z"
    }
   },
   "outputs": [],
   "source": [
    "select_feature = SelectKBest(chi2, k=15).fit(X_train_sm, y_train_sm)"
   ]
  },
  {
   "cell_type": "code",
   "execution_count": 72,
   "metadata": {
    "ExecuteTime": {
     "end_time": "2020-04-23T03:15:34.169689Z",
     "start_time": "2020-04-23T03:15:34.132697Z"
    }
   },
   "outputs": [
    {
     "data": {
      "text/html": [
       "<div>\n",
       "<style scoped>\n",
       "    .dataframe tbody tr th:only-of-type {\n",
       "        vertical-align: middle;\n",
       "    }\n",
       "\n",
       "    .dataframe tbody tr th {\n",
       "        vertical-align: top;\n",
       "    }\n",
       "\n",
       "    .dataframe thead th {\n",
       "        text-align: right;\n",
       "    }\n",
       "</style>\n",
       "<table border=\"1\" class=\"dataframe\">\n",
       "  <thead>\n",
       "    <tr style=\"text-align: right;\">\n",
       "      <th></th>\n",
       "      <th>Feature</th>\n",
       "      <th>Scores</th>\n",
       "    </tr>\n",
       "  </thead>\n",
       "  <tbody>\n",
       "    <tr>\n",
       "      <th>1</th>\n",
       "      <td>WTDR2D</td>\n",
       "      <td>490609.545527</td>\n",
       "    </tr>\n",
       "    <tr>\n",
       "      <th>0</th>\n",
       "      <td>WTDRD1</td>\n",
       "      <td>284984.830449</td>\n",
       "    </tr>\n",
       "    <tr>\n",
       "      <th>94</th>\n",
       "      <td>DR1BWATZ</td>\n",
       "      <td>282352.550961</td>\n",
       "    </tr>\n",
       "    <tr>\n",
       "      <th>71</th>\n",
       "      <td>DR1TMOIS</td>\n",
       "      <td>246533.492208</td>\n",
       "    </tr>\n",
       "    <tr>\n",
       "      <th>92</th>\n",
       "      <td>DR1.320Z</td>\n",
       "      <td>155095.623640</td>\n",
       "    </tr>\n",
       "    <tr>\n",
       "      <th>44</th>\n",
       "      <td>DR1TLZ</td>\n",
       "      <td>147843.002181</td>\n",
       "    </tr>\n",
       "    <tr>\n",
       "      <th>68</th>\n",
       "      <td>DR1TCAFF</td>\n",
       "      <td>108089.862757</td>\n",
       "    </tr>\n",
       "    <tr>\n",
       "      <th>43</th>\n",
       "      <td>DR1TLYCO</td>\n",
       "      <td>81747.003826</td>\n",
       "    </tr>\n",
       "    <tr>\n",
       "      <th>41</th>\n",
       "      <td>DR1TBCAR</td>\n",
       "      <td>42043.865991</td>\n",
       "    </tr>\n",
       "    <tr>\n",
       "      <th>59</th>\n",
       "      <td>DR1TCALC</td>\n",
       "      <td>29867.899640</td>\n",
       "    </tr>\n",
       "    <tr>\n",
       "      <th>26</th>\n",
       "      <td>DR1TKCAL</td>\n",
       "      <td>24571.467783</td>\n",
       "    </tr>\n",
       "    <tr>\n",
       "      <th>40</th>\n",
       "      <td>DR1TACAR</td>\n",
       "      <td>21378.345069</td>\n",
       "    </tr>\n",
       "    <tr>\n",
       "      <th>29</th>\n",
       "      <td>DR1TSUGR</td>\n",
       "      <td>17263.044835</td>\n",
       "    </tr>\n",
       "    <tr>\n",
       "      <th>50</th>\n",
       "      <td>DR1TFA</td>\n",
       "      <td>13689.339125</td>\n",
       "    </tr>\n",
       "    <tr>\n",
       "      <th>38</th>\n",
       "      <td>DR1TRET</td>\n",
       "      <td>13077.925776</td>\n",
       "    </tr>\n",
       "    <tr>\n",
       "      <th>35</th>\n",
       "      <td>DR1TCHOL</td>\n",
       "      <td>12374.439124</td>\n",
       "    </tr>\n",
       "    <tr>\n",
       "      <th>42</th>\n",
       "      <td>DR1TCRYP</td>\n",
       "      <td>9641.013951</td>\n",
       "    </tr>\n",
       "    <tr>\n",
       "      <th>18</th>\n",
       "      <td>DRQSDT7</td>\n",
       "      <td>8863.726212</td>\n",
       "    </tr>\n",
       "    <tr>\n",
       "      <th>65</th>\n",
       "      <td>DR1TSODI</td>\n",
       "      <td>8430.963424</td>\n",
       "    </tr>\n",
       "    <tr>\n",
       "      <th>56</th>\n",
       "      <td>DR1TVC</td>\n",
       "      <td>8403.188888</td>\n",
       "    </tr>\n",
       "    <tr>\n",
       "      <th>28</th>\n",
       "      <td>DR1TCARB</td>\n",
       "      <td>7787.853008</td>\n",
       "    </tr>\n",
       "    <tr>\n",
       "      <th>53</th>\n",
       "      <td>DR1TCHL</td>\n",
       "      <td>6535.961864</td>\n",
       "    </tr>\n",
       "    <tr>\n",
       "      <th>52</th>\n",
       "      <td>DR1TFDFE</td>\n",
       "      <td>6172.565354</td>\n",
       "    </tr>\n",
       "    <tr>\n",
       "      <th>66</th>\n",
       "      <td>DR1TPOTA</td>\n",
       "      <td>6121.018158</td>\n",
       "    </tr>\n",
       "    <tr>\n",
       "      <th>58</th>\n",
       "      <td>DR1TVK</td>\n",
       "      <td>5288.496610</td>\n",
       "    </tr>\n",
       "    <tr>\n",
       "      <th>69</th>\n",
       "      <td>DR1TTHEO</td>\n",
       "      <td>5266.833604</td>\n",
       "    </tr>\n",
       "    <tr>\n",
       "      <th>39</th>\n",
       "      <td>DR1TVARA</td>\n",
       "      <td>5100.603127</td>\n",
       "    </tr>\n",
       "    <tr>\n",
       "      <th>51</th>\n",
       "      <td>DR1TFF</td>\n",
       "      <td>3746.072317</td>\n",
       "    </tr>\n",
       "    <tr>\n",
       "      <th>70</th>\n",
       "      <td>DR1TALCO</td>\n",
       "      <td>3650.179647</td>\n",
       "    </tr>\n",
       "    <tr>\n",
       "      <th>60</th>\n",
       "      <td>DR1TPHOS</td>\n",
       "      <td>2074.544630</td>\n",
       "    </tr>\n",
       "    <tr>\n",
       "      <th>...</th>\n",
       "      <td>...</td>\n",
       "      <td>...</td>\n",
       "    </tr>\n",
       "    <tr>\n",
       "      <th>90</th>\n",
       "      <td>DR1TP226</td>\n",
       "      <td>5.551689</td>\n",
       "    </tr>\n",
       "    <tr>\n",
       "      <th>106</th>\n",
       "      <td>DRD350EQ</td>\n",
       "      <td>5.405486</td>\n",
       "    </tr>\n",
       "    <tr>\n",
       "      <th>64</th>\n",
       "      <td>DR1TCOPP</td>\n",
       "      <td>5.252793</td>\n",
       "    </tr>\n",
       "    <tr>\n",
       "      <th>81</th>\n",
       "      <td>DR1TM181</td>\n",
       "      <td>5.092243</td>\n",
       "    </tr>\n",
       "    <tr>\n",
       "      <th>33</th>\n",
       "      <td>DR1TMFAT</td>\n",
       "      <td>4.745815</td>\n",
       "    </tr>\n",
       "    <tr>\n",
       "      <th>34</th>\n",
       "      <td>DR1TPFAT</td>\n",
       "      <td>4.730151</td>\n",
       "    </tr>\n",
       "    <tr>\n",
       "      <th>100</th>\n",
       "      <td>DRD350BQ</td>\n",
       "      <td>4.628900</td>\n",
       "    </tr>\n",
       "    <tr>\n",
       "      <th>104</th>\n",
       "      <td>DRD350DQ</td>\n",
       "      <td>4.600306</td>\n",
       "    </tr>\n",
       "    <tr>\n",
       "      <th>154</th>\n",
       "      <td>DRD370RQ</td>\n",
       "      <td>4.580421</td>\n",
       "    </tr>\n",
       "    <tr>\n",
       "      <th>144</th>\n",
       "      <td>DRD370MQ</td>\n",
       "      <td>4.437255</td>\n",
       "    </tr>\n",
       "    <tr>\n",
       "      <th>85</th>\n",
       "      <td>DR1TP183</td>\n",
       "      <td>4.412198</td>\n",
       "    </tr>\n",
       "    <tr>\n",
       "      <th>96</th>\n",
       "      <td>DRD340</td>\n",
       "      <td>3.655854</td>\n",
       "    </tr>\n",
       "    <tr>\n",
       "      <th>110</th>\n",
       "      <td>DRD350GQ</td>\n",
       "      <td>3.349545</td>\n",
       "    </tr>\n",
       "    <tr>\n",
       "      <th>2</th>\n",
       "      <td>DR1DRSTZ</td>\n",
       "      <td>3.296971</td>\n",
       "    </tr>\n",
       "    <tr>\n",
       "      <th>114</th>\n",
       "      <td>DRD350IQ</td>\n",
       "      <td>3.226449</td>\n",
       "    </tr>\n",
       "    <tr>\n",
       "      <th>82</th>\n",
       "      <td>DR1TM201</td>\n",
       "      <td>3.193911</td>\n",
       "    </tr>\n",
       "    <tr>\n",
       "      <th>116</th>\n",
       "      <td>DRD350JQ</td>\n",
       "      <td>2.297285</td>\n",
       "    </tr>\n",
       "    <tr>\n",
       "      <th>88</th>\n",
       "      <td>DR1TP205</td>\n",
       "      <td>2.152052</td>\n",
       "    </tr>\n",
       "    <tr>\n",
       "      <th>9</th>\n",
       "      <td>DR1STY</td>\n",
       "      <td>2.028341</td>\n",
       "    </tr>\n",
       "    <tr>\n",
       "      <th>134</th>\n",
       "      <td>DRD370HQ</td>\n",
       "      <td>1.546078</td>\n",
       "    </tr>\n",
       "    <tr>\n",
       "      <th>124</th>\n",
       "      <td>DRD370CQ</td>\n",
       "      <td>1.188288</td>\n",
       "    </tr>\n",
       "    <tr>\n",
       "      <th>89</th>\n",
       "      <td>DR1TP225</td>\n",
       "      <td>1.006554</td>\n",
       "    </tr>\n",
       "    <tr>\n",
       "      <th>22</th>\n",
       "      <td>DRQSDT11</td>\n",
       "      <td>0.995278</td>\n",
       "    </tr>\n",
       "    <tr>\n",
       "      <th>84</th>\n",
       "      <td>DR1TP182</td>\n",
       "      <td>0.705063</td>\n",
       "    </tr>\n",
       "    <tr>\n",
       "      <th>80</th>\n",
       "      <td>DR1TM161</td>\n",
       "      <td>0.114879</td>\n",
       "    </tr>\n",
       "    <tr>\n",
       "      <th>140</th>\n",
       "      <td>DRD370KQ</td>\n",
       "      <td>0.104175</td>\n",
       "    </tr>\n",
       "    <tr>\n",
       "      <th>148</th>\n",
       "      <td>DRD370OQ</td>\n",
       "      <td>0.100897</td>\n",
       "    </tr>\n",
       "    <tr>\n",
       "      <th>86</th>\n",
       "      <td>DR1TP184</td>\n",
       "      <td>0.000393</td>\n",
       "    </tr>\n",
       "    <tr>\n",
       "      <th>45</th>\n",
       "      <td>DR1TVB1</td>\n",
       "      <td>0.000144</td>\n",
       "    </tr>\n",
       "    <tr>\n",
       "      <th>16</th>\n",
       "      <td>DRQSDT5</td>\n",
       "      <td>NaN</td>\n",
       "    </tr>\n",
       "  </tbody>\n",
       "</table>\n",
       "<p>162 rows × 2 columns</p>\n",
       "</div>"
      ],
      "text/plain": [
       "      Feature         Scores\n",
       "1      WTDR2D  490609.545527\n",
       "0      WTDRD1  284984.830449\n",
       "94   DR1BWATZ  282352.550961\n",
       "71   DR1TMOIS  246533.492208\n",
       "92   DR1.320Z  155095.623640\n",
       "44     DR1TLZ  147843.002181\n",
       "68   DR1TCAFF  108089.862757\n",
       "43   DR1TLYCO   81747.003826\n",
       "41   DR1TBCAR   42043.865991\n",
       "59   DR1TCALC   29867.899640\n",
       "26   DR1TKCAL   24571.467783\n",
       "40   DR1TACAR   21378.345069\n",
       "29   DR1TSUGR   17263.044835\n",
       "50     DR1TFA   13689.339125\n",
       "38    DR1TRET   13077.925776\n",
       "35   DR1TCHOL   12374.439124\n",
       "42   DR1TCRYP    9641.013951\n",
       "18    DRQSDT7    8863.726212\n",
       "65   DR1TSODI    8430.963424\n",
       "56     DR1TVC    8403.188888\n",
       "28   DR1TCARB    7787.853008\n",
       "53    DR1TCHL    6535.961864\n",
       "52   DR1TFDFE    6172.565354\n",
       "66   DR1TPOTA    6121.018158\n",
       "58     DR1TVK    5288.496610\n",
       "69   DR1TTHEO    5266.833604\n",
       "39   DR1TVARA    5100.603127\n",
       "51     DR1TFF    3746.072317\n",
       "70   DR1TALCO    3650.179647\n",
       "60   DR1TPHOS    2074.544630\n",
       "..        ...            ...\n",
       "90   DR1TP226       5.551689\n",
       "106  DRD350EQ       5.405486\n",
       "64   DR1TCOPP       5.252793\n",
       "81   DR1TM181       5.092243\n",
       "33   DR1TMFAT       4.745815\n",
       "34   DR1TPFAT       4.730151\n",
       "100  DRD350BQ       4.628900\n",
       "104  DRD350DQ       4.600306\n",
       "154  DRD370RQ       4.580421\n",
       "144  DRD370MQ       4.437255\n",
       "85   DR1TP183       4.412198\n",
       "96     DRD340       3.655854\n",
       "110  DRD350GQ       3.349545\n",
       "2    DR1DRSTZ       3.296971\n",
       "114  DRD350IQ       3.226449\n",
       "82   DR1TM201       3.193911\n",
       "116  DRD350JQ       2.297285\n",
       "88   DR1TP205       2.152052\n",
       "9      DR1STY       2.028341\n",
       "134  DRD370HQ       1.546078\n",
       "124  DRD370CQ       1.188288\n",
       "89   DR1TP225       1.006554\n",
       "22   DRQSDT11       0.995278\n",
       "84   DR1TP182       0.705063\n",
       "80   DR1TM161       0.114879\n",
       "140  DRD370KQ       0.104175\n",
       "148  DRD370OQ       0.100897\n",
       "86   DR1TP184       0.000393\n",
       "45    DR1TVB1       0.000144\n",
       "16    DRQSDT5            NaN\n",
       "\n",
       "[162 rows x 2 columns]"
      ]
     },
     "execution_count": 72,
     "metadata": {},
     "output_type": "execute_result"
    }
   ],
   "source": [
    "select_feature_df = pd.DataFrame({'Feature':list(X_train.columns),\n",
    "                                 'Scores': select_feature.scores_})\n",
    "select_feature_df.sort_values(by='Scores', ascending=False )"
   ]
  },
  {
   "cell_type": "code",
   "execution_count": 73,
   "metadata": {
    "ExecuteTime": {
     "end_time": "2020-04-23T03:15:34.797687Z",
     "start_time": "2020-04-23T03:15:34.775690Z"
    }
   },
   "outputs": [],
   "source": [
    "X_train_chi = select_feature.transform(X_train_sm)\n",
    "X_test_chi = select_feature.transform(X_test)"
   ]
  },
  {
   "cell_type": "code",
   "execution_count": 74,
   "metadata": {
    "ExecuteTime": {
     "end_time": "2020-04-23T03:15:35.367689Z",
     "start_time": "2020-04-23T03:15:35.360694Z"
    }
   },
   "outputs": [
    {
     "data": {
      "text/plain": [
       "{'k': 15,\n",
       " 'score_func': <function sklearn.feature_selection._univariate_selection.chi2(X, y)>}"
      ]
     },
     "execution_count": 74,
     "metadata": {},
     "output_type": "execute_result"
    }
   ],
   "source": [
    "select_feature.get_params()"
   ]
  },
  {
   "cell_type": "code",
   "execution_count": 75,
   "metadata": {
    "ExecuteTime": {
     "end_time": "2020-04-23T03:15:39.190353Z",
     "start_time": "2020-04-23T03:15:35.925355Z"
    }
   },
   "outputs": [
    {
     "data": {
      "text/plain": [
       "RandomForestClassifier(bootstrap=True, ccp_alpha=0.0, class_weight=None,\n",
       "                       criterion='gini', max_depth=17, max_features='sqrt',\n",
       "                       max_leaf_nodes=None, max_samples=None,\n",
       "                       min_impurity_decrease=0.0, min_impurity_split=None,\n",
       "                       min_samples_leaf=1, min_samples_split=2,\n",
       "                       min_weight_fraction_leaf=0.0, n_estimators=100,\n",
       "                       n_jobs=None, oob_score=False, random_state=None,\n",
       "                       verbose=0, warm_start=False)"
      ]
     },
     "execution_count": 75,
     "metadata": {},
     "output_type": "execute_result"
    }
   ],
   "source": [
    "rf2.fit(X_train_chi, y_train_sm)"
   ]
  },
  {
   "cell_type": "code",
   "execution_count": 76,
   "metadata": {
    "ExecuteTime": {
     "end_time": "2020-04-23T03:15:39.927558Z",
     "start_time": "2020-04-23T03:15:39.662353Z"
    }
   },
   "outputs": [],
   "source": [
    "train_pred_chi = rf2.predict(X_train_chi)\n",
    "test_pred_chi = rf2.predict(X_test_chi)"
   ]
  },
  {
   "cell_type": "code",
   "execution_count": 77,
   "metadata": {
    "ExecuteTime": {
     "end_time": "2020-04-23T03:15:40.381354Z",
     "start_time": "2020-04-23T03:15:40.376355Z"
    },
    "scrolled": false
   },
   "outputs": [
    {
     "data": {
      "text/plain": [
       "((14258, 15), (14258, 162))"
      ]
     },
     "execution_count": 77,
     "metadata": {},
     "output_type": "execute_result"
    }
   ],
   "source": [
    "X_train_chi.shape, X_train_sm.shape"
   ]
  },
  {
   "cell_type": "code",
   "execution_count": 78,
   "metadata": {
    "ExecuteTime": {
     "end_time": "2020-04-23T03:15:41.061403Z",
     "start_time": "2020-04-23T03:15:40.842357Z"
    }
   },
   "outputs": [
    {
     "name": "stdout",
     "output_type": "stream",
     "text": [
      "Confusion Matrix test: \n"
     ]
    },
    {
     "data": {
      "image/png": "[encoded data removed]",
      "text/plain": [
       "<Figure size 432x288 with 2 Axes>"
      ]
     },
     "metadata": {
      "needs_background": "light"
     },
     "output_type": "display_data"
    }
   ],
   "source": [
    "cm(y_train_sm, train_pred_chi)"
   ]
  },
  {
   "cell_type": "code",
   "execution_count": 79,
   "metadata": {
    "ExecuteTime": {
     "end_time": "2020-04-23T03:15:41.765354Z",
     "start_time": "2020-04-23T03:15:41.529354Z"
    }
   },
   "outputs": [
    {
     "data": {
      "text/plain": [
       "array([[0.92      , 0.08      ],\n",
       "       [0.99      , 0.01      ],\n",
       "       [0.88753478, 0.11246522],\n",
       "       ...,\n",
       "       [0.05187301, 0.94812699],\n",
       "       [0.11747606, 0.88252394],\n",
       "       [0.20451938, 0.79548062]])"
      ]
     },
     "execution_count": 79,
     "metadata": {},
     "output_type": "execute_result"
    }
   ],
   "source": [
    "y_train_preds = rf2.predict_proba(X_train_chi)\n",
    "y_train_preds"
   ]
  },
  {
   "cell_type": "code",
   "execution_count": 80,
   "metadata": {
    "ExecuteTime": {
     "end_time": "2020-04-23T03:15:42.313357Z",
     "start_time": "2020-04-23T03:15:42.298353Z"
    }
   },
   "outputs": [
    {
     "data": {
      "text/plain": [
       "0.0"
      ]
     },
     "execution_count": 80,
     "metadata": {},
     "output_type": "execute_result"
    }
   ],
   "source": [
    "y_train_preds[np.where(y_test==1)][:, 1].min()"
   ]
  },
  {
   "cell_type": "code",
   "execution_count": 81,
   "metadata": {
    "ExecuteTime": {
     "end_time": "2020-04-23T03:15:43.061352Z",
     "start_time": "2020-04-23T03:15:42.815352Z"
    }
   },
   "outputs": [],
   "source": [
    "y_train_labels_thresh = get_label(rf2, X_train_chi, .50)"
   ]
  },
  {
   "cell_type": "code",
   "execution_count": 82,
   "metadata": {
    "ExecuteTime": {
     "end_time": "2020-04-23T03:15:43.769353Z",
     "start_time": "2020-04-23T03:15:43.569368Z"
    }
   },
   "outputs": [
    {
     "name": "stdout",
     "output_type": "stream",
     "text": [
      "Confusion Matrix test: \n"
     ]
    },
    {
     "data": {
      "image/png": "[encoded data removed]",
      "text/plain": [
       "<Figure size 432x288 with 2 Axes>"
      ]
     },
     "metadata": {
      "needs_background": "light"
     },
     "output_type": "display_data"
    }
   ],
   "source": [
    "cm(y_train_sm, y_train_labels_thresh)"
   ]
  },
  {
   "cell_type": "code",
   "execution_count": 83,
   "metadata": {
    "ExecuteTime": {
     "end_time": "2020-04-23T03:15:44.330355Z",
     "start_time": "2020-04-23T03:15:44.288352Z"
    }
   },
   "outputs": [
    {
     "name": "stdout",
     "output_type": "stream",
     "text": [
      "              precision    recall  f1-score   support\n",
      "\n",
      "         0.0       0.90      0.97      0.93      7129\n",
      "         1.0       0.97      0.89      0.93      7129\n",
      "\n",
      "    accuracy                           0.93     14258\n",
      "   macro avg       0.93      0.93      0.93     14258\n",
      "weighted avg       0.93      0.93      0.93     14258\n",
      "\n"
     ]
    }
   ],
   "source": [
    "print(classification_report(y_train_sm, train_pred_chi))"
   ]
  },
  {
   "cell_type": "code",
   "execution_count": 84,
   "metadata": {
    "ExecuteTime": {
     "end_time": "2020-04-23T03:15:44.851357Z",
     "start_time": "2020-04-23T03:15:44.836351Z"
    }
   },
   "outputs": [
    {
     "name": "stdout",
     "output_type": "stream",
     "text": [
      "              precision    recall  f1-score   support\n",
      "\n",
      "         0.0       0.94      0.89      0.91      1796\n",
      "         1.0       0.15      0.27      0.19       131\n",
      "\n",
      "    accuracy                           0.84      1927\n",
      "   macro avg       0.55      0.58      0.55      1927\n",
      "weighted avg       0.89      0.84      0.86      1927\n",
      "\n"
     ]
    }
   ],
   "source": [
    "print(classification_report(y_test, test_pred_chi))"
   ]
  },
  {
   "cell_type": "markdown",
   "metadata": {},
   "source": [
    "### This did not give us the performance we are looking for, so we will try a different classifier"
   ]
  },
  {
   "cell_type": "code",
   "execution_count": 85,
   "metadata": {
    "ExecuteTime": {
     "end_time": "2020-04-23T03:35:37.367291Z",
     "start_time": "2020-04-23T03:15:45.316352Z"
    }
   },
   "outputs": [
    {
     "data": {
      "text/html": [
       "<div>\n",
       "<style scoped>\n",
       "    .dataframe tbody tr th:only-of-type {\n",
       "        vertical-align: middle;\n",
       "    }\n",
       "\n",
       "    .dataframe tbody tr th {\n",
       "        vertical-align: top;\n",
       "    }\n",
       "\n",
       "    .dataframe thead th {\n",
       "        text-align: right;\n",
       "    }\n",
       "</style>\n",
       "<table border=\"1\" class=\"dataframe\">\n",
       "  <thead>\n",
       "    <tr style=\"text-align: right;\">\n",
       "      <th></th>\n",
       "      <th>n</th>\n",
       "      <th>p</th>\n",
       "      <th>score</th>\n",
       "      <th>score_ratio</th>\n",
       "    </tr>\n",
       "  </thead>\n",
       "  <tbody>\n",
       "    <tr>\n",
       "      <th>15</th>\n",
       "      <td>2</td>\n",
       "      <td>2.5</td>\n",
       "      <td>0.827711</td>\n",
       "      <td>0.876588</td>\n",
       "    </tr>\n",
       "    <tr>\n",
       "      <th>25</th>\n",
       "      <td>2</td>\n",
       "      <td>3.5</td>\n",
       "      <td>0.826674</td>\n",
       "      <td>0.876401</td>\n",
       "    </tr>\n",
       "    <tr>\n",
       "      <th>10</th>\n",
       "      <td>2</td>\n",
       "      <td>2.0</td>\n",
       "      <td>0.826674</td>\n",
       "      <td>0.875034</td>\n",
       "    </tr>\n",
       "    <tr>\n",
       "      <th>20</th>\n",
       "      <td>2</td>\n",
       "      <td>3.0</td>\n",
       "      <td>0.825636</td>\n",
       "      <td>0.874975</td>\n",
       "    </tr>\n",
       "    <tr>\n",
       "      <th>5</th>\n",
       "      <td>2</td>\n",
       "      <td>1.5</td>\n",
       "      <td>0.826674</td>\n",
       "      <td>0.874320</td>\n",
       "    </tr>\n",
       "    <tr>\n",
       "      <th>30</th>\n",
       "      <td>2</td>\n",
       "      <td>4.0</td>\n",
       "      <td>0.822003</td>\n",
       "      <td>0.871903</td>\n",
       "    </tr>\n",
       "    <tr>\n",
       "      <th>35</th>\n",
       "      <td>2</td>\n",
       "      <td>4.5</td>\n",
       "      <td>0.819927</td>\n",
       "      <td>0.870025</td>\n",
       "    </tr>\n",
       "    <tr>\n",
       "      <th>0</th>\n",
       "      <td>2</td>\n",
       "      <td>1.0</td>\n",
       "      <td>0.822522</td>\n",
       "      <td>0.869220</td>\n",
       "    </tr>\n",
       "    <tr>\n",
       "      <th>40</th>\n",
       "      <td>2</td>\n",
       "      <td>5.0</td>\n",
       "      <td>0.818371</td>\n",
       "      <td>0.868502</td>\n",
       "    </tr>\n",
       "    <tr>\n",
       "      <th>22</th>\n",
       "      <td>4</td>\n",
       "      <td>3.0</td>\n",
       "      <td>0.774779</td>\n",
       "      <td>0.867573</td>\n",
       "    </tr>\n",
       "  </tbody>\n",
       "</table>\n",
       "</div>"
      ],
      "text/plain": [
       "    n    p     score  score_ratio\n",
       "15  2  2.5  0.827711     0.876588\n",
       "25  2  3.5  0.826674     0.876401\n",
       "10  2  2.0  0.826674     0.875034\n",
       "20  2  3.0  0.825636     0.874975\n",
       "5   2  1.5  0.826674     0.874320\n",
       "30  2  4.0  0.822003     0.871903\n",
       "35  2  4.5  0.819927     0.870025\n",
       "0   2  1.0  0.822522     0.869220\n",
       "40  2  5.0  0.818371     0.868502\n",
       "22  4  3.0  0.774779     0.867573"
      ]
     },
     "execution_count": 85,
     "metadata": {},
     "output_type": "execute_result"
    }
   ],
   "source": [
    "dlist = []\n",
    "for p in np.linspace(1, 5, 9):\n",
    "    for n in [2, 3, 4, 5, 6,]:\n",
    "        d = {}\n",
    "        d['p'] = p\n",
    "        d['n'] = n\n",
    "        knn = KNeighborsClassifier(n_neighbors=n, p=p)\n",
    "        knn.fit(X_train_sm, y_train_sm)\n",
    "        score_test = knn.score(X_test, y_test)\n",
    "        score_train = knn.score(X_train_sm, y_train_sm)\n",
    "        score_ratio = min([score_train/score_test, score_test/score_train])\n",
    "        d['score'] = score_test\n",
    "        d['score_ratio'] = score_ratio\n",
    "        dlist.append(d)\n",
    "        \n",
    "score_df = pd.DataFrame(dlist)\n",
    "score_df.sort_values(by=['score_ratio', 'score'], ascending=False, inplace=True)\n",
    "score_df.head(10)"
   ]
  },
  {
   "cell_type": "code",
   "execution_count": 86,
   "metadata": {
    "ExecuteTime": {
     "end_time": "2020-04-23T03:35:37.903288Z",
     "start_time": "2020-04-23T03:35:37.812292Z"
    }
   },
   "outputs": [],
   "source": [
    "scaler = StandardScaler()\n",
    "X_scaled_train = scaler.fit_transform(X_train_sm)\n",
    "X_scaled_test = scaler.transform(X_test)\n"
   ]
  },
  {
   "cell_type": "code",
   "execution_count": 87,
   "metadata": {
    "ExecuteTime": {
     "end_time": "2020-04-23T03:37:16.823292Z",
     "start_time": "2020-04-23T03:35:38.363292Z"
    }
   },
   "outputs": [
    {
     "name": "stdout",
     "output_type": "stream",
     "text": [
      "0.8588479501816295\n"
     ]
    }
   ],
   "source": [
    "knn = KNeighborsClassifier(n_neighbors=2, p=2.5)\n",
    "knn.fit(X_scaled_train, y_train_sm)\n",
    "\n",
    "print(knn.score(X_scaled_test, y_test))"
   ]
  },
  {
   "cell_type": "code",
   "execution_count": 88,
   "metadata": {
    "ExecuteTime": {
     "end_time": "2020-04-23T10:29:22.159255Z",
     "start_time": "2020-04-23T03:37:17.294293Z"
    }
   },
   "outputs": [
    {
     "data": {
      "text/html": [
       "<div>\n",
       "<style scoped>\n",
       "    .dataframe tbody tr th:only-of-type {\n",
       "        vertical-align: middle;\n",
       "    }\n",
       "\n",
       "    .dataframe tbody tr th {\n",
       "        vertical-align: top;\n",
       "    }\n",
       "\n",
       "    .dataframe thead th {\n",
       "        text-align: right;\n",
       "    }\n",
       "</style>\n",
       "<table border=\"1\" class=\"dataframe\">\n",
       "  <thead>\n",
       "    <tr style=\"text-align: right;\">\n",
       "      <th></th>\n",
       "      <th>n</th>\n",
       "      <th>p</th>\n",
       "      <th>score</th>\n",
       "      <th>score_ratio</th>\n",
       "    </tr>\n",
       "  </thead>\n",
       "  <tbody>\n",
       "    <tr>\n",
       "      <th>4</th>\n",
       "      <td>6</td>\n",
       "      <td>1.0</td>\n",
       "      <td>0.887909</td>\n",
       "      <td>0.958640</td>\n",
       "    </tr>\n",
       "    <tr>\n",
       "      <th>2</th>\n",
       "      <td>4</td>\n",
       "      <td>1.0</td>\n",
       "      <td>0.891541</td>\n",
       "      <td>0.954969</td>\n",
       "    </tr>\n",
       "    <tr>\n",
       "      <th>0</th>\n",
       "      <td>2</td>\n",
       "      <td>1.0</td>\n",
       "      <td>0.902958</td>\n",
       "      <td>0.953657</td>\n",
       "    </tr>\n",
       "    <tr>\n",
       "      <th>3</th>\n",
       "      <td>5</td>\n",
       "      <td>1.0</td>\n",
       "      <td>0.870784</td>\n",
       "      <td>0.946386</td>\n",
       "    </tr>\n",
       "    <tr>\n",
       "      <th>1</th>\n",
       "      <td>3</td>\n",
       "      <td>1.0</td>\n",
       "      <td>0.874935</td>\n",
       "      <td>0.941709</td>\n",
       "    </tr>\n",
       "    <tr>\n",
       "      <th>5</th>\n",
       "      <td>2</td>\n",
       "      <td>1.5</td>\n",
       "      <td>0.886871</td>\n",
       "      <td>0.936528</td>\n",
       "    </tr>\n",
       "    <tr>\n",
       "      <th>7</th>\n",
       "      <td>4</td>\n",
       "      <td>1.5</td>\n",
       "      <td>0.863518</td>\n",
       "      <td>0.933367</td>\n",
       "    </tr>\n",
       "    <tr>\n",
       "      <th>9</th>\n",
       "      <td>6</td>\n",
       "      <td>1.5</td>\n",
       "      <td>0.846912</td>\n",
       "      <td>0.930657</td>\n",
       "    </tr>\n",
       "    <tr>\n",
       "      <th>6</th>\n",
       "      <td>3</td>\n",
       "      <td>1.5</td>\n",
       "      <td>0.850545</td>\n",
       "      <td>0.924742</td>\n",
       "    </tr>\n",
       "    <tr>\n",
       "      <th>10</th>\n",
       "      <td>2</td>\n",
       "      <td>2.0</td>\n",
       "      <td>0.873897</td>\n",
       "      <td>0.922760</td>\n",
       "    </tr>\n",
       "  </tbody>\n",
       "</table>\n",
       "</div>"
      ],
      "text/plain": [
       "    n    p     score  score_ratio\n",
       "4   6  1.0  0.887909     0.958640\n",
       "2   4  1.0  0.891541     0.954969\n",
       "0   2  1.0  0.902958     0.953657\n",
       "3   5  1.0  0.870784     0.946386\n",
       "1   3  1.0  0.874935     0.941709\n",
       "5   2  1.5  0.886871     0.936528\n",
       "7   4  1.5  0.863518     0.933367\n",
       "9   6  1.5  0.846912     0.930657\n",
       "6   3  1.5  0.850545     0.924742\n",
       "10  2  2.0  0.873897     0.922760"
      ]
     },
     "execution_count": 88,
     "metadata": {},
     "output_type": "execute_result"
    }
   ],
   "source": [
    "dlist2 = []\n",
    "for p in np.linspace(1, 5, 9):\n",
    "    for n in [2, 3, 4, 5, 6,]:\n",
    "        d = {}\n",
    "        d['p'] = p\n",
    "        d['n'] = n\n",
    "        knn = KNeighborsClassifier(n_neighbors=n, p=p)\n",
    "        knn.fit(X_scaled_train, y_train_sm)\n",
    "        score_test = knn.score(X_scaled_test, y_test)\n",
    "        score_train = knn.score(X_scaled_train, y_train_sm)\n",
    "        score_ratio = min([score_train/score_test, score_test/score_train])\n",
    "        d['score'] = score_test\n",
    "        d['score_ratio'] = score_ratio\n",
    "        dlist2.append(d)\n",
    "        \n",
    "score_df2 = pd.DataFrame(dlist2)\n",
    "score_df2.sort_values(by=['score_ratio', 'score'], ascending=False, inplace=True)\n",
    "score_df2.head(10)"
   ]
  },
  {
   "cell_type": "code",
   "execution_count": 89,
   "metadata": {
    "ExecuteTime": {
     "end_time": "2020-04-23T10:29:31.593256Z",
     "start_time": "2020-04-23T10:29:22.644257Z"
    }
   },
   "outputs": [
    {
     "name": "stdout",
     "output_type": "stream",
     "text": [
      "0.8915412558380903\n"
     ]
    }
   ],
   "source": [
    "knn = KNeighborsClassifier(n_neighbors=4, p=1)\n",
    "knn.fit(X_scaled_train, y_train_sm)\n",
    "\n",
    "print(knn.score(X_scaled_test, y_test))"
   ]
  },
  {
   "cell_type": "code",
   "execution_count": 90,
   "metadata": {
    "ExecuteTime": {
     "end_time": "2020-04-23T10:30:38.621435Z",
     "start_time": "2020-04-23T10:29:32.080254Z"
    }
   },
   "outputs": [],
   "source": [
    "train_pred_scale = knn.predict(X_scaled_train)\n",
    "test_pred_scale = knn.predict(X_scaled_test)"
   ]
  },
  {
   "cell_type": "code",
   "execution_count": 91,
   "metadata": {
    "ExecuteTime": {
     "end_time": "2020-04-23T10:30:39.316407Z",
     "start_time": "2020-04-23T10:30:39.126406Z"
    }
   },
   "outputs": [
    {
     "name": "stdout",
     "output_type": "stream",
     "text": [
      "Confusion Matrix test: \n"
     ]
    },
    {
     "data": {
      "image/png": "[encoded data removed]",
      "text/plain": [
       "<Figure size 432x288 with 2 Axes>"
      ]
     },
     "metadata": {
      "needs_background": "light"
     },
     "output_type": "display_data"
    }
   ],
   "source": [
    "cm( y_train_sm, train_pred_scale)"
   ]
  },
  {
   "cell_type": "code",
   "execution_count": 92,
   "metadata": {
    "ExecuteTime": {
     "end_time": "2020-04-23T10:30:40.294406Z",
     "start_time": "2020-04-23T10:30:39.788405Z"
    }
   },
   "outputs": [
    {
     "name": "stdout",
     "output_type": "stream",
     "text": [
      "Confusion Matrix test: \n"
     ]
    },
    {
     "data": {
      "image/png": "[encoded data removed]",
      "text/plain": [
       "<Figure size 432x288 with 2 Axes>"
      ]
     },
     "metadata": {
      "needs_background": "light"
     },
     "output_type": "display_data"
    }
   ],
   "source": [
    "cm( y_test, test_pred_scale)"
   ]
  },
  {
   "cell_type": "markdown",
   "metadata": {},
   "source": [
    "### This looks good, but we will try one more classifier"
   ]
  },
  {
   "cell_type": "markdown",
   "metadata": {},
   "source": [
    "#### Here we will try a Support Vector Machine"
   ]
  },
  {
   "cell_type": "code",
   "execution_count": 93,
   "metadata": {
    "ExecuteTime": {
     "end_time": "2020-04-23T10:31:06.546441Z",
     "start_time": "2020-04-23T10:30:40.735406Z"
    }
   },
   "outputs": [
    {
     "name": "stdout",
     "output_type": "stream",
     "text": [
      "0.9164504411001557\n"
     ]
    }
   ],
   "source": [
    "clf = svm.SVC()\n",
    "clf.fit(X_scaled_train, y_train_sm)\n",
    "\n",
    "accuracy = clf.score(X_scaled_test, y_test)\n",
    "print(accuracy)"
   ]
  },
  {
   "cell_type": "code",
   "execution_count": 94,
   "metadata": {
    "ExecuteTime": {
     "end_time": "2020-04-23T10:31:09.607856Z",
     "start_time": "2020-04-23T10:31:07.016407Z"
    }
   },
   "outputs": [],
   "source": [
    "X_scaled_pred_svm = clf.predict(X_scaled_test)"
   ]
  },
  {
   "cell_type": "code",
   "execution_count": 95,
   "metadata": {
    "ExecuteTime": {
     "end_time": "2020-04-23T10:31:10.256687Z",
     "start_time": "2020-04-23T10:31:10.089687Z"
    }
   },
   "outputs": [
    {
     "name": "stdout",
     "output_type": "stream",
     "text": [
      "Confusion Matrix test: \n"
     ]
    },
    {
     "data": {
      "image/png": "[encoded data removed]",
      "text/plain": [
       "<Figure size 432x288 with 2 Axes>"
      ]
     },
     "metadata": {
      "needs_background": "light"
     },
     "output_type": "display_data"
    }
   ],
   "source": [
    "cm(y_test, X_scaled_pred_svm)"
   ]
  },
  {
   "cell_type": "code",
   "execution_count": 96,
   "metadata": {
    "ExecuteTime": {
     "end_time": "2020-04-23T10:31:10.727688Z",
     "start_time": "2020-04-23T10:31:10.712686Z"
    }
   },
   "outputs": [
    {
     "name": "stdout",
     "output_type": "stream",
     "text": [
      "              precision    recall  f1-score   support\n",
      "\n",
      "         0.0       0.95      0.97      0.96      1796\n",
      "         1.0       0.34      0.24      0.28       131\n",
      "\n",
      "    accuracy                           0.92      1927\n",
      "   macro avg       0.64      0.60      0.62      1927\n",
      "weighted avg       0.90      0.92      0.91      1927\n",
      "\n"
     ]
    }
   ],
   "source": [
    "print(classification_report(y_test, X_scaled_pred_svm))"
   ]
  },
  {
   "cell_type": "code",
   "execution_count": 97,
   "metadata": {
    "ExecuteTime": {
     "end_time": "2020-04-23T10:31:11.204690Z",
     "start_time": "2020-04-23T10:31:11.200688Z"
    }
   },
   "outputs": [],
   "source": [
    "params = {\"C\":[1, 2, 3],\n",
    "          \"kernel\": ['linear', 'poly', 'rbf', 'sigmoid']}\n",
    "\n",
    "clf_svm = GridSearchCV(clf, params, scoring=make_scorer(recall_score))"
   ]
  },
  {
   "cell_type": "code",
   "execution_count": 98,
   "metadata": {
    "ExecuteTime": {
     "end_time": "2020-04-23T11:11:34.070827Z",
     "start_time": "2020-04-23T10:31:11.663685Z"
    }
   },
   "outputs": [
    {
     "data": {
      "text/plain": [
       "GridSearchCV(cv=None, error_score=nan,\n",
       "             estimator=SVC(C=1.0, break_ties=False, cache_size=200,\n",
       "                           class_weight=None, coef0=0.0,\n",
       "                           decision_function_shape='ovr', degree=3,\n",
       "                           gamma='scale', kernel='rbf', max_iter=-1,\n",
       "                           probability=False, random_state=None, shrinking=True,\n",
       "                           tol=0.001, verbose=False),\n",
       "             iid='deprecated', n_jobs=None,\n",
       "             param_grid={'C': [1, 2, 3],\n",
       "                         'kernel': ['linear', 'poly', 'rbf', 'sigmoid']},\n",
       "             pre_dispatch='2*n_jobs', refit=True, return_train_score=False,\n",
       "             scoring=make_scorer(recall_score), verbose=0)"
      ]
     },
     "execution_count": 98,
     "metadata": {},
     "output_type": "execute_result"
    }
   ],
   "source": [
    "clf_svm.fit(X_scaled_train, y_train_sm)"
   ]
  },
  {
   "cell_type": "code",
   "execution_count": 99,
   "metadata": {
    "ExecuteTime": {
     "end_time": "2020-04-23T11:11:34.551826Z",
     "start_time": "2020-04-23T11:11:34.544827Z"
    }
   },
   "outputs": [
    {
     "data": {
      "text/plain": [
       "{'C': 3, 'kernel': 'rbf'}"
      ]
     },
     "execution_count": 99,
     "metadata": {},
     "output_type": "execute_result"
    }
   ],
   "source": [
    "clf_svm.best_params_"
   ]
  },
  {
   "cell_type": "code",
   "execution_count": 100,
   "metadata": {
    "ExecuteTime": {
     "end_time": "2020-04-23T11:11:45.523344Z",
     "start_time": "2020-04-23T11:11:35.029831Z"
    }
   },
   "outputs": [
    {
     "name": "stdout",
     "output_type": "stream",
     "text": [
      "0.5703165542293721\n"
     ]
    }
   ],
   "source": [
    "clf = svm.SVC(C=3, kernel='rbf')\n",
    "clf.fit(X_train_chi, y_train_sm)\n",
    "\n",
    "accuracy = clf.score(X_test_chi, y_test)\n",
    "print(accuracy)"
   ]
  },
  {
   "cell_type": "code",
   "execution_count": 101,
   "metadata": {
    "ExecuteTime": {
     "end_time": "2020-04-23T11:11:46.992344Z",
     "start_time": "2020-04-23T11:11:46.158344Z"
    }
   },
   "outputs": [],
   "source": [
    "X_scaled_pred_svm = clf.predict(X_test_chi)"
   ]
  },
  {
   "cell_type": "code",
   "execution_count": 102,
   "metadata": {
    "ExecuteTime": {
     "end_time": "2020-04-23T11:11:47.833346Z",
     "start_time": "2020-04-23T11:11:47.625344Z"
    }
   },
   "outputs": [
    {
     "name": "stdout",
     "output_type": "stream",
     "text": [
      "Confusion Matrix test: \n"
     ]
    },
    {
     "data": {
      "image/png": "[encoded data removed]",
      "text/plain": [
       "<Figure size 432x288 with 2 Axes>"
      ]
     },
     "metadata": {
      "needs_background": "light"
     },
     "output_type": "display_data"
    }
   ],
   "source": [
    "cm(y_test, X_scaled_pred_svm)"
   ]
  },
  {
   "cell_type": "code",
   "execution_count": null,
   "metadata": {},
   "outputs": [],
   "source": []
  },
  {
   "cell_type": "code",
   "execution_count": null,
   "metadata": {},
   "outputs": [],
   "source": []
  },
  {
   "cell_type": "code",
   "execution_count": null,
   "metadata": {},
   "outputs": [],
   "source": []
  },
  {
   "cell_type": "code",
   "execution_count": null,
   "metadata": {},
   "outputs": [],
   "source": []
  }
 ],
 "metadata": {
  "kernelspec": {
   "display_name": "Python [conda env:learn-env] *",
   "language": "python",
   "name": "conda-env-learn-env-py"
  },
  "language_info": {
   "codemirror_mode": {
    "name": "ipython",
    "version": 3
   },
   "file_extension": ".py",
   "mimetype": "text/x-python",
   "name": "python",
   "nbconvert_exporter": "python",
   "pygments_lexer": "ipython3",
   "version": "3.6.6"
  },
  "toc": {
   "base_numbering": 1,
   "nav_menu": {},
   "number_sections": false,
   "sideBar": true,
   "skip_h1_title": false,
   "title_cell": "Table of Contents",
   "title_sidebar": "Contents",
   "toc_cell": false,
   "toc_position": {},
   "toc_section_display": true,
   "toc_window_display": false
  },
  "varInspector": {
   "cols": {
    "lenName": 16,
    "lenType": 16,
    "lenVar": 40
   },
   "kernels_config": {
    "python": {
     "delete_cmd_postfix": "",
     "delete_cmd_prefix": "del ",
     "library": "var_list.py",
     "varRefreshCmd": "print(var_dic_list())"
    },
    "r": {
     "delete_cmd_postfix": ") ",
     "delete_cmd_prefix": "rm(",
     "library": "var_list.r",
     "varRefreshCmd": "cat(var_dic_list()) "
    }
   },
   "types_to_exclude": [
    "module",
    "function",
    "builtin_function_or_method",
    "instance",
    "_Feature"
   ],
   "window_display": false
  }
 },
 "nbformat": 4,
 "nbformat_minor": 2
}
