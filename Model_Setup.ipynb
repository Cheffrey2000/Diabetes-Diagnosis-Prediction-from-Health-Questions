{
 "cells": [
  {
   "cell_type": "code",
   "execution_count": 1,
   "metadata": {
    "ExecuteTime": {
     "end_time": "2020-01-22T02:48:26.790969Z",
     "start_time": "2020-01-22T02:48:23.307269Z"
    }
   },
   "outputs": [
    {
     "name": "stderr",
     "output_type": "stream",
     "text": [
      "Using TensorFlow backend.\n"
     ]
    }
   ],
   "source": [
    "# Setting up the workspace by importing all of the necessary libraries.\n",
    "\n",
    "import pandas as pd\n",
    "import numpy as np\n",
    "import seaborn as sns\n",
    "\n",
    "import matplotlib.pyplot as plt\n",
    "%matplotlib inline\n",
    "\n",
    "import warnings\n",
    "warnings.filterwarnings('ignore')\n",
    "\n",
    "from sklearn.model_selection import GridSearchCV\n",
    "\n",
    "from sklearn.model_selection import train_test_split, GridSearchCV, cross_val_score, StratifiedKFold, KFold\n",
    "from sklearn.linear_model import LogisticRegression\n",
    "from sklearn.feature_selection import SelectKBest, chi2\n",
    "\n",
    "\n",
    "from sklearn.neighbors import KNeighborsClassifier, NearestNeighbors\n",
    "from sklearn.ensemble import RandomForestClassifier\n",
    "from sklearn.metrics import classification_report, r2_score, confusion_matrix,f1_score, recall_score, precision_score, make_scorer\n",
    "from sklearn.preprocessing import StandardScaler\n",
    "import xgboost as xgb\n",
    "from sklearn.decomposition import PCA\n",
    "from sklearn.discriminant_analysis import LinearDiscriminantAnalysis\n",
    "from sklearn.ensemble import BaggingClassifier\n",
    "from imblearn.over_sampling import SMOTE, ADASYN\n",
    "from sklearn import svm\n"
   ]
  },
  {
   "cell_type": "code",
   "execution_count": 2,
   "metadata": {
    "ExecuteTime": {
     "end_time": "2020-01-22T02:48:26.875798Z",
     "start_time": "2020-01-22T02:48:26.868797Z"
    }
   },
   "outputs": [],
   "source": [
    "def cm(y_real, y_pred, t='test'):\n",
    "    \"\"\"\n",
    "    This function creates a confusion matrix with the given paramaters.\n",
    "    y_real: known data from test or train.\n",
    "    y_pred: predicted data\n",
    "    t: Title of the matrix\n",
    "    \"\"\"\n",
    "    cf = confusion_matrix(y_real, y_pred)\n",
    "    print(f\"Confusion Matrix {t}: \")\n",
    "    akws = {\"ha\": 'center',\"va\": 'top'}\n",
    "    sns.heatmap(cf/(np.sum(cf)),annot=True, fmt='0.2%',cmap='Blues', annot_kws=akws, cbar=False)\n",
    "\n",
    "    akws = {\"ha\": 'center',\"va\": 'bottom'}\n",
    "    sns.heatmap(cf,annot=True, fmt='0',cmap='Blues', annot_kws=akws)\n",
    "    plt.xlabel('Predicted')\n",
    "    plt.ylabel('Actual')\n",
    "    plt.show()"
   ]
  },
  {
   "cell_type": "code",
   "execution_count": 3,
   "metadata": {
    "ExecuteTime": {
     "end_time": "2020-01-22T02:48:27.462809Z",
     "start_time": "2020-01-22T02:48:26.941803Z"
    }
   },
   "outputs": [
    {
     "data": {
      "text/html": [
       "<div>\n",
       "<style scoped>\n",
       "    .dataframe tbody tr th:only-of-type {\n",
       "        vertical-align: middle;\n",
       "    }\n",
       "\n",
       "    .dataframe tbody tr th {\n",
       "        vertical-align: top;\n",
       "    }\n",
       "\n",
       "    .dataframe thead th {\n",
       "        text-align: right;\n",
       "    }\n",
       "</style>\n",
       "<table border=\"1\" class=\"dataframe\">\n",
       "  <thead>\n",
       "    <tr style=\"text-align: right;\">\n",
       "      <th></th>\n",
       "      <th>id</th>\n",
       "      <th>WTDRD1</th>\n",
       "      <th>WTDR2D</th>\n",
       "      <th>DR1DRSTZ</th>\n",
       "      <th>DRABF</th>\n",
       "      <th>DRDINT</th>\n",
       "      <th>DR1DAY</th>\n",
       "      <th>DBQ095Z</th>\n",
       "      <th>DBD100</th>\n",
       "      <th>DRQSPREP</th>\n",
       "      <th>...</th>\n",
       "      <th>DRD370R</th>\n",
       "      <th>DRD370RQ</th>\n",
       "      <th>DRD370S</th>\n",
       "      <th>DRD370SQ</th>\n",
       "      <th>DRD370T</th>\n",
       "      <th>DRD370TQ</th>\n",
       "      <th>DRD370U</th>\n",
       "      <th>DRD370UQ</th>\n",
       "      <th>DRD370V</th>\n",
       "      <th>DIQ010</th>\n",
       "    </tr>\n",
       "  </thead>\n",
       "  <tbody>\n",
       "    <tr>\n",
       "      <th>0</th>\n",
       "      <td>73557</td>\n",
       "      <td>16888.327864</td>\n",
       "      <td>12930.890649</td>\n",
       "      <td>1</td>\n",
       "      <td>2.0</td>\n",
       "      <td>2.0</td>\n",
       "      <td>2.0</td>\n",
       "      <td>3.0</td>\n",
       "      <td>2.0</td>\n",
       "      <td>4.0</td>\n",
       "      <td>...</td>\n",
       "      <td>0.0</td>\n",
       "      <td>0.0</td>\n",
       "      <td>0.0</td>\n",
       "      <td>0.0</td>\n",
       "      <td>0.0</td>\n",
       "      <td>0.0</td>\n",
       "      <td>0.0</td>\n",
       "      <td>0.0</td>\n",
       "      <td>0.0</td>\n",
       "      <td>1.0</td>\n",
       "    </tr>\n",
       "    <tr>\n",
       "      <th>1</th>\n",
       "      <td>73558</td>\n",
       "      <td>17932.143865</td>\n",
       "      <td>12684.148869</td>\n",
       "      <td>1</td>\n",
       "      <td>2.0</td>\n",
       "      <td>2.0</td>\n",
       "      <td>1.0</td>\n",
       "      <td>1.0</td>\n",
       "      <td>2.0</td>\n",
       "      <td>3.0</td>\n",
       "      <td>...</td>\n",
       "      <td>2.0</td>\n",
       "      <td>0.0</td>\n",
       "      <td>2.0</td>\n",
       "      <td>0.0</td>\n",
       "      <td>2.0</td>\n",
       "      <td>0.0</td>\n",
       "      <td>2.0</td>\n",
       "      <td>0.0</td>\n",
       "      <td>2.0</td>\n",
       "      <td>1.0</td>\n",
       "    </tr>\n",
       "    <tr>\n",
       "      <th>2</th>\n",
       "      <td>73559</td>\n",
       "      <td>59641.812930</td>\n",
       "      <td>39394.236709</td>\n",
       "      <td>1</td>\n",
       "      <td>2.0</td>\n",
       "      <td>2.0</td>\n",
       "      <td>6.0</td>\n",
       "      <td>1.0</td>\n",
       "      <td>1.0</td>\n",
       "      <td>2.0</td>\n",
       "      <td>...</td>\n",
       "      <td>0.0</td>\n",
       "      <td>0.0</td>\n",
       "      <td>0.0</td>\n",
       "      <td>0.0</td>\n",
       "      <td>0.0</td>\n",
       "      <td>0.0</td>\n",
       "      <td>0.0</td>\n",
       "      <td>0.0</td>\n",
       "      <td>0.0</td>\n",
       "      <td>1.0</td>\n",
       "    </tr>\n",
       "    <tr>\n",
       "      <th>3</th>\n",
       "      <td>73560</td>\n",
       "      <td>142203.069917</td>\n",
       "      <td>125966.366442</td>\n",
       "      <td>1</td>\n",
       "      <td>2.0</td>\n",
       "      <td>2.0</td>\n",
       "      <td>3.0</td>\n",
       "      <td>1.0</td>\n",
       "      <td>1.0</td>\n",
       "      <td>3.0</td>\n",
       "      <td>...</td>\n",
       "      <td>0.0</td>\n",
       "      <td>0.0</td>\n",
       "      <td>0.0</td>\n",
       "      <td>0.0</td>\n",
       "      <td>0.0</td>\n",
       "      <td>0.0</td>\n",
       "      <td>0.0</td>\n",
       "      <td>0.0</td>\n",
       "      <td>0.0</td>\n",
       "      <td>0.0</td>\n",
       "    </tr>\n",
       "    <tr>\n",
       "      <th>4</th>\n",
       "      <td>73561</td>\n",
       "      <td>59052.357033</td>\n",
       "      <td>39004.892993</td>\n",
       "      <td>1</td>\n",
       "      <td>2.0</td>\n",
       "      <td>2.0</td>\n",
       "      <td>1.0</td>\n",
       "      <td>4.0</td>\n",
       "      <td>0.0</td>\n",
       "      <td>4.0</td>\n",
       "      <td>...</td>\n",
       "      <td>2.0</td>\n",
       "      <td>0.0</td>\n",
       "      <td>2.0</td>\n",
       "      <td>0.0</td>\n",
       "      <td>2.0</td>\n",
       "      <td>0.0</td>\n",
       "      <td>2.0</td>\n",
       "      <td>0.0</td>\n",
       "      <td>2.0</td>\n",
       "      <td>0.0</td>\n",
       "    </tr>\n",
       "  </tbody>\n",
       "</table>\n",
       "<p>5 rows × 164 columns</p>\n",
       "</div>"
      ],
      "text/plain": [
       "      id         WTDRD1         WTDR2D  DR1DRSTZ  DRABF  DRDINT  DR1DAY  \\\n",
       "0  73557   16888.327864   12930.890649         1    2.0     2.0     2.0   \n",
       "1  73558   17932.143865   12684.148869         1    2.0     2.0     1.0   \n",
       "2  73559   59641.812930   39394.236709         1    2.0     2.0     6.0   \n",
       "3  73560  142203.069917  125966.366442         1    2.0     2.0     3.0   \n",
       "4  73561   59052.357033   39004.892993         1    2.0     2.0     1.0   \n",
       "\n",
       "   DBQ095Z  DBD100  DRQSPREP   ...    DRD370R  DRD370RQ  DRD370S  DRD370SQ  \\\n",
       "0      3.0     2.0       4.0   ...        0.0       0.0      0.0       0.0   \n",
       "1      1.0     2.0       3.0   ...        2.0       0.0      2.0       0.0   \n",
       "2      1.0     1.0       2.0   ...        0.0       0.0      0.0       0.0   \n",
       "3      1.0     1.0       3.0   ...        0.0       0.0      0.0       0.0   \n",
       "4      4.0     0.0       4.0   ...        2.0       0.0      2.0       0.0   \n",
       "\n",
       "   DRD370T  DRD370TQ  DRD370U  DRD370UQ  DRD370V  DIQ010  \n",
       "0      0.0       0.0      0.0       0.0      0.0     1.0  \n",
       "1      2.0       0.0      2.0       0.0      2.0     1.0  \n",
       "2      0.0       0.0      0.0       0.0      0.0     1.0  \n",
       "3      0.0       0.0      0.0       0.0      0.0     0.0  \n",
       "4      2.0       0.0      2.0       0.0      2.0     0.0  \n",
       "\n",
       "[5 rows x 164 columns]"
      ]
     },
     "execution_count": 3,
     "metadata": {},
     "output_type": "execute_result"
    }
   ],
   "source": [
    "df = pd.read_csv('DIQ010_Target.csv')\n",
    "df.head()"
   ]
  },
  {
   "cell_type": "code",
   "execution_count": 4,
   "metadata": {
    "ExecuteTime": {
     "end_time": "2020-01-22T02:48:27.827796Z",
     "start_time": "2020-01-22T02:48:27.809798Z"
    }
   },
   "outputs": [],
   "source": [
    "df.drop(['id'], axis=1, inplace=True)"
   ]
  },
  {
   "cell_type": "code",
   "execution_count": 5,
   "metadata": {
    "ExecuteTime": {
     "end_time": "2020-01-22T02:48:29.714840Z",
     "start_time": "2020-01-22T02:48:29.705839Z"
    }
   },
   "outputs": [
    {
     "data": {
      "text/plain": [
       "0.0    8392\n",
       "1.0     888\n",
       "Name: DIQ010, dtype: int64"
      ]
     },
     "execution_count": 5,
     "metadata": {},
     "output_type": "execute_result"
    }
   ],
   "source": [
    "df.DIQ010.value_counts()"
   ]
  },
  {
   "cell_type": "code",
   "execution_count": 6,
   "metadata": {
    "ExecuteTime": {
     "end_time": "2020-01-22T02:49:03.279385Z",
     "start_time": "2020-01-22T02:49:03.266384Z"
    }
   },
   "outputs": [],
   "source": [
    "X = df.drop(['DIQ010'], axis=1)\n",
    "y = df['DIQ010']"
   ]
  },
  {
   "cell_type": "code",
   "execution_count": 7,
   "metadata": {
    "ExecuteTime": {
     "end_time": "2020-01-22T02:49:04.034385Z",
     "start_time": "2020-01-22T02:49:04.007383Z"
    }
   },
   "outputs": [],
   "source": [
    "X_train, X_test, y_train, y_test = train_test_split(X,y,test_size=.2, random_state=81)"
   ]
  },
  {
   "cell_type": "code",
   "execution_count": 8,
   "metadata": {
    "ExecuteTime": {
     "end_time": "2020-01-22T02:49:06.252401Z",
     "start_time": "2020-01-22T02:49:06.243390Z"
    }
   },
   "outputs": [
    {
     "data": {
      "text/plain": [
       "0.0    6729\n",
       "1.0     695\n",
       "Name: DIQ010, dtype: int64"
      ]
     },
     "execution_count": 8,
     "metadata": {},
     "output_type": "execute_result"
    }
   ],
   "source": [
    "y_train.value_counts()\n"
   ]
  },
  {
   "cell_type": "code",
   "execution_count": 9,
   "metadata": {
    "ExecuteTime": {
     "end_time": "2020-01-22T02:50:38.896556Z",
     "start_time": "2020-01-22T02:50:38.892558Z"
    }
   },
   "outputs": [],
   "source": [
    "sm = SMOTE(n_jobs=-1)"
   ]
  },
  {
   "cell_type": "code",
   "execution_count": 10,
   "metadata": {
    "ExecuteTime": {
     "end_time": "2020-01-22T02:50:42.648182Z",
     "start_time": "2020-01-22T02:50:42.443180Z"
    }
   },
   "outputs": [],
   "source": [
    "X_train_sm, y_train_sm = sm.fit_sample(X_train, y_train)"
   ]
  },
  {
   "cell_type": "code",
   "execution_count": 11,
   "metadata": {
    "ExecuteTime": {
     "end_time": "2020-01-22T02:50:47.791257Z",
     "start_time": "2020-01-22T02:50:47.788258Z"
    }
   },
   "outputs": [],
   "source": [
    "rf = RandomForestClassifier()"
   ]
  },
  {
   "cell_type": "code",
   "execution_count": 12,
   "metadata": {
    "ExecuteTime": {
     "end_time": "2020-01-22T02:51:09.785883Z",
     "start_time": "2020-01-22T02:51:04.277885Z"
    }
   },
   "outputs": [
    {
     "data": {
      "text/plain": [
       "RandomForestClassifier(bootstrap=True, ccp_alpha=0.0, class_weight=None,\n",
       "                       criterion='gini', max_depth=None, max_features='auto',\n",
       "                       max_leaf_nodes=None, max_samples=None,\n",
       "                       min_impurity_decrease=0.0, min_impurity_split=None,\n",
       "                       min_samples_leaf=1, min_samples_split=2,\n",
       "                       min_weight_fraction_leaf=0.0, n_estimators=100,\n",
       "                       n_jobs=None, oob_score=False, random_state=None,\n",
       "                       verbose=0, warm_start=False)"
      ]
     },
     "execution_count": 12,
     "metadata": {},
     "output_type": "execute_result"
    }
   ],
   "source": [
    "rf.fit(X_train_sm, y_train_sm)"
   ]
  },
  {
   "cell_type": "code",
   "execution_count": 13,
   "metadata": {
    "ExecuteTime": {
     "end_time": "2020-01-22T02:51:22.801602Z",
     "start_time": "2020-01-22T02:51:22.480434Z"
    }
   },
   "outputs": [],
   "source": [
    "train_pred = rf.predict(X_train_sm)\n",
    "test_pred = rf.predict(X_test)"
   ]
  },
  {
   "cell_type": "code",
   "execution_count": 14,
   "metadata": {
    "ExecuteTime": {
     "end_time": "2020-01-22T02:51:34.133175Z",
     "start_time": "2020-01-22T02:51:33.914177Z"
    }
   },
   "outputs": [
    {
     "name": "stdout",
     "output_type": "stream",
     "text": [
      "Confusion Matrix test: \n"
     ]
    },
    {
     "data": {
      "image/png": "[encoded data removed]",
      "text/plain": [
       "<Figure size 432x288 with 2 Axes>"
      ]
     },
     "metadata": {
      "needs_background": "light"
     },
     "output_type": "display_data"
    }
   ],
   "source": [
    "cm(y_train_sm, train_pred)"
   ]
  },
  {
   "cell_type": "code",
   "execution_count": 16,
   "metadata": {
    "ExecuteTime": {
     "end_time": "2020-01-22T03:03:04.889362Z",
     "start_time": "2020-01-22T03:03:04.874363Z"
    }
   },
   "outputs": [
    {
     "name": "stdout",
     "output_type": "stream",
     "text": [
      "Accuracy:  1.0\n"
     ]
    }
   ],
   "source": [
    "print('Accuracy: ', precision_score(y_train_sm, train_pred))"
   ]
  },
  {
   "cell_type": "code",
   "execution_count": 17,
   "metadata": {
    "ExecuteTime": {
     "end_time": "2020-01-22T03:03:13.823308Z",
     "start_time": "2020-01-22T03:03:13.524312Z"
    }
   },
   "outputs": [
    {
     "name": "stdout",
     "output_type": "stream",
     "text": [
      "Confusion Matrix test: \n"
     ]
    },
    {
     "data": {
      "image/png": "[encoded data removed]",
      "text/plain": [
       "<Figure size 432x288 with 2 Axes>"
      ]
     },
     "metadata": {
      "needs_background": "light"
     },
     "output_type": "display_data"
    }
   ],
   "source": [
    "cm(y_test, test_pred)"
   ]
  },
  {
   "cell_type": "code",
   "execution_count": 18,
   "metadata": {
    "ExecuteTime": {
     "end_time": "2020-01-22T03:03:20.429534Z",
     "start_time": "2020-01-22T03:03:20.421535Z"
    }
   },
   "outputs": [
    {
     "name": "stdout",
     "output_type": "stream",
     "text": [
      "Accuracy:  1.0\n"
     ]
    }
   ],
   "source": [
    "print('Accuracy: ', precision_score(y_test, test_pred))"
   ]
  },
  {
   "cell_type": "code",
   "execution_count": 19,
   "metadata": {
    "ExecuteTime": {
     "end_time": "2020-01-22T03:03:41.565190Z",
     "start_time": "2020-01-22T03:03:36.154196Z"
    }
   },
   "outputs": [
    {
     "data": {
      "text/plain": [
       "RandomForestClassifier(bootstrap=True, ccp_alpha=0.0, class_weight=None,\n",
       "                       criterion='gini', max_depth=None, max_features='auto',\n",
       "                       max_leaf_nodes=None, max_samples=None,\n",
       "                       min_impurity_decrease=0.0, min_impurity_split=None,\n",
       "                       min_samples_leaf=1, min_samples_split=2,\n",
       "                       min_weight_fraction_leaf=0.0, n_estimators=100,\n",
       "                       n_jobs=None, oob_score=False, random_state=None,\n",
       "                       verbose=0, warm_start=False)"
      ]
     },
     "execution_count": 19,
     "metadata": {},
     "output_type": "execute_result"
    }
   ],
   "source": [
    "rf.fit(X_train_sm, y_train_sm)"
   ]
  },
  {
   "cell_type": "code",
   "execution_count": 20,
   "metadata": {
    "ExecuteTime": {
     "end_time": "2020-01-22T03:03:43.396218Z",
     "start_time": "2020-01-22T03:03:42.886195Z"
    }
   },
   "outputs": [],
   "source": [
    "train_pred = rf.predict(X_train)\n",
    "train_pred_sm = rf.predict(X_train_sm)\n",
    "test_pred = rf.predict(X_test)"
   ]
  },
  {
   "cell_type": "code",
   "execution_count": 21,
   "metadata": {
    "ExecuteTime": {
     "end_time": "2020-01-22T03:03:45.843616Z",
     "start_time": "2020-01-22T03:03:45.567617Z"
    }
   },
   "outputs": [
    {
     "name": "stdout",
     "output_type": "stream",
     "text": [
      "Confusion Matrix test: \n"
     ]
    },
    {
     "data": {
      "image/png": "[encoded data removed]",
      "text/plain": [
       "<Figure size 432x288 with 2 Axes>"
      ]
     },
     "metadata": {
      "needs_background": "light"
     },
     "output_type": "display_data"
    }
   ],
   "source": [
    "cm(y_test, test_pred)"
   ]
  },
  {
   "cell_type": "code",
   "execution_count": 22,
   "metadata": {
    "ExecuteTime": {
     "end_time": "2020-01-22T03:04:09.341512Z",
     "start_time": "2020-01-22T03:04:09.331477Z"
    }
   },
   "outputs": [
    {
     "name": "stdout",
     "output_type": "stream",
     "text": [
      "Accuracy:  0.9629629629629629\n"
     ]
    }
   ],
   "source": [
    "print('Accuracy: ', precision_score(y_test, test_pred))"
   ]
  },
  {
   "cell_type": "code",
   "execution_count": 23,
   "metadata": {
    "ExecuteTime": {
     "end_time": "2020-01-22T03:04:22.175925Z",
     "start_time": "2020-01-22T03:04:21.962922Z"
    }
   },
   "outputs": [
    {
     "name": "stdout",
     "output_type": "stream",
     "text": [
      "Confusion Matrix test: \n"
     ]
    },
    {
     "data": {
      "image/png": "[encoded data removed]",
      "text/plain": [
       "<Figure size 432x288 with 2 Axes>"
      ]
     },
     "metadata": {
      "needs_background": "light"
     },
     "output_type": "display_data"
    }
   ],
   "source": [
    "cm(y_train, train_pred)"
   ]
  },
  {
   "cell_type": "code",
   "execution_count": 24,
   "metadata": {
    "ExecuteTime": {
     "end_time": "2020-01-22T03:04:27.320182Z",
     "start_time": "2020-01-22T03:04:27.308146Z"
    }
   },
   "outputs": [
    {
     "name": "stdout",
     "output_type": "stream",
     "text": [
      "Accuracy:  1.0\n"
     ]
    }
   ],
   "source": [
    "print('Accuracy: ', precision_score(y_train, train_pred))"
   ]
  },
  {
   "cell_type": "code",
   "execution_count": 25,
   "metadata": {
    "ExecuteTime": {
     "end_time": "2020-01-22T03:04:28.679143Z",
     "start_time": "2020-01-22T03:04:28.464144Z"
    }
   },
   "outputs": [
    {
     "name": "stdout",
     "output_type": "stream",
     "text": [
      "Confusion Matrix test: \n"
     ]
    },
    {
     "data": {
      "image/png": "[encoded data removed]",
      "text/plain": [
       "<Figure size 432x288 with 2 Axes>"
      ]
     },
     "metadata": {
      "needs_background": "light"
     },
     "output_type": "display_data"
    }
   ],
   "source": [
    "cm(y_train_sm, train_pred_sm)"
   ]
  },
  {
   "cell_type": "code",
   "execution_count": 26,
   "metadata": {
    "ExecuteTime": {
     "end_time": "2020-01-22T03:04:46.910083Z",
     "start_time": "2020-01-22T03:04:46.896084Z"
    }
   },
   "outputs": [
    {
     "name": "stdout",
     "output_type": "stream",
     "text": [
      "Accuracy:  1.0\n"
     ]
    }
   ],
   "source": [
    "print('Accuracy: ', precision_score(y_train_sm, train_pred_sm))"
   ]
  },
  {
   "cell_type": "markdown",
   "metadata": {},
   "source": [
    "# Finding the best model using recall as a metric"
   ]
  },
  {
   "cell_type": "code",
   "execution_count": 27,
   "metadata": {
    "ExecuteTime": {
     "end_time": "2020-01-22T03:05:06.456065Z",
     "start_time": "2020-01-22T03:05:06.452104Z"
    }
   },
   "outputs": [],
   "source": [
    "rf = RandomForestClassifier()\n",
    "\n",
    "params = {\"n_estimators\":[10, 20, 50, 100],\n",
    "          \"criterion\": [\"entropy\", \"gini\"],\n",
    "          \"max_depth\": [1, 2, 5, 10]}\n",
    "\n",
    "clf = GridSearchCV(rf, params, scoring=make_scorer(recall_score))"
   ]
  },
  {
   "cell_type": "code",
   "execution_count": 28,
   "metadata": {
    "ExecuteTime": {
     "end_time": "2020-01-22T03:08:03.560060Z",
     "start_time": "2020-01-22T03:05:07.471061Z"
    }
   },
   "outputs": [
    {
     "data": {
      "text/plain": [
       "GridSearchCV(cv=None, error_score=nan,\n",
       "             estimator=RandomForestClassifier(bootstrap=True, ccp_alpha=0.0,\n",
       "                                              class_weight=None,\n",
       "                                              criterion='gini', max_depth=None,\n",
       "                                              max_features='auto',\n",
       "                                              max_leaf_nodes=None,\n",
       "                                              max_samples=None,\n",
       "                                              min_impurity_decrease=0.0,\n",
       "                                              min_impurity_split=None,\n",
       "                                              min_samples_leaf=1,\n",
       "                                              min_samples_split=2,\n",
       "                                              min_weight_fraction_leaf=0.0,\n",
       "                                              n_estimators=100, n_jobs=None,\n",
       "                                              oob_score=False,\n",
       "                                              random_state=None, verbose=0,\n",
       "                                              warm_start=False),\n",
       "             iid='deprecated', n_jobs=None,\n",
       "             param_grid={'criterion': ['entropy', 'gini'],\n",
       "                         'max_depth': [1, 2, 5, 10],\n",
       "                         'n_estimators': [10, 20, 50, 100]},\n",
       "             pre_dispatch='2*n_jobs', refit=True, return_train_score=False,\n",
       "             scoring=make_scorer(recall_score), verbose=0)"
      ]
     },
     "execution_count": 28,
     "metadata": {},
     "output_type": "execute_result"
    }
   ],
   "source": [
    "clf.fit(X_train_sm, y_train_sm)"
   ]
  },
  {
   "cell_type": "code",
   "execution_count": 29,
   "metadata": {
    "ExecuteTime": {
     "end_time": "2020-01-22T03:30:20.434572Z",
     "start_time": "2020-01-22T03:30:20.428570Z"
    }
   },
   "outputs": [
    {
     "data": {
      "text/plain": [
       "{'criterion': 'entropy', 'max_depth': 1, 'n_estimators': 50}"
      ]
     },
     "execution_count": 29,
     "metadata": {},
     "output_type": "execute_result"
    }
   ],
   "source": [
    "clf.best_params_"
   ]
  },
  {
   "cell_type": "code",
   "execution_count": 30,
   "metadata": {
    "ExecuteTime": {
     "end_time": "2020-01-22T03:30:40.237855Z",
     "start_time": "2020-01-22T03:30:40.233853Z"
    }
   },
   "outputs": [],
   "source": [
    "rf2 = RandomForestClassifier(n_estimators=50, max_depth=1, criterion='entropy')"
   ]
  },
  {
   "cell_type": "code",
   "execution_count": 31,
   "metadata": {
    "ExecuteTime": {
     "end_time": "2020-01-22T03:30:53.455340Z",
     "start_time": "2020-01-22T03:30:52.878339Z"
    }
   },
   "outputs": [
    {
     "data": {
      "text/plain": [
       "RandomForestClassifier(bootstrap=True, ccp_alpha=0.0, class_weight=None,\n",
       "                       criterion='entropy', max_depth=1, max_features='auto',\n",
       "                       max_leaf_nodes=None, max_samples=None,\n",
       "                       min_impurity_decrease=0.0, min_impurity_split=None,\n",
       "                       min_samples_leaf=1, min_samples_split=2,\n",
       "                       min_weight_fraction_leaf=0.0, n_estimators=50,\n",
       "                       n_jobs=None, oob_score=False, random_state=None,\n",
       "                       verbose=0, warm_start=False)"
      ]
     },
     "execution_count": 31,
     "metadata": {},
     "output_type": "execute_result"
    }
   ],
   "source": [
    "rf2.fit(X_train_sm, y_train_sm)"
   ]
  },
  {
   "cell_type": "code",
   "execution_count": 32,
   "metadata": {
    "ExecuteTime": {
     "end_time": "2020-01-22T03:31:03.464587Z",
     "start_time": "2020-01-22T03:31:03.326597Z"
    }
   },
   "outputs": [],
   "source": [
    "train_pred2 = rf2.predict(X_train)\n",
    "train_pred_sm = rf2.predict(X_train_sm)\n",
    "test_pred2 = rf2.predict(X_test)"
   ]
  },
  {
   "cell_type": "code",
   "execution_count": 33,
   "metadata": {
    "ExecuteTime": {
     "end_time": "2020-01-22T03:31:06.776638Z",
     "start_time": "2020-01-22T03:31:06.561635Z"
    }
   },
   "outputs": [
    {
     "name": "stdout",
     "output_type": "stream",
     "text": [
      "Confusion Matrix test: \n"
     ]
    },
    {
     "data": {
      "image/png": "[encoded data removed]",
      "text/plain": [
       "<Figure size 432x288 with 2 Axes>"
      ]
     },
     "metadata": {
      "needs_background": "light"
     },
     "output_type": "display_data"
    }
   ],
   "source": [
    "cm(y_train_sm, train_pred_sm)"
   ]
  },
  {
   "cell_type": "code",
   "execution_count": 34,
   "metadata": {
    "ExecuteTime": {
     "end_time": "2020-01-22T03:31:13.485678Z",
     "start_time": "2020-01-22T03:31:13.442672Z"
    }
   },
   "outputs": [
    {
     "name": "stdout",
     "output_type": "stream",
     "text": [
      "              precision    recall  f1-score   support\n",
      "\n",
      "         0.0       0.70      0.47      0.56      6729\n",
      "         1.0       0.60      0.80      0.69      6729\n",
      "\n",
      "    accuracy                           0.63     13458\n",
      "   macro avg       0.65      0.63      0.62     13458\n",
      "weighted avg       0.65      0.63      0.62     13458\n",
      "\n"
     ]
    }
   ],
   "source": [
    "print(classification_report(y_train_sm, train_pred_sm))"
   ]
  },
  {
   "cell_type": "code",
   "execution_count": 35,
   "metadata": {
    "ExecuteTime": {
     "end_time": "2020-01-22T03:31:31.164159Z",
     "start_time": "2020-01-22T03:31:30.954158Z"
    }
   },
   "outputs": [
    {
     "name": "stdout",
     "output_type": "stream",
     "text": [
      "Confusion Matrix test: \n"
     ]
    },
    {
     "data": {
      "image/png": "[encoded data removed]",
      "text/plain": [
       "<Figure size 432x288 with 2 Axes>"
      ]
     },
     "metadata": {
      "needs_background": "light"
     },
     "output_type": "display_data"
    }
   ],
   "source": [
    "cm(y_test, test_pred2)"
   ]
  },
  {
   "cell_type": "code",
   "execution_count": 36,
   "metadata": {
    "ExecuteTime": {
     "end_time": "2020-01-22T03:31:43.078274Z",
     "start_time": "2020-01-22T03:31:43.064276Z"
    }
   },
   "outputs": [
    {
     "name": "stdout",
     "output_type": "stream",
     "text": [
      "              precision    recall  f1-score   support\n",
      "\n",
      "         0.0       0.91      1.00      0.95      1663\n",
      "         1.0       0.96      0.13      0.24       193\n",
      "\n",
      "    accuracy                           0.91      1856\n",
      "   macro avg       0.94      0.57      0.59      1856\n",
      "weighted avg       0.91      0.91      0.88      1856\n",
      "\n"
     ]
    }
   ],
   "source": [
    "print(classification_report(y_test, test_pred))"
   ]
  },
  {
   "cell_type": "markdown",
   "metadata": {},
   "source": [
    "### Feature selection"
   ]
  },
  {
   "cell_type": "code",
   "execution_count": 37,
   "metadata": {
    "ExecuteTime": {
     "end_time": "2020-01-22T03:31:53.510355Z",
     "start_time": "2020-01-22T03:31:53.486351Z"
    }
   },
   "outputs": [],
   "source": [
    "select_feature = SelectKBest(chi2, k=5).fit(X_train_sm, y_train_sm)"
   ]
  },
  {
   "cell_type": "code",
   "execution_count": 38,
   "metadata": {
    "ExecuteTime": {
     "end_time": "2020-01-22T03:32:00.272388Z",
     "start_time": "2020-01-22T03:32:00.243389Z"
    }
   },
   "outputs": [
    {
     "data": {
      "text/html": [
       "<div>\n",
       "<style scoped>\n",
       "    .dataframe tbody tr th:only-of-type {\n",
       "        vertical-align: middle;\n",
       "    }\n",
       "\n",
       "    .dataframe tbody tr th {\n",
       "        vertical-align: top;\n",
       "    }\n",
       "\n",
       "    .dataframe thead th {\n",
       "        text-align: right;\n",
       "    }\n",
       "</style>\n",
       "<table border=\"1\" class=\"dataframe\">\n",
       "  <thead>\n",
       "    <tr style=\"text-align: right;\">\n",
       "      <th></th>\n",
       "      <th>Feature</th>\n",
       "      <th>Scores</th>\n",
       "    </tr>\n",
       "  </thead>\n",
       "  <tbody>\n",
       "    <tr>\n",
       "      <th>71</th>\n",
       "      <td>DR1TMOIS</td>\n",
       "      <td>145222.231512</td>\n",
       "    </tr>\n",
       "    <tr>\n",
       "      <th>94</th>\n",
       "      <td>DR1BWATZ</td>\n",
       "      <td>113532.480244</td>\n",
       "    </tr>\n",
       "    <tr>\n",
       "      <th>44</th>\n",
       "      <td>DR1TLZ</td>\n",
       "      <td>110123.208694</td>\n",
       "    </tr>\n",
       "    <tr>\n",
       "      <th>0</th>\n",
       "      <td>WTDRD1</td>\n",
       "      <td>105215.342461</td>\n",
       "    </tr>\n",
       "    <tr>\n",
       "      <th>68</th>\n",
       "      <td>DR1TCAFF</td>\n",
       "      <td>75362.080163</td>\n",
       "    </tr>\n",
       "    <tr>\n",
       "      <th>1</th>\n",
       "      <td>WTDR2D</td>\n",
       "      <td>73950.366545</td>\n",
       "    </tr>\n",
       "    <tr>\n",
       "      <th>92</th>\n",
       "      <td>DR1.320Z</td>\n",
       "      <td>45473.177878</td>\n",
       "    </tr>\n",
       "    <tr>\n",
       "      <th>40</th>\n",
       "      <td>DR1TACAR</td>\n",
       "      <td>26059.746603</td>\n",
       "    </tr>\n",
       "    <tr>\n",
       "      <th>41</th>\n",
       "      <td>DR1TBCAR</td>\n",
       "      <td>19188.104158</td>\n",
       "    </tr>\n",
       "    <tr>\n",
       "      <th>59</th>\n",
       "      <td>DR1TCALC</td>\n",
       "      <td>18754.668038</td>\n",
       "    </tr>\n",
       "    <tr>\n",
       "      <th>35</th>\n",
       "      <td>DR1TCHOL</td>\n",
       "      <td>13031.153021</td>\n",
       "    </tr>\n",
       "    <tr>\n",
       "      <th>26</th>\n",
       "      <td>DR1TKCAL</td>\n",
       "      <td>11643.963832</td>\n",
       "    </tr>\n",
       "    <tr>\n",
       "      <th>29</th>\n",
       "      <td>DR1TSUGR</td>\n",
       "      <td>10637.720809</td>\n",
       "    </tr>\n",
       "    <tr>\n",
       "      <th>50</th>\n",
       "      <td>DR1TFA</td>\n",
       "      <td>7785.997324</td>\n",
       "    </tr>\n",
       "    <tr>\n",
       "      <th>66</th>\n",
       "      <td>DR1TPOTA</td>\n",
       "      <td>7579.742274</td>\n",
       "    </tr>\n",
       "    <tr>\n",
       "      <th>18</th>\n",
       "      <td>DRQSDT7</td>\n",
       "      <td>7378.056183</td>\n",
       "    </tr>\n",
       "    <tr>\n",
       "      <th>53</th>\n",
       "      <td>DR1TCHL</td>\n",
       "      <td>7370.896866</td>\n",
       "    </tr>\n",
       "    <tr>\n",
       "      <th>69</th>\n",
       "      <td>DR1TTHEO</td>\n",
       "      <td>6583.053823</td>\n",
       "    </tr>\n",
       "    <tr>\n",
       "      <th>28</th>\n",
       "      <td>DR1TCARB</td>\n",
       "      <td>5338.566223</td>\n",
       "    </tr>\n",
       "    <tr>\n",
       "      <th>65</th>\n",
       "      <td>DR1TSODI</td>\n",
       "      <td>5179.065122</td>\n",
       "    </tr>\n",
       "    <tr>\n",
       "      <th>56</th>\n",
       "      <td>DR1TVC</td>\n",
       "      <td>4937.123083</td>\n",
       "    </tr>\n",
       "    <tr>\n",
       "      <th>52</th>\n",
       "      <td>DR1TFDFE</td>\n",
       "      <td>3685.486512</td>\n",
       "    </tr>\n",
       "    <tr>\n",
       "      <th>38</th>\n",
       "      <td>DR1TRET</td>\n",
       "      <td>3061.123928</td>\n",
       "    </tr>\n",
       "    <tr>\n",
       "      <th>58</th>\n",
       "      <td>DR1TVK</td>\n",
       "      <td>2683.069420</td>\n",
       "    </tr>\n",
       "    <tr>\n",
       "      <th>51</th>\n",
       "      <td>DR1TFF</td>\n",
       "      <td>1963.937029</td>\n",
       "    </tr>\n",
       "    <tr>\n",
       "      <th>93</th>\n",
       "      <td>DR1.330Z</td>\n",
       "      <td>1174.418199</td>\n",
       "    </tr>\n",
       "    <tr>\n",
       "      <th>70</th>\n",
       "      <td>DR1TALCO</td>\n",
       "      <td>1081.758624</td>\n",
       "    </tr>\n",
       "    <tr>\n",
       "      <th>39</th>\n",
       "      <td>DR1TVARA</td>\n",
       "      <td>914.029728</td>\n",
       "    </tr>\n",
       "    <tr>\n",
       "      <th>61</th>\n",
       "      <td>DR1TMAGN</td>\n",
       "      <td>811.354497</td>\n",
       "    </tr>\n",
       "    <tr>\n",
       "      <th>43</th>\n",
       "      <td>DR1TLYCO</td>\n",
       "      <td>777.047659</td>\n",
       "    </tr>\n",
       "    <tr>\n",
       "      <th>...</th>\n",
       "      <td>...</td>\n",
       "      <td>...</td>\n",
       "    </tr>\n",
       "    <tr>\n",
       "      <th>31</th>\n",
       "      <td>DR1TTFAT</td>\n",
       "      <td>5.548119</td>\n",
       "    </tr>\n",
       "    <tr>\n",
       "      <th>3</th>\n",
       "      <td>DRABF</td>\n",
       "      <td>5.539130</td>\n",
       "    </tr>\n",
       "    <tr>\n",
       "      <th>91</th>\n",
       "      <td>DR1.300</td>\n",
       "      <td>4.850910</td>\n",
       "    </tr>\n",
       "    <tr>\n",
       "      <th>83</th>\n",
       "      <td>DR1TM221</td>\n",
       "      <td>4.766732</td>\n",
       "    </tr>\n",
       "    <tr>\n",
       "      <th>46</th>\n",
       "      <td>DR1TVB2</td>\n",
       "      <td>4.574426</td>\n",
       "    </tr>\n",
       "    <tr>\n",
       "      <th>79</th>\n",
       "      <td>DR1TS180</td>\n",
       "      <td>3.434189</td>\n",
       "    </tr>\n",
       "    <tr>\n",
       "      <th>100</th>\n",
       "      <td>DRD350BQ</td>\n",
       "      <td>3.363488</td>\n",
       "    </tr>\n",
       "    <tr>\n",
       "      <th>111</th>\n",
       "      <td>DRD350H</td>\n",
       "      <td>3.291333</td>\n",
       "    </tr>\n",
       "    <tr>\n",
       "      <th>102</th>\n",
       "      <td>DRD350CQ</td>\n",
       "      <td>3.247548</td>\n",
       "    </tr>\n",
       "    <tr>\n",
       "      <th>64</th>\n",
       "      <td>DR1TCOPP</td>\n",
       "      <td>3.123914</td>\n",
       "    </tr>\n",
       "    <tr>\n",
       "      <th>84</th>\n",
       "      <td>DR1TP182</td>\n",
       "      <td>2.604999</td>\n",
       "    </tr>\n",
       "    <tr>\n",
       "      <th>63</th>\n",
       "      <td>DR1TZINC</td>\n",
       "      <td>2.386692</td>\n",
       "    </tr>\n",
       "    <tr>\n",
       "      <th>62</th>\n",
       "      <td>DR1TIRON</td>\n",
       "      <td>2.247608</td>\n",
       "    </tr>\n",
       "    <tr>\n",
       "      <th>82</th>\n",
       "      <td>DR1TM201</td>\n",
       "      <td>1.978110</td>\n",
       "    </tr>\n",
       "    <tr>\n",
       "      <th>116</th>\n",
       "      <td>DRD350JQ</td>\n",
       "      <td>1.794243</td>\n",
       "    </tr>\n",
       "    <tr>\n",
       "      <th>76</th>\n",
       "      <td>DR1TS120</td>\n",
       "      <td>1.524420</td>\n",
       "    </tr>\n",
       "    <tr>\n",
       "      <th>89</th>\n",
       "      <td>DR1TP225</td>\n",
       "      <td>1.428361</td>\n",
       "    </tr>\n",
       "    <tr>\n",
       "      <th>9</th>\n",
       "      <td>DR1STY</td>\n",
       "      <td>1.217934</td>\n",
       "    </tr>\n",
       "    <tr>\n",
       "      <th>96</th>\n",
       "      <td>DRD340</td>\n",
       "      <td>1.151715</td>\n",
       "    </tr>\n",
       "    <tr>\n",
       "      <th>80</th>\n",
       "      <td>DR1TM161</td>\n",
       "      <td>1.108374</td>\n",
       "    </tr>\n",
       "    <tr>\n",
       "      <th>154</th>\n",
       "      <td>DRD370RQ</td>\n",
       "      <td>1.045048</td>\n",
       "    </tr>\n",
       "    <tr>\n",
       "      <th>88</th>\n",
       "      <td>DR1TP205</td>\n",
       "      <td>0.988230</td>\n",
       "    </tr>\n",
       "    <tr>\n",
       "      <th>47</th>\n",
       "      <td>DR1TNIAC</td>\n",
       "      <td>0.914946</td>\n",
       "    </tr>\n",
       "    <tr>\n",
       "      <th>106</th>\n",
       "      <td>DRD350EQ</td>\n",
       "      <td>0.528650</td>\n",
       "    </tr>\n",
       "    <tr>\n",
       "      <th>112</th>\n",
       "      <td>DRD350HQ</td>\n",
       "      <td>0.181592</td>\n",
       "    </tr>\n",
       "    <tr>\n",
       "      <th>45</th>\n",
       "      <td>DR1TVB1</td>\n",
       "      <td>0.057011</td>\n",
       "    </tr>\n",
       "    <tr>\n",
       "      <th>98</th>\n",
       "      <td>DRD350AQ</td>\n",
       "      <td>0.023560</td>\n",
       "    </tr>\n",
       "    <tr>\n",
       "      <th>148</th>\n",
       "      <td>DRD370OQ</td>\n",
       "      <td>0.023326</td>\n",
       "    </tr>\n",
       "    <tr>\n",
       "      <th>86</th>\n",
       "      <td>DR1TP184</td>\n",
       "      <td>0.010281</td>\n",
       "    </tr>\n",
       "    <tr>\n",
       "      <th>16</th>\n",
       "      <td>DRQSDT5</td>\n",
       "      <td>NaN</td>\n",
       "    </tr>\n",
       "  </tbody>\n",
       "</table>\n",
       "<p>162 rows × 2 columns</p>\n",
       "</div>"
      ],
      "text/plain": [
       "      Feature         Scores\n",
       "71   DR1TMOIS  145222.231512\n",
       "94   DR1BWATZ  113532.480244\n",
       "44     DR1TLZ  110123.208694\n",
       "0      WTDRD1  105215.342461\n",
       "68   DR1TCAFF   75362.080163\n",
       "1      WTDR2D   73950.366545\n",
       "92   DR1.320Z   45473.177878\n",
       "40   DR1TACAR   26059.746603\n",
       "41   DR1TBCAR   19188.104158\n",
       "59   DR1TCALC   18754.668038\n",
       "35   DR1TCHOL   13031.153021\n",
       "26   DR1TKCAL   11643.963832\n",
       "29   DR1TSUGR   10637.720809\n",
       "50     DR1TFA    7785.997324\n",
       "66   DR1TPOTA    7579.742274\n",
       "18    DRQSDT7    7378.056183\n",
       "53    DR1TCHL    7370.896866\n",
       "69   DR1TTHEO    6583.053823\n",
       "28   DR1TCARB    5338.566223\n",
       "65   DR1TSODI    5179.065122\n",
       "56     DR1TVC    4937.123083\n",
       "52   DR1TFDFE    3685.486512\n",
       "38    DR1TRET    3061.123928\n",
       "58     DR1TVK    2683.069420\n",
       "51     DR1TFF    1963.937029\n",
       "93   DR1.330Z    1174.418199\n",
       "70   DR1TALCO    1081.758624\n",
       "39   DR1TVARA     914.029728\n",
       "61   DR1TMAGN     811.354497\n",
       "43   DR1TLYCO     777.047659\n",
       "..        ...            ...\n",
       "31   DR1TTFAT       5.548119\n",
       "3       DRABF       5.539130\n",
       "91    DR1.300       4.850910\n",
       "83   DR1TM221       4.766732\n",
       "46    DR1TVB2       4.574426\n",
       "79   DR1TS180       3.434189\n",
       "100  DRD350BQ       3.363488\n",
       "111   DRD350H       3.291333\n",
       "102  DRD350CQ       3.247548\n",
       "64   DR1TCOPP       3.123914\n",
       "84   DR1TP182       2.604999\n",
       "63   DR1TZINC       2.386692\n",
       "62   DR1TIRON       2.247608\n",
       "82   DR1TM201       1.978110\n",
       "116  DRD350JQ       1.794243\n",
       "76   DR1TS120       1.524420\n",
       "89   DR1TP225       1.428361\n",
       "9      DR1STY       1.217934\n",
       "96     DRD340       1.151715\n",
       "80   DR1TM161       1.108374\n",
       "154  DRD370RQ       1.045048\n",
       "88   DR1TP205       0.988230\n",
       "47   DR1TNIAC       0.914946\n",
       "106  DRD350EQ       0.528650\n",
       "112  DRD350HQ       0.181592\n",
       "45    DR1TVB1       0.057011\n",
       "98   DRD350AQ       0.023560\n",
       "148  DRD370OQ       0.023326\n",
       "86   DR1TP184       0.010281\n",
       "16    DRQSDT5            NaN\n",
       "\n",
       "[162 rows x 2 columns]"
      ]
     },
     "execution_count": 38,
     "metadata": {},
     "output_type": "execute_result"
    }
   ],
   "source": [
    "select_feature_df = pd.DataFrame({'Feature':list(X_train.columns),\n",
    "                                 'Scores': select_feature.scores_})\n",
    "select_feature_df.sort_values(by='Scores', ascending=False )"
   ]
  },
  {
   "cell_type": "code",
   "execution_count": 44,
   "metadata": {
    "ExecuteTime": {
     "end_time": "2020-01-22T03:38:23.429814Z",
     "start_time": "2020-01-22T03:38:23.416822Z"
    }
   },
   "outputs": [],
   "source": [
    "X_train_chi = select_feature.transform(X_train_sm)\n",
    "X_test_chi = select_feature.transform(X_test)"
   ]
  },
  {
   "cell_type": "code",
   "execution_count": 45,
   "metadata": {
    "ExecuteTime": {
     "end_time": "2020-01-22T03:38:25.520815Z",
     "start_time": "2020-01-22T03:38:25.514309Z"
    }
   },
   "outputs": [
    {
     "data": {
      "text/plain": [
       "{'k': 5,\n",
       " 'score_func': <function sklearn.feature_selection._univariate_selection.chi2(X, y)>}"
      ]
     },
     "execution_count": 45,
     "metadata": {},
     "output_type": "execute_result"
    }
   ],
   "source": [
    "select_feature.get_params()"
   ]
  },
  {
   "cell_type": "code",
   "execution_count": 46,
   "metadata": {
    "ExecuteTime": {
     "end_time": "2020-01-22T03:38:27.036824Z",
     "start_time": "2020-01-22T03:38:26.769811Z"
    }
   },
   "outputs": [
    {
     "data": {
      "text/plain": [
       "RandomForestClassifier(bootstrap=True, ccp_alpha=0.0, class_weight=None,\n",
       "                       criterion='entropy', max_depth=1, max_features='auto',\n",
       "                       max_leaf_nodes=None, max_samples=None,\n",
       "                       min_impurity_decrease=0.0, min_impurity_split=None,\n",
       "                       min_samples_leaf=1, min_samples_split=2,\n",
       "                       min_weight_fraction_leaf=0.0, n_estimators=50,\n",
       "                       n_jobs=None, oob_score=False, random_state=None,\n",
       "                       verbose=0, warm_start=False)"
      ]
     },
     "execution_count": 46,
     "metadata": {},
     "output_type": "execute_result"
    }
   ],
   "source": [
    "rf2.fit(X_train_chi, y_train_sm)"
   ]
  },
  {
   "cell_type": "code",
   "execution_count": 47,
   "metadata": {
    "ExecuteTime": {
     "end_time": "2020-01-22T03:38:29.000821Z",
     "start_time": "2020-01-22T03:38:28.927816Z"
    }
   },
   "outputs": [],
   "source": [
    "train_pred_chi = rf2.predict(X_train_chi)\n",
    "test_pred_chi = rf2.predict(X_test_chi)"
   ]
  },
  {
   "cell_type": "code",
   "execution_count": 48,
   "metadata": {
    "ExecuteTime": {
     "end_time": "2020-01-22T03:38:32.249157Z",
     "start_time": "2020-01-22T03:38:31.979813Z"
    }
   },
   "outputs": [
    {
     "name": "stdout",
     "output_type": "stream",
     "text": [
      "Confusion Matrix test: \n"
     ]
    },
    {
     "data": {
      "image/png": "[encoded data removed]",
      "text/plain": [
       "<Figure size 432x288 with 2 Axes>"
      ]
     },
     "metadata": {
      "needs_background": "light"
     },
     "output_type": "display_data"
    }
   ],
   "source": [
    "cm(y_train_sm, train_pred_chi)"
   ]
  },
  {
   "cell_type": "code",
   "execution_count": 49,
   "metadata": {
    "ExecuteTime": {
     "end_time": "2020-01-22T03:38:37.732188Z",
     "start_time": "2020-01-22T03:38:37.688158Z"
    }
   },
   "outputs": [
    {
     "name": "stdout",
     "output_type": "stream",
     "text": [
      "              precision    recall  f1-score   support\n",
      "\n",
      "         0.0       0.69      0.59      0.64      6729\n",
      "         1.0       0.64      0.74      0.69      6729\n",
      "\n",
      "    accuracy                           0.66     13458\n",
      "   macro avg       0.67      0.66      0.66     13458\n",
      "weighted avg       0.67      0.66      0.66     13458\n",
      "\n"
     ]
    }
   ],
   "source": [
    "print(classification_report(y_train_sm, train_pred_chi))"
   ]
  },
  {
   "cell_type": "code",
   "execution_count": 50,
   "metadata": {
    "ExecuteTime": {
     "end_time": "2020-01-22T03:38:53.767983Z",
     "start_time": "2020-01-22T03:38:53.522984Z"
    }
   },
   "outputs": [
    {
     "name": "stdout",
     "output_type": "stream",
     "text": [
      "Confusion Matrix test: \n"
     ]
    },
    {
     "data": {
      "image/png": "[encoded data removed]",
      "text/plain": [
       "<Figure size 432x288 with 2 Axes>"
      ]
     },
     "metadata": {
      "needs_background": "light"
     },
     "output_type": "display_data"
    }
   ],
   "source": [
    "cm(y_test, test_pred_chi)"
   ]
  },
  {
   "cell_type": "code",
   "execution_count": 51,
   "metadata": {
    "ExecuteTime": {
     "end_time": "2020-01-22T03:39:10.802223Z",
     "start_time": "2020-01-22T03:39:10.786258Z"
    }
   },
   "outputs": [
    {
     "name": "stdout",
     "output_type": "stream",
     "text": [
      "              precision    recall  f1-score   support\n",
      "\n",
      "         0.0       0.92      0.57      0.71      1663\n",
      "         1.0       0.14      0.59      0.22       193\n",
      "\n",
      "    accuracy                           0.58      1856\n",
      "   macro avg       0.53      0.58      0.47      1856\n",
      "weighted avg       0.84      0.58      0.66      1856\n",
      "\n"
     ]
    }
   ],
   "source": [
    "print(classification_report(y_test, test_pred_chi))"
   ]
  },
  {
   "cell_type": "code",
   "execution_count": 53,
   "metadata": {
    "ExecuteTime": {
     "end_time": "2020-01-22T04:00:23.379803Z",
     "start_time": "2020-01-22T03:41:34.418989Z"
    }
   },
   "outputs": [
    {
     "data": {
      "text/html": [
       "<div>\n",
       "<style scoped>\n",
       "    .dataframe tbody tr th:only-of-type {\n",
       "        vertical-align: middle;\n",
       "    }\n",
       "\n",
       "    .dataframe tbody tr th {\n",
       "        vertical-align: top;\n",
       "    }\n",
       "\n",
       "    .dataframe thead th {\n",
       "        text-align: right;\n",
       "    }\n",
       "</style>\n",
       "<table border=\"1\" class=\"dataframe\">\n",
       "  <thead>\n",
       "    <tr style=\"text-align: right;\">\n",
       "      <th></th>\n",
       "      <th>n</th>\n",
       "      <th>p</th>\n",
       "      <th>score</th>\n",
       "      <th>score_ratio</th>\n",
       "    </tr>\n",
       "  </thead>\n",
       "  <tbody>\n",
       "    <tr>\n",
       "      <th>5</th>\n",
       "      <td>2</td>\n",
       "      <td>1.5</td>\n",
       "      <td>0.799569</td>\n",
       "      <td>0.844565</td>\n",
       "    </tr>\n",
       "    <tr>\n",
       "      <th>9</th>\n",
       "      <td>6</td>\n",
       "      <td>1.5</td>\n",
       "      <td>0.723599</td>\n",
       "      <td>0.843718</td>\n",
       "    </tr>\n",
       "    <tr>\n",
       "      <th>4</th>\n",
       "      <td>6</td>\n",
       "      <td>1.0</td>\n",
       "      <td>0.723599</td>\n",
       "      <td>0.841313</td>\n",
       "    </tr>\n",
       "    <tr>\n",
       "      <th>10</th>\n",
       "      <td>2</td>\n",
       "      <td>2.0</td>\n",
       "      <td>0.793642</td>\n",
       "      <td>0.840481</td>\n",
       "    </tr>\n",
       "    <tr>\n",
       "      <th>20</th>\n",
       "      <td>2</td>\n",
       "      <td>3.0</td>\n",
       "      <td>0.790409</td>\n",
       "      <td>0.840032</td>\n",
       "    </tr>\n",
       "    <tr>\n",
       "      <th>14</th>\n",
       "      <td>6</td>\n",
       "      <td>2.0</td>\n",
       "      <td>0.718211</td>\n",
       "      <td>0.839545</td>\n",
       "    </tr>\n",
       "    <tr>\n",
       "      <th>12</th>\n",
       "      <td>4</td>\n",
       "      <td>2.0</td>\n",
       "      <td>0.743534</td>\n",
       "      <td>0.839400</td>\n",
       "    </tr>\n",
       "    <tr>\n",
       "      <th>25</th>\n",
       "      <td>2</td>\n",
       "      <td>3.5</td>\n",
       "      <td>0.788793</td>\n",
       "      <td>0.839242</td>\n",
       "    </tr>\n",
       "    <tr>\n",
       "      <th>7</th>\n",
       "      <td>4</td>\n",
       "      <td>1.5</td>\n",
       "      <td>0.746228</td>\n",
       "      <td>0.838432</td>\n",
       "    </tr>\n",
       "    <tr>\n",
       "      <th>35</th>\n",
       "      <td>2</td>\n",
       "      <td>4.5</td>\n",
       "      <td>0.786638</td>\n",
       "      <td>0.838208</td>\n",
       "    </tr>\n",
       "  </tbody>\n",
       "</table>\n",
       "</div>"
      ],
      "text/plain": [
       "    n    p     score  score_ratio\n",
       "5   2  1.5  0.799569     0.844565\n",
       "9   6  1.5  0.723599     0.843718\n",
       "4   6  1.0  0.723599     0.841313\n",
       "10  2  2.0  0.793642     0.840481\n",
       "20  2  3.0  0.790409     0.840032\n",
       "14  6  2.0  0.718211     0.839545\n",
       "12  4  2.0  0.743534     0.839400\n",
       "25  2  3.5  0.788793     0.839242\n",
       "7   4  1.5  0.746228     0.838432\n",
       "35  2  4.5  0.786638     0.838208"
      ]
     },
     "execution_count": 53,
     "metadata": {},
     "output_type": "execute_result"
    }
   ],
   "source": [
    "dlist = []\n",
    "for p in np.linspace(1, 5, 9):\n",
    "    for n in [2, 3, 4, 5, 6,]:\n",
    "        d = {}\n",
    "        d['p'] = p\n",
    "        d['n'] = n\n",
    "        knn = KNeighborsClassifier(n_neighbors=n, p=p)\n",
    "        knn.fit(X_train_sm, y_train_sm)\n",
    "        score_test = knn.score(X_test, y_test)\n",
    "        score_train = knn.score(X_train_sm, y_train_sm)\n",
    "        score_ratio = min([score_train/score_test, score_test/score_train])\n",
    "        d['score'] = score_test\n",
    "        d['score_ratio'] = score_ratio\n",
    "        dlist.append(d)\n",
    "        \n",
    "score_df = pd.DataFrame(dlist)\n",
    "score_df.sort_values(by=['score_ratio', 'score'], ascending=False, inplace=True)\n",
    "score_df.head(10)"
   ]
  },
  {
   "cell_type": "code",
   "execution_count": 55,
   "metadata": {
    "ExecuteTime": {
     "end_time": "2020-01-22T04:01:34.911404Z",
     "start_time": "2020-01-22T04:01:34.801406Z"
    }
   },
   "outputs": [],
   "source": [
    "scaler = StandardScaler()\n",
    "X_scaled_train = scaler.fit_transform(X_train_sm)\n",
    "X_scaled_test = scaler.transform(X_test)\n"
   ]
  },
  {
   "cell_type": "code",
   "execution_count": 57,
   "metadata": {
    "ExecuteTime": {
     "end_time": "2020-01-22T04:02:31.638080Z",
     "start_time": "2020-01-22T04:02:22.259080Z"
    }
   },
   "outputs": [
    {
     "name": "stdout",
     "output_type": "stream",
     "text": [
      "0.8561422413793104\n"
     ]
    }
   ],
   "source": [
    "knn = KNeighborsClassifier(n_neighbors=6, p=1)\n",
    "knn.fit(X_scaled_train, y_train_sm)\n",
    "\n",
    "print(knn.score(X_scaled_test, y_test))"
   ]
  },
  {
   "cell_type": "code",
   "execution_count": 59,
   "metadata": {
    "ExecuteTime": {
     "end_time": "2020-01-22T11:27:56.611640Z",
     "start_time": "2020-01-22T04:03:14.568271Z"
    }
   },
   "outputs": [
    {
     "data": {
      "text/html": [
       "<div>\n",
       "<style scoped>\n",
       "    .dataframe tbody tr th:only-of-type {\n",
       "        vertical-align: middle;\n",
       "    }\n",
       "\n",
       "    .dataframe tbody tr th {\n",
       "        vertical-align: top;\n",
       "    }\n",
       "\n",
       "    .dataframe thead th {\n",
       "        text-align: right;\n",
       "    }\n",
       "</style>\n",
       "<table border=\"1\" class=\"dataframe\">\n",
       "  <thead>\n",
       "    <tr style=\"text-align: right;\">\n",
       "      <th></th>\n",
       "      <th>n</th>\n",
       "      <th>p</th>\n",
       "      <th>score</th>\n",
       "      <th>score_ratio</th>\n",
       "    </tr>\n",
       "  </thead>\n",
       "  <tbody>\n",
       "    <tr>\n",
       "      <th>4</th>\n",
       "      <td>6</td>\n",
       "      <td>1.0</td>\n",
       "      <td>0.856142</td>\n",
       "      <td>0.920285</td>\n",
       "    </tr>\n",
       "    <tr>\n",
       "      <th>2</th>\n",
       "      <td>4</td>\n",
       "      <td>1.0</td>\n",
       "      <td>0.859914</td>\n",
       "      <td>0.916288</td>\n",
       "    </tr>\n",
       "    <tr>\n",
       "      <th>0</th>\n",
       "      <td>2</td>\n",
       "      <td>1.0</td>\n",
       "      <td>0.869612</td>\n",
       "      <td>0.913032</td>\n",
       "    </tr>\n",
       "    <tr>\n",
       "      <th>3</th>\n",
       "      <td>5</td>\n",
       "      <td>1.0</td>\n",
       "      <td>0.836746</td>\n",
       "      <td>0.904783</td>\n",
       "    </tr>\n",
       "    <tr>\n",
       "      <th>1</th>\n",
       "      <td>3</td>\n",
       "      <td>1.0</td>\n",
       "      <td>0.836746</td>\n",
       "      <td>0.899076</td>\n",
       "    </tr>\n",
       "    <tr>\n",
       "      <th>5</th>\n",
       "      <td>2</td>\n",
       "      <td>1.5</td>\n",
       "      <td>0.845905</td>\n",
       "      <td>0.888072</td>\n",
       "    </tr>\n",
       "    <tr>\n",
       "      <th>9</th>\n",
       "      <td>6</td>\n",
       "      <td>1.5</td>\n",
       "      <td>0.805496</td>\n",
       "      <td>0.884855</td>\n",
       "    </tr>\n",
       "    <tr>\n",
       "      <th>7</th>\n",
       "      <td>4</td>\n",
       "      <td>1.5</td>\n",
       "      <td>0.820043</td>\n",
       "      <td>0.884519</td>\n",
       "    </tr>\n",
       "    <tr>\n",
       "      <th>8</th>\n",
       "      <td>5</td>\n",
       "      <td>1.5</td>\n",
       "      <td>0.788254</td>\n",
       "      <td>0.875491</td>\n",
       "    </tr>\n",
       "    <tr>\n",
       "      <th>6</th>\n",
       "      <td>3</td>\n",
       "      <td>1.5</td>\n",
       "      <td>0.800108</td>\n",
       "      <td>0.870974</td>\n",
       "    </tr>\n",
       "  </tbody>\n",
       "</table>\n",
       "</div>"
      ],
      "text/plain": [
       "   n    p     score  score_ratio\n",
       "4  6  1.0  0.856142     0.920285\n",
       "2  4  1.0  0.859914     0.916288\n",
       "0  2  1.0  0.869612     0.913032\n",
       "3  5  1.0  0.836746     0.904783\n",
       "1  3  1.0  0.836746     0.899076\n",
       "5  2  1.5  0.845905     0.888072\n",
       "9  6  1.5  0.805496     0.884855\n",
       "7  4  1.5  0.820043     0.884519\n",
       "8  5  1.5  0.788254     0.875491\n",
       "6  3  1.5  0.800108     0.870974"
      ]
     },
     "execution_count": 59,
     "metadata": {},
     "output_type": "execute_result"
    }
   ],
   "source": [
    "dlist2 = []\n",
    "for p in np.linspace(1, 5, 9):\n",
    "    for n in [2, 3, 4, 5, 6,]:\n",
    "        d = {}\n",
    "        d['p'] = p\n",
    "        d['n'] = n\n",
    "        knn = KNeighborsClassifier(n_neighbors=n, p=p)\n",
    "        knn.fit(X_scaled_train, y_train_sm)\n",
    "        score_test = knn.score(X_scaled_test, y_test)\n",
    "        score_train = knn.score(X_scaled_train, y_train_sm)\n",
    "        score_ratio = min([score_train/score_test, score_test/score_train])\n",
    "        d['score'] = score_test\n",
    "        d['score_ratio'] = score_ratio\n",
    "        dlist2.append(d)\n",
    "        \n",
    "score_df2 = pd.DataFrame(dlist2)\n",
    "score_df2.sort_values(by=['score_ratio', 'score'], ascending=False, inplace=True)\n",
    "score_df2.head(10)"
   ]
  },
  {
   "cell_type": "code",
   "execution_count": 60,
   "metadata": {
    "ExecuteTime": {
     "end_time": "2020-01-22T16:13:05.021838Z",
     "start_time": "2020-01-22T16:12:56.221632Z"
    }
   },
   "outputs": [
    {
     "name": "stdout",
     "output_type": "stream",
     "text": [
      "0.8561422413793104\n"
     ]
    }
   ],
   "source": [
    "knn = KNeighborsClassifier(n_neighbors=6, p=1)\n",
    "knn.fit(X_scaled_train, y_train_sm)\n",
    "\n",
    "print(knn.score(X_scaled_test, y_test))"
   ]
  },
  {
   "cell_type": "code",
   "execution_count": 65,
   "metadata": {
    "ExecuteTime": {
     "end_time": "2020-01-22T16:22:38.725340Z",
     "start_time": "2020-01-22T16:21:35.911345Z"
    }
   },
   "outputs": [],
   "source": [
    "train_pred_scale = knn.predict(X_scaled_train)\n",
    "test_pred_scale = knn.predict(X_scaled_test)"
   ]
  },
  {
   "cell_type": "code",
   "execution_count": 67,
   "metadata": {
    "ExecuteTime": {
     "end_time": "2020-01-22T21:26:13.343754Z",
     "start_time": "2020-01-22T21:26:13.055754Z"
    }
   },
   "outputs": [
    {
     "name": "stdout",
     "output_type": "stream",
     "text": [
      "Confusion Matrix test: \n"
     ]
    },
    {
     "data": {
      "image/png": "[encoded data removed]",
      "text/plain": [
       "<Figure size 432x288 with 2 Axes>"
      ]
     },
     "metadata": {
      "needs_background": "light"
     },
     "output_type": "display_data"
    }
   ],
   "source": [
    "cm(test_pred_scale, y_test)"
   ]
  },
  {
   "cell_type": "code",
   "execution_count": null,
   "metadata": {},
   "outputs": [],
   "source": []
  }
 ],
 "metadata": {
  "kernelspec": {
   "display_name": "Python [conda env:learn-env] *",
   "language": "python",
   "name": "conda-env-learn-env-py"
  },
  "language_info": {
   "codemirror_mode": {
    "name": "ipython",
    "version": 3
   },
   "file_extension": ".py",
   "mimetype": "text/x-python",
   "name": "python",
   "nbconvert_exporter": "python",
   "pygments_lexer": "ipython3",
   "version": "3.6.6"
  },
  "toc": {
   "base_numbering": 1,
   "nav_menu": {},
   "number_sections": false,
   "sideBar": true,
   "skip_h1_title": false,
   "title_cell": "Table of Contents",
   "title_sidebar": "Contents",
   "toc_cell": false,
   "toc_position": {},
   "toc_section_display": true,
   "toc_window_display": false
  },
  "varInspector": {
   "cols": {
    "lenName": 16,
    "lenType": 16,
    "lenVar": 40
   },
   "kernels_config": {
    "python": {
     "delete_cmd_postfix": "",
     "delete_cmd_prefix": "del ",
     "library": "var_list.py",
     "varRefreshCmd": "print(var_dic_list())"
    },
    "r": {
     "delete_cmd_postfix": ") ",
     "delete_cmd_prefix": "rm(",
     "library": "var_list.r",
     "varRefreshCmd": "cat(var_dic_list()) "
    }
   },
   "types_to_exclude": [
    "module",
    "function",
    "builtin_function_or_method",
    "instance",
    "_Feature"
   ],
   "window_display": false
  }
 },
 "nbformat": 4,
 "nbformat_minor": 2
}
